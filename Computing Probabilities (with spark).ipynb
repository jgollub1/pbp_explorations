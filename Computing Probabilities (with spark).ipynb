{
 "cells": [
  {
   "cell_type": "code",
   "execution_count": null,
   "metadata": {
    "collapsed": true
   },
   "outputs": [],
   "source": [
    "## NOTE: SOMETHING IS SCREWED UP WITH YOUR LOGIT PROBABILITIES...FIX THIS!!!"
   ]
  },
  {
   "cell_type": "code",
   "execution_count": 1,
   "metadata": {
    "collapsed": false
   },
   "outputs": [],
   "source": [
    "# import pandas as pd\n",
    "# import numpy as np\n",
    "\n",
    "# df_pred = pd.read_csv('../my_data/elo_pbp_with_surface_10_15.csv')\n",
    "# df_pred[['elo_diff_538','sf_elo_diff_538','elo_prob_538','logit_elo_538_prob']]"
   ]
  },
  {
   "cell_type": "code",
   "execution_count": 15,
   "metadata": {
    "collapsed": true
   },
   "outputs": [],
   "source": [
    "import sys\n",
    "sys.path.insert(0,'/Users/jacobgollub/Desktop/college/research/pbp_explorations/scripts/sackmann')\n",
    "import tennisGameProbability,tennisMatchProbability,tennisSetProbability,tennisTiebreakProbability\n",
    "from tennisMatchProbability import matchProb\n",
    "\n",
    "def match_prob(sv0,sv1,server,s0,s1,g0,g1,p0,p1):\n",
    "    if server:\n",
    "        return matchProb(sv0,1-sv1,mv=s0,mw=s1,sv=g0,sw=g1,gv=p0,gw=p1)\n",
    "    else:\n",
    "        return 1 - matchProb(sv1,1-sv0,mv=s1,mw=s0,sv=g1,sw=g0,gv=p1,gw=p0)"
   ]
  },
  {
   "cell_type": "code",
   "execution_count": 3,
   "metadata": {
    "collapsed": true
   },
   "outputs": [],
   "source": [
    "import pandas as pd\n",
    "import numpy as np\n",
    "\n",
    "df_pred = pd.read_csv('../my_data/feature_df_pbp3_10_2.csv')\n",
    "del df_pred['Unnamed: 0']"
   ]
  },
  {
   "cell_type": "code",
   "execution_count": 4,
   "metadata": {
    "collapsed": false
   },
   "outputs": [],
   "source": [
    "import findspark\n",
    "from pyspark.sql import SQLContext\n",
    "from pyspark import SparkContext\n",
    "\n",
    "sc = SparkContext()\n",
    "sqlContext = SQLContext(sc)\n",
    "# findspark.init()"
   ]
  },
  {
   "cell_type": "code",
   "execution_count": 8,
   "metadata": {
    "collapsed": true
   },
   "outputs": [],
   "source": [
    "#sc.stop()"
   ]
  },
  {
   "cell_type": "code",
   "execution_count": 7,
   "metadata": {
    "collapsed": true
   },
   "outputs": [
    {
     "ename": "KeyboardInterrupt",
     "evalue": "",
     "output_type": "error",
     "traceback": [
      "\u001b[0;31m---------------------------------------------------------------------------\u001b[0m",
      "\u001b[0;31mKeyboardInterrupt\u001b[0m                         Traceback (most recent call last)",
      "\u001b[0;32m<ipython-input-7-08182ab74f19>\u001b[0m in \u001b[0;36m<module>\u001b[0;34m()\u001b[0m\n\u001b[0;32m----> 1\u001b[0;31m \u001b[0mtrain\u001b[0m \u001b[0;34m=\u001b[0m \u001b[0msqlContext\u001b[0m\u001b[0;34m.\u001b[0m\u001b[0mcreateDataFrame\u001b[0m\u001b[0;34m(\u001b[0m\u001b[0mdf_pred\u001b[0m\u001b[0;34m)\u001b[0m\u001b[0;34m\u001b[0m\u001b[0m\n\u001b[0m",
      "\u001b[0;32m/Users/jacobgollub/anaconda/lib/spark/spark-2.2.0-bin-hadoop2.7/python/pyspark/sql/context.pyc\u001b[0m in \u001b[0;36mcreateDataFrame\u001b[0;34m(self, data, schema, samplingRatio, verifySchema)\u001b[0m\n\u001b[1;32m    331\u001b[0m         \u001b[0mPy4JJavaError\u001b[0m\u001b[0;34m:\u001b[0m \u001b[0;34m.\u001b[0m\u001b[0;34m.\u001b[0m\u001b[0;34m.\u001b[0m\u001b[0;34m\u001b[0m\u001b[0m\n\u001b[1;32m    332\u001b[0m         \"\"\"\n\u001b[0;32m--> 333\u001b[0;31m         \u001b[0;32mreturn\u001b[0m \u001b[0mself\u001b[0m\u001b[0;34m.\u001b[0m\u001b[0msparkSession\u001b[0m\u001b[0;34m.\u001b[0m\u001b[0mcreateDataFrame\u001b[0m\u001b[0;34m(\u001b[0m\u001b[0mdata\u001b[0m\u001b[0;34m,\u001b[0m \u001b[0mschema\u001b[0m\u001b[0;34m,\u001b[0m \u001b[0msamplingRatio\u001b[0m\u001b[0;34m,\u001b[0m \u001b[0mverifySchema\u001b[0m\u001b[0;34m)\u001b[0m\u001b[0;34m\u001b[0m\u001b[0m\n\u001b[0m\u001b[1;32m    334\u001b[0m \u001b[0;34m\u001b[0m\u001b[0m\n\u001b[1;32m    335\u001b[0m     \u001b[0;34m@\u001b[0m\u001b[0msince\u001b[0m\u001b[0;34m(\u001b[0m\u001b[0;36m1.3\u001b[0m\u001b[0;34m)\u001b[0m\u001b[0;34m\u001b[0m\u001b[0m\n",
      "\u001b[0;32m/Users/jacobgollub/anaconda/lib/spark/spark-2.2.0-bin-hadoop2.7/python/pyspark/sql/session.pyc\u001b[0m in \u001b[0;36mcreateDataFrame\u001b[0;34m(self, data, schema, samplingRatio, verifySchema)\u001b[0m\n\u001b[1;32m    513\u001b[0m             \u001b[0;32mif\u001b[0m \u001b[0mschema\u001b[0m \u001b[0;32mis\u001b[0m \u001b[0mNone\u001b[0m\u001b[0;34m:\u001b[0m\u001b[0;34m\u001b[0m\u001b[0m\n\u001b[1;32m    514\u001b[0m                 \u001b[0mschema\u001b[0m \u001b[0;34m=\u001b[0m \u001b[0;34m[\u001b[0m\u001b[0mstr\u001b[0m\u001b[0;34m(\u001b[0m\u001b[0mx\u001b[0m\u001b[0;34m)\u001b[0m \u001b[0;32mfor\u001b[0m \u001b[0mx\u001b[0m \u001b[0;32min\u001b[0m \u001b[0mdata\u001b[0m\u001b[0;34m.\u001b[0m\u001b[0mcolumns\u001b[0m\u001b[0;34m]\u001b[0m\u001b[0;34m\u001b[0m\u001b[0m\n\u001b[0;32m--> 515\u001b[0;31m             \u001b[0mdata\u001b[0m \u001b[0;34m=\u001b[0m \u001b[0;34m[\u001b[0m\u001b[0mr\u001b[0m\u001b[0;34m.\u001b[0m\u001b[0mtolist\u001b[0m\u001b[0;34m(\u001b[0m\u001b[0;34m)\u001b[0m \u001b[0;32mfor\u001b[0m \u001b[0mr\u001b[0m \u001b[0;32min\u001b[0m \u001b[0mdata\u001b[0m\u001b[0;34m.\u001b[0m\u001b[0mto_records\u001b[0m\u001b[0;34m(\u001b[0m\u001b[0mindex\u001b[0m\u001b[0;34m=\u001b[0m\u001b[0mFalse\u001b[0m\u001b[0;34m)\u001b[0m\u001b[0;34m]\u001b[0m\u001b[0;34m\u001b[0m\u001b[0m\n\u001b[0m\u001b[1;32m    516\u001b[0m \u001b[0;34m\u001b[0m\u001b[0m\n\u001b[1;32m    517\u001b[0m         \u001b[0mverify_func\u001b[0m \u001b[0;34m=\u001b[0m \u001b[0m_verify_type\u001b[0m \u001b[0;32mif\u001b[0m \u001b[0mverifySchema\u001b[0m \u001b[0;32melse\u001b[0m \u001b[0;32mlambda\u001b[0m \u001b[0m_\u001b[0m\u001b[0;34m,\u001b[0m \u001b[0mt\u001b[0m\u001b[0;34m:\u001b[0m \u001b[0mTrue\u001b[0m\u001b[0;34m\u001b[0m\u001b[0m\n",
      "\u001b[0;32m/Users/jacobgollub/anaconda/lib/python2.7/site-packages/numpy/core/records.pyc\u001b[0m in \u001b[0;36m__getitem__\u001b[0;34m(self, indx)\u001b[0m\n\u001b[1;32m    497\u001b[0m \u001b[0;34m\u001b[0m\u001b[0m\n\u001b[1;32m    498\u001b[0m     \u001b[0;32mdef\u001b[0m \u001b[0m__getitem__\u001b[0m\u001b[0;34m(\u001b[0m\u001b[0mself\u001b[0m\u001b[0;34m,\u001b[0m \u001b[0mindx\u001b[0m\u001b[0;34m)\u001b[0m\u001b[0;34m:\u001b[0m\u001b[0;34m\u001b[0m\u001b[0m\n\u001b[0;32m--> 499\u001b[0;31m         \u001b[0mobj\u001b[0m \u001b[0;34m=\u001b[0m \u001b[0msuper\u001b[0m\u001b[0;34m(\u001b[0m\u001b[0mrecarray\u001b[0m\u001b[0;34m,\u001b[0m \u001b[0mself\u001b[0m\u001b[0;34m)\u001b[0m\u001b[0;34m.\u001b[0m\u001b[0m__getitem__\u001b[0m\u001b[0;34m(\u001b[0m\u001b[0mindx\u001b[0m\u001b[0;34m)\u001b[0m\u001b[0;34m\u001b[0m\u001b[0m\n\u001b[0m\u001b[1;32m    500\u001b[0m \u001b[0;34m\u001b[0m\u001b[0m\n\u001b[1;32m    501\u001b[0m         \u001b[0;31m# copy behavior of getattr, except that here\u001b[0m\u001b[0;34m\u001b[0m\u001b[0;34m\u001b[0m\u001b[0m\n",
      "\u001b[0;31mKeyboardInterrupt\u001b[0m: "
     ]
    }
   ],
   "source": [
    "train = sqlContext.createDataFrame(df_pred)"
   ]
  },
  {
   "cell_type": "code",
   "execution_count": null,
   "metadata": {
    "collapsed": true
   },
   "outputs": [],
   "source": [
    "train.show()"
   ]
  },
  {
   "cell_type": "code",
   "execution_count": null,
   "metadata": {
    "collapsed": true
   },
   "outputs": [],
   "source": []
  },
  {
   "cell_type": "code",
   "execution_count": null,
   "metadata": {
    "collapsed": true
   },
   "outputs": [],
   "source": []
  },
  {
   "cell_type": "code",
   "execution_count": 1,
   "metadata": {
    "collapsed": true
   },
   "outputs": [],
   "source": [
    "# TO DO: analyze different methods, especially at different points of the match\n",
    "\n",
    "# TO DO: test a grid search of averaging historical with overall player percentages and see if any split (50-50,70-30,etc)\n",
    "# then, run grid search on alpha parameter, for beta distribution\n",
    "# run grid search on coefficients for combining elo/s_elo with serve percentages\n",
    "\n",
    "# then, apply all these methods to find the probability of winning the next point, game, set"
   ]
  },
  {
   "cell_type": "code",
   "execution_count": 1,
   "metadata": {
    "collapsed": false
   },
   "outputs": [],
   "source": [
    "import pandas as pd\n",
    "import numpy as np\n",
    "# f_av = 0.646775\n",
    "# g_av = 1 - f_av\n",
    "\n",
    "import sys\n",
    "sys.path.insert(0,'/Users/jacobgollub/Desktop/college/research/pbp_explorations/scripts/sackmann')\n",
    "import tennisGameProbability,tennisMatchProbability,tennisSetProbability,tennisTiebreakProbability\n",
    "from tennisMatchProbability import matchProb\n",
    "\n",
    "df_pred = pd.read_csv('../my_data/feature_df_pbp3_10_15.csv')\n",
    "del df_pred['Unnamed: 0']\n",
    "# can run beta experiments based off of p(s)=.64 as well as klaassen and JS serve percentages\n",
    "alphas = [1,10,100,200,300,400,500,600,1000]\n",
    "col = 's_kls_logit_elo_538'\n",
    "for alpha in alphas:\n",
    "    df_pred['p0_'+col+'_a_'+str(alpha)] = (df_pred['p0_'+col]*alpha+df_pred['p0_swp'])/(alpha+df_pred['p0_sp'])\n",
    "    df_pred['p1_'+col+'_a_'+str(alpha)] = (df_pred['p1_'+col]*alpha+df_pred['p1_swp'])/(alpha+df_pred['p1_sp'])"
   ]
  },
  {
   "cell_type": "code",
   "execution_count": null,
   "metadata": {
    "collapsed": false
   },
   "outputs": [],
   "source": [
    "for i,row in df_pred.iterrows():\n",
    "    if row['server']:\n",
    "        probs[3][i] = matchProb(row['p0_'+col],1-row['p1_'+col],mv=int(row['sets_0']),mw=int(row['sets_1']), \\\n",
    "                            sv=int(row['games_0']),sw=int(row['games_1']),gv=int(row['points_0']),gw=int(row['points_1']))\n",
    "    else:\n",
    "        probs[3][i] = 1 - matchProb(row['p1_'+col],1-row['p0_'+col],mv=int(row['sets_1']),mw=int(row['sets_0']), \\\n",
    "                            sv=int(row['games_1']),sw=int(row['games_0']),gv=int(row['points_1']),gw=int(row['points_0']))\n",
    "df_pred['klaassen_prob_logit_elo'] = probs[3]\n",
    "df_pred.to_csv('../my_data/feature_df_pbp3_10_15_probs.csv')"
   ]
  },
  {
   "cell_type": "code",
   "execution_count": 2,
   "metadata": {
    "collapsed": false
   },
   "outputs": [
    {
     "name": "stdout",
     "output_type": "stream",
     "text": [
      "0\n",
      "100000\n",
      "200000\n",
      "300000\n",
      "400000\n",
      "500000\n",
      "600000\n",
      "700000\n",
      "800000\n",
      "900000\n",
      "1000000\n",
      "1100000\n",
      "1200000\n",
      "24652.955841\n"
     ]
    }
   ],
   "source": [
    "import time\n",
    "start = time.clock()\n",
    "\n",
    "probs = np.zeros([15,len(df_pred)])\n",
    "for i,row in df_pred.iterrows():\n",
    "    if row['server']:\n",
    "#         probs[0][i] = matchProb(f_av,g_av,mv=int(row['sets_0']),mw=int(row['sets_1']),sv=int(row['games_0']), \\\n",
    "#                                 sw=int(row['games_1']),gv=int(row['points_0']),gw=int(row['points_1']))\n",
    "#         probs[1][i] = matchProb(row['p0_s_kls'],1-row['p1_s_kls'],mv=int(row['sets_0']),mw=int(row['sets_1']), \\\n",
    "#                                 sv=int(row['games_0']),sw=int(row['games_1']),gv=int(row['points_0']),gw=int(row['points_1']))\n",
    "        probs[2][i] = matchProb(row['p0_s_kls_JS'],1-row['p1_s_kls_JS'],mv=int(row['sets_0']),mw=int(row['sets_1']), \\\n",
    "                                sv=int(row['games_0']),sw=int(row['games_1']),gv=int(row['points_0']),gw=int(row['points_1']))\n",
    "#         probs[3][i] = matchProb(row['p0_s_kls_adj'],1-row['p1_s_kls_adj'],mv=int(row['sets_0']),mw=int(row['sets_1']), \\\n",
    "#                                 sv=int(row['games_0']),sw=int(row['games_1']),gv=int(row['points_0']),gw=int(row['points_1']))\n",
    "        \n",
    "        probs[4][i] = matchProb(row['p0_s_kls_adj_JS'],1-row['p1_s_kls_adj_JS'],mv=int(row['sets_0']),mw=int(row['sets_1']), \\\n",
    "                                sv=int(row['games_0']),sw=int(row['games_1']),gv=int(row['points_0']),gw=int(row['points_1']))\n",
    "        probs[5][i] = matchProb(row['p0_s_kls_elo'],1-row['p1_s_kls_elo'],mv=int(row['sets_0']),mw=int(row['sets_1']), \\\n",
    "                                sv=int(row['games_0']),sw=int(row['games_1']),gv=int(row['points_0']),gw=int(row['points_1']))\n",
    "        for k,alpha in enumerate(alphas):\n",
    "            probs[k+6][i] = matchProb(row['p0_'+col+'_a_'+str(alpha)],1-row['p1_'+col+'_a_'+str(alpha)],mv=int(row['sets_0']),mw=int(row['sets_1']), \\\n",
    "                            sv=int(row['games_0']),sw=int(row['games_1']),gv=int(row['points_0']),gw=int(row['points_1']))\n",
    "    else:\n",
    "#         probs[0][i] = 1-matchProb(f_av,g_av,mv=int(row['sets_1']),mw=int(row['sets_0']),sv=int(row['games_1']), \\\n",
    "#                                 sw=int(row['games_0']),gv=int(row['points_1']),gw=int(row['points_0']))\n",
    "#         probs[1][i] = 1-matchProb(row['p1_s_kls'],1-row['p0_s_kls'],mv=int(row['sets_1']),mw=int(row['sets_0']), \\\n",
    "#                                 sv=int(row['games_1']),sw=int(row['games_0']),gv=int(row['points_1']),gw=int(row['points_0']))\n",
    "        probs[2][i] = 1-matchProb(row['p1_s_kls_JS'],1-row['p0_s_kls_JS'],mv=int(row['sets_1']),mw=int(row['sets_0']), \\\n",
    "                                sv=int(row['games_1']),sw=int(row['games_0']),gv=int(row['points_1']),gw=int(row['points_0']))\n",
    "#         probs[3][i] = 1-matchProb(row['p1_s_kls_adj'],1-row['p0_s_kls_adj'],mv=int(row['sets_1']),mw=int(row['sets_0']), \\\n",
    "#                                 sv=int(row['games_1']),sw=int(row['games_0']),gv=int(row['points_1']),gw=int(row['points_0']))\n",
    "        probs[4][i] = 1-matchProb(row['p1_s_kls_adj_JS'],1-row['p0_s_kls_adj_JS'],mv=int(row['sets_1']),mw=int(row['sets_0']), \\\n",
    "                                sv=int(row['games_1']),sw=int(row['games_0']),gv=int(row['points_1']),gw=int(row['points_0']))\n",
    "        probs[5][i] = 1-matchProb(row['p1_s_kls_elo'],1-row['p0_s_kls_elo'],mv=int(row['sets_1']),mw=int(row['sets_0']), \\\n",
    "                                sv=int(row['games_1']),sw=int(row['games_0']),gv=int(row['points_1']),gw=int(row['points_0']))\n",
    "        for k,alpha in enumerate(alphas):\n",
    "            probs[k+6][i] = 1-matchProb(row['p1_'+col+'_a_'+str(alpha)],1-row['p0_'+col+'_a_'+str(alpha)],mv=int(row['sets_1']),mw=int(row['sets_0']), \\\n",
    "                            sv=int(row['games_1']),sw=int(row['games_0']),gv=int(row['points_1']),gw=int(row['points_0']))\n",
    "    \n",
    "    if i%100000==0:\n",
    "        print i\n",
    "\n",
    "# df_pred['sackmann_prob'],df_pred['klaassen_prob'],df_pred['klaassen_prob_JS'] = probs[0],probs[1],probs[2]\n",
    "# df_pred['klaassen_prob_adj'], df_pred['klaassen_prob_adj_JS'] = probs[3],probs[4]\n",
    "df_pred['klaassen_prob_JS'], df_pred['klaassen_prob_adj_JS'] = probs[2],probs[4]\n",
    "df_pred['klaassen_prob_elo'] = probs[5]\n",
    "df_pred['klaassen_prob_a_1'],df_pred['klaassen_prob_a_10'] = probs[6],probs[7]\n",
    "df_pred['klaassen_prob_a_100'], df_pred['klaassen_prob_a_200'] = probs[8],probs[9]\n",
    "df_pred['klaassen_prob_a_300'], df_pred['klaassen_prob_a_400'] = probs[10],probs[11]\n",
    "df_pred['klaassen_prob_a_500'], df_pred['klaassen_prob_a_600'] = probs[12],probs[13]\n",
    "df_pred['klaassen_prob_a_1000'] = probs[14]\n",
    "df_pred.to_csv('../my_data/feature_df_pbp3_10_15_probs.csv')\n",
    "print time.clock()-start"
   ]
  },
  {
   "cell_type": "code",
   "execution_count": null,
   "metadata": {
    "collapsed": true
   },
   "outputs": [],
   "source": []
  }
 ],
 "metadata": {
  "kernelspec": {
   "display_name": "Python 2",
   "language": "python",
   "name": "python2"
  },
  "language_info": {
   "codemirror_mode": {
    "name": "ipython",
    "version": 2
   },
   "file_extension": ".py",
   "mimetype": "text/x-python",
   "name": "python",
   "nbconvert_exporter": "python",
   "pygments_lexer": "ipython2",
   "version": "2.7.9"
  }
 },
 "nbformat": 4,
 "nbformat_minor": 0
}
