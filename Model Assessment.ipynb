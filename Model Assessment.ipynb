{
 "cells": [
  {
   "cell_type": "code",
   "execution_count": 1,
   "metadata": {
    "collapsed": true
   },
   "outputs": [],
   "source": [
    "# TO DO: 1) add interaction terms between features as an experiment\n",
    "# 2) check out datasets from atpworldtour's API"
   ]
  },
  {
   "cell_type": "code",
   "execution_count": null,
   "metadata": {
    "collapsed": true
   },
   "outputs": [],
   "source": [
    "# stratified makes sure the proportion of y-classes is consistent across splits;\n",
    "# probably not necessary for a dataset with ~8000 matches"
   ]
  },
  {
   "cell_type": "code",
   "execution_count": 1,
   "metadata": {
    "collapsed": false
   },
   "outputs": [
    {
     "name": "stderr",
     "output_type": "stream",
     "text": [
      "/Users/jacobgollub/anaconda/lib/python2.7/site-packages/ipykernel/__main__.py:33: RuntimeWarning: invalid value encountered in divide\n",
      "/Users/jacobgollub/anaconda/lib/python2.7/site-packages/ipykernel/__main__.py:34: RuntimeWarning: invalid value encountered in divide\n"
     ]
    }
   ],
   "source": [
    "## TO DO: try adding interaction terms, for example sets_won/sets_lost and service breaks\n",
    "\n",
    "## set up model assessment loop for just a few models\n",
    "## (to do this, you have to read the docs on NN, etc.)\n",
    "\n",
    "## then, try these out with a neural net etc because there is probably a non-linear relationship\n",
    "## (ie you gain more win-probability from 3 games needed to 1 vs 5 to 3)\n",
    "\n",
    "## also add features of Aces, double faults\n",
    "## \n",
    "## From an ML approach, it seems like only Logistic Regression and maybe Neural Net are feasible.\n",
    "## still, the issue lies in these being naive to score (adding a point,game, or set has the same\n",
    "## effect, regardless of where we are in the match)\n",
    "\n",
    "import numpy as np\n",
    "import math\n",
    "import time\n",
    "import pandas as pd\n",
    "from sklearn.metrics import log_loss\n",
    "from sklearn import linear_model\n",
    "from sklearn import ensemble\n",
    "from sklearn.svm import SVC\n",
    "from sklearn.model_selection import GroupKFold\n",
    "from sklearn.model_selection import KFold\n",
    "from sklearn.neural_network import MLPClassifier\n",
    "from sklearn.model_selection import StratifiedKFold\n",
    "\n",
    "\n",
    "#df_pred = pd.read_csv('feature_df_7_3.csv')\n",
    "#df_pred = pd.read_csv('feature_df_pbp3_7_13.csv')\n",
    "df_pred = pd.read_csv('../my_data/feature_df_pbp3_7_30.csv')\n",
    "del df_pred['Unnamed: 0'] #; del df_pred['score']\n",
    "df_pred['sv_points_pct_0'] = np.nan_to_num(np.divide(df_pred['p0_swp'],df_pred['p0_sp'].astype('float')))\n",
    "df_pred['sv_points_pct_1'] = np.nan_to_num(np.divide(df_pred['p1_swp'],df_pred['p1_sp'].astype('float')))\n",
    "#df_pred['winner'] = 1 - df_pred['winner'] # makes it 1 if you won and 0 if lost\n",
    "\n",
    "# apply feature scaling to the term 'elo_diff' (mean should be approx. 0 so don't subtract mean)\n",
    "#sd,sd_surface = np.std(df_pred['elo_diff']),np.std(df_pred['s_elo_diff'])\n",
    "#df_pred['elo_diff'],df_pred['s_elo_diff'] = df_pred['elo_diff']/sd,df_pred['s_elo_diff']/sd_surface\n",
    "c = int(max(df_pred['match_id'])*.8)\n",
    "val_df,test_df = df_pred[df_pred['match_id']<=c],df_pred[df_pred['match_id']>c]"
   ]
  },
  {
   "cell_type": "code",
   "execution_count": 2,
   "metadata": {
    "collapsed": false
   },
   "outputs": [],
   "source": [
    "def in_dict(x,d):\n",
    "    return x in d"
   ]
  },
  {
   "cell_type": "code",
   "execution_count": 3,
   "metadata": {
    "collapsed": true
   },
   "outputs": [],
   "source": [
    "# function to cross-validate, with no match-overlap between splits (since there are 100-200\n",
    "# points per match)\n",
    "def cross_validate(val_df,clf,cols,target,hyper_parameters,n_splits):\n",
    "    print 'searching for hyperparams...'\n",
    "    ids = list(set(val_df['match_id']))\n",
    "    vfunc = np.vectorize(in_dict)\n",
    "    kfold = KFold(n_splits=n_splits,shuffle=True)\n",
    "    key = hyper_parameters.keys()[0]\n",
    "    scores = [[] for k in range(len(hyper_parameters[key]))]\n",
    "    \n",
    "    for train_index,____ in kfold.split(ids):\n",
    "        train_dict = dict(zip(train_index,[1]*len(train_index)))\n",
    "        train_ind = vfunc(np.array(val_df['match_id']),train_dict)\n",
    "        test_ind = (1 - train_ind)==1\n",
    "        Xtrain, ytrain = val_df[cols][train_ind], val_df[target][train_ind]\n",
    "        Xtest, ytest = val_df[cols][test_ind], val_df[target][test_ind]\n",
    "        \n",
    "        # retrieve classification score for every hyper_parameter fed into this function\n",
    "        # LOOP THROUGH ALL KEYS here if you want to test multiple hyper_params\n",
    "        for j in xrange(len(hyper_parameters[key])):\n",
    "            setattr(clf,key,hyper_parameters[key][j])\n",
    "            clf.fit(Xtrain,ytrain)\n",
    "            score = clf.score(Xtest,ytest)\n",
    "            scores[j].append(score)\n",
    "    for i in range(len(scores)):\n",
    "        print hyper_parameters[key][i],': ',np.mean(scores[i])\n",
    "    best_ind = np.argmax([np.mean(a) for a in scores])\n",
    "    print 'best: ',{key:hyper_parameters[key][best_ind]}\n",
    "    return {key:hyper_parameters[key][best_ind]}"
   ]
  },
  {
   "cell_type": "code",
   "execution_count": 4,
   "metadata": {
    "collapsed": true
   },
   "outputs": [],
   "source": [
    "scores = ['sets_0','sets_1','games_0','games_1','points_0','points_1']\n",
    "break_feats = [u'up_break_point', u'down_break_point', u'break_adv']\n",
    "point_rates = [u'sv_points_pct_0', u'sv_points_pct_1',u'tp_0',u'tp_1']\n",
    "cols = ['in_lead','elo_diff','s_elo_diff']+scores+break_feats+point_rates"
   ]
  },
  {
   "cell_type": "code",
   "execution_count": 28,
   "metadata": {
    "collapsed": true
   },
   "outputs": [
    {
     "name": "stdout",
     "output_type": "stream",
     "text": [
      "searching for hyperparams...\n",
      "0.0001 :  0.759387995373\n",
      "0.001 :  0.763018371006\n",
      "0.01 :  0.763193479465\n",
      "0.1 :  0.76319312289\n",
      "1 :  0.763200944148\n",
      "10 :  0.763199745465\n",
      "100 :  0.763208137475\n",
      "1000 :  0.763204519642\n",
      "best:  {'C': 100}\n"
     ]
    },
    {
     "data": {
      "text/plain": [
       "{'C': 100}"
      ]
     },
     "execution_count": 28,
     "metadata": {},
     "output_type": "execute_result"
    }
   ],
   "source": [
    "# clf=linear_model.LogisticRegression(fit_intercept = True)\n",
    "# h_params = {'C':[.0001,.001,.01,.1,1,10,100,1000]}\n",
    "# cross_validate(val_df,clf,cols,'winner',h_params,n_splits=5)"
   ]
  },
  {
   "cell_type": "code",
   "execution_count": 5,
   "metadata": {
    "collapsed": false,
    "scrolled": false
   },
   "outputs": [
    {
     "name": "stdout",
     "output_type": "stream",
     "text": [
      "in_lead"
     ]
    },
    {
     "ename": "NameError",
     "evalue": "name 'clf' is not defined",
     "output_type": "error",
     "traceback": [
      "\u001b[0;31m---------------------------------------------------------------------------\u001b[0m",
      "\u001b[0;31mNameError\u001b[0m                                 Traceback (most recent call last)",
      "\u001b[0;32m<ipython-input-5-3bc3ea71e993>\u001b[0m in \u001b[0;36m<module>\u001b[0;34m()\u001b[0m\n\u001b[1;32m      1\u001b[0m \u001b[0;31m# these seem to make sense...\u001b[0m\u001b[0;34m\u001b[0m\u001b[0;34m\u001b[0m\u001b[0m\n\u001b[1;32m      2\u001b[0m \u001b[0;32mfor\u001b[0m \u001b[0mi\u001b[0m \u001b[0;32min\u001b[0m \u001b[0mrange\u001b[0m\u001b[0;34m(\u001b[0m\u001b[0mlen\u001b[0m\u001b[0;34m(\u001b[0m\u001b[0mcols\u001b[0m\u001b[0;34m)\u001b[0m\u001b[0;34m)\u001b[0m\u001b[0;34m:\u001b[0m\u001b[0;34m\u001b[0m\u001b[0m\n\u001b[0;32m----> 3\u001b[0;31m     \u001b[0;32mprint\u001b[0m \u001b[0mcols\u001b[0m\u001b[0;34m[\u001b[0m\u001b[0mi\u001b[0m\u001b[0;34m]\u001b[0m\u001b[0;34m,\u001b[0m \u001b[0mclf\u001b[0m\u001b[0;34m.\u001b[0m\u001b[0mcoef_\u001b[0m\u001b[0;34m[\u001b[0m\u001b[0;36m0\u001b[0m\u001b[0;34m]\u001b[0m\u001b[0;34m[\u001b[0m\u001b[0mi\u001b[0m\u001b[0;34m]\u001b[0m\u001b[0;34m\u001b[0m\u001b[0m\n\u001b[0m",
      "\u001b[0;31mNameError\u001b[0m: name 'clf' is not defined"
     ]
    }
   ],
   "source": [
    "# these seem to make sense...\n",
    "# for i in range(len(cols)):\n",
    "#     print cols[i], clf.coef_[0][i]"
   ]
  },
  {
   "cell_type": "code",
   "execution_count": 7,
   "metadata": {
    "collapsed": false
   },
   "outputs": [
    {
     "data": {
      "text/plain": [
       "'MLPClassifier'"
      ]
     },
     "execution_count": 7,
     "metadata": {},
     "output_type": "execute_result"
    }
   ],
   "source": [
    "clf = MLPClassifier(solver='lbfgs', alpha=1e-5,hidden_layer_sizes=(5, 2), random_state=1)\n",
    "clf.__str__().split('(')[0]"
   ]
  },
  {
   "cell_type": "code",
   "execution_count": 8,
   "metadata": {
    "collapsed": true
   },
   "outputs": [],
   "source": [
    "Xtrain, ytrain = val_df[cols],val_df['winner']\n",
    "Xtest, ytest = test_df[cols],test_df['winner']"
   ]
  },
  {
   "cell_type": "code",
   "execution_count": 9,
   "metadata": {
    "collapsed": false
   },
   "outputs": [
    {
     "name": "stdout",
     "output_type": "stream",
     "text": [
      "LogisticRegression\n",
      "searching for hyperparams...\n",
      "100 :  0.763292351804\n",
      "best:  {'C': 100}\n",
      "classifier:  LogisticRegression\n",
      "0.481348299805 0.480946100909\n",
      "0.765034157085 0.766176761977\n",
      "\n",
      "\n"
     ]
    }
   ],
   "source": [
    "# for MLP, I would consider grid search over alpha, batch_size, and hidden_layer_sizes...\n",
    "\n",
    "models = [linear_model.LogisticRegression(fit_intercept = True)]\n",
    "#models.append(MLPClassifier(solver='lbfgs', alpha=1e-5,hidden_layer_sizes=(5, 5), random_state=1))\n",
    "model_hparams = {'LogisticRegression':{'C':[100]}, \\\n",
    "                'MLPClassifier':   []        ,'SVC':{'C':[.0001,.001,.01,.1,1,10,100,1000]}}\n",
    "for clf in models:\n",
    "    model_name = clf.__str__().split('(')[0]\n",
    "    print model_name\n",
    "    best_hyper_p = cross_validate(val_df,clf,cols,'winner',model_hparams[model_name],n_splits=5)\n",
    "    for key in best_hyper_p.keys():\n",
    "        setattr(clf,key,best_hyper_p[key])\n",
    "    clf.fit(Xtrain,ytrain)\n",
    "\n",
    "    probs_train,probs_test = clf.predict_proba(Xtrain),clf.predict_proba(Xtest)\n",
    "    train_loss, test_loss = log_loss(ytrain,probs_train,labels=[0,1]),log_loss(ytest,probs_test,labels=[0,1])\n",
    "    train_accuracy = clf.score(Xtrain, ytrain)\n",
    "    test_accuracy = clf.score(Xtest, ytest)  \n",
    "    print 'classifier: ', str(clf).split(\"(\")[0]\n",
    "    print train_loss, test_loss\n",
    "    print train_accuracy, test_accuracy\n",
    "print '\\n'"
   ]
  },
  {
   "cell_type": "code",
   "execution_count": null,
   "metadata": {
    "collapsed": true
   },
   "outputs": [],
   "source": []
  },
  {
   "cell_type": "code",
   "execution_count": null,
   "metadata": {
    "collapsed": true
   },
   "outputs": [],
   "source": []
  },
  {
   "cell_type": "code",
   "execution_count": null,
   "metadata": {
    "collapsed": true
   },
   "outputs": [],
   "source": []
  },
  {
   "cell_type": "code",
   "execution_count": null,
   "metadata": {
    "collapsed": true
   },
   "outputs": [],
   "source": []
  },
  {
   "cell_type": "code",
   "execution_count": 11,
   "metadata": {
    "collapsed": false
   },
   "outputs": [
    {
     "data": {
      "image/png": "[encoded data removed]",
      "text/plain": [
       "<matplotlib.figure.Figure at 0x11ac1bed0>"
      ]
     },
     "metadata": {},
     "output_type": "display_data"
    }
   ],
   "source": [
    "# graphically, try to compare different probabilities of different models\n",
    "\n",
    "import matplotlib.pyplot as plt\n",
    "%matplotlib inline\n",
    "\n",
    "probs = np.concatenate((probs_train[:,0],probs_test[:,0]))\n",
    "df_pred['prob4'] = probs\n",
    "\n",
    "match1 = df_pred[df_pred['match_id']==0]\n",
    "m1_probs = match1['prob4']\n",
    "set_lengths = [len(a) for a in list(match1['score'])[-1].replace(';','').replace('/','').split('.')]\n",
    "fig = plt.figure(figsize=(8,4))\n",
    "ax = fig.add_subplot(1,1,1)\n",
    "ax.plot(np.arange(len(m1_probs)),1-m1_probs,'b-',linewidth=2.4)\n",
    "#fig.suptitle('Richard Gasquet d. Julian Reister 6-7, 6-3, 6-3')\n",
    "ax.set_ylabel('Player 0 win probability')\n",
    "ax.set_xlabel('# points played')\n",
    "ax.axvline(set_lengths[0]); ax.axvline(sum(set_lengths[:2]))\n",
    "#plt.savefig('gasquet_reister_7_14_all_features')\n",
    "fig.show()"
   ]
  },
  {
   "cell_type": "code",
   "execution_count": null,
   "metadata": {
    "collapsed": true
   },
   "outputs": [],
   "source": [
    "# current feedback is that the drop in probability is probably a little too great from \n",
    "# end of first set to beginning of second\n",
    "# this is something that should eventually be fixed with markov/hierarchical models"
   ]
  },
  {
   "cell_type": "code",
   "execution_count": null,
   "metadata": {
    "collapsed": true
   },
   "outputs": [],
   "source": [
    "cols1 = ['elo_diff']\n",
    "cols2 = ['elo_diff','set_diff']\n",
    "cols3 = ['elo_diff','set_diff','game_diff']\n",
    "cols = ['elo_diff','set_diff','game_diff','point_diff']\n",
    "\n",
    "# either change do-classify to work for all classifiers or use this code\n",
    "# repeat this for random forest, neural net, adaboost, etc\n",
    "print 'features: ', cols\n",
    "clf = ensemble.RandomForestClassifier(n_estimators=10,max_features=None,oob_score=True)\n",
    "clf=clf.fit(Xtrain, ytrain)\n",
    "probs_train,probs_test = clf.predict_proba(Xtrain),clf.predict_proba(Xtest)\n",
    "train_loss, test_loss = log_loss(ytrain,probs_train,labels=[0,1]),log_loss(ytest,probs_test,labels=[0,1])\n",
    "train_accuracy = clf.oob_score_\n",
    "#test_accuracy = clf.oob_score(Xtest, ytest)\n",
    "print \"############# based on standard predict ################\"\n",
    "print \"Accuracy on training data: %0.2f\" % (train_accuracy)\n",
    "print \"Log Loss on training data: %0.2f\" % (train_loss)\n",
    "#print \"Accuracy on test data:     %0.2f\" % (test_accuracy)\n",
    "print \"Log Loss on test data:     %0.2f\" % (test_loss)"
   ]
  },
  {
   "cell_type": "code",
   "execution_count": null,
   "metadata": {
    "collapsed": true
   },
   "outputs": [],
   "source": [
    "# next, 1) compare avg log_loss for prediction with sets, games, and points as features\n",
    "# 2) then try keeping track of service breaks as a feature\n",
    "# 3) the next step: does order matter?\n",
    "# see your notes for next steps\n",
    "\n",
    "probs = clflogELO.predict_proba(Xtest)\n",
    "log_loss(ytest,probs,labels=[0,1])"
   ]
  },
  {
   "cell_type": "code",
   "execution_count": null,
   "metadata": {
    "collapsed": true
   },
   "outputs": [],
   "source": []
  },
  {
   "cell_type": "code",
   "execution_count": null,
   "metadata": {
    "collapsed": true
   },
   "outputs": [],
   "source": []
  },
  {
   "cell_type": "code",
   "execution_count": 7,
   "metadata": {
    "collapsed": true
   },
   "outputs": [],
   "source": [
    "# features for number of sets away from the match\n",
    "# number of games away from the set\n",
    "# number of points away from set\n",
    "# then observe the gasquet match graph and see if this fixes anything\n",
    "# df_pred['p0_sets_away'] = [2-int(a[1]) for a in df_pred['set_score']]\n",
    "# df_pred['p1_sets_away'] = [2-int(a[4]) for a in df_pred['set_score']]\n",
    "# df_pred['p0_games_away'] = [6-int(a[1]) if int(a[4])<5 else 7-int(a[1]) for a in df_pred['game_score']]\n",
    "# df_pred['p1_games_away'] = [6-int(a[4]) if int(a[1])<5 else 7-int(a[4]) for a in df_pred['game_score']]\n",
    "\n",
    "# points away...\n",
    "\n",
    "#####################\n",
    "\n",
    "# form train and test as 80-20 split; keeps matches in their entirety separate from one another\n",
    "# takes about 40 seconds\n",
    "\n",
    "# train_ids = np.random.choice(ids,size=int(.8*len(ids)),replace=False)\n",
    "# train_dict = dict(zip(train_ids,[1]*len(train_ids)))\n",
    "# df_pred['train'] = [1 if df_pred['match_id'][i] in train_dict else 0 for i in xrange(len(df_pred))]\n",
    "# mask = df_pred['train']\n",
    "# mask = mask==1"
   ]
  },
  {
   "cell_type": "code",
   "execution_count": null,
   "metadata": {
    "collapsed": true
   },
   "outputs": [],
   "source": [
    "# from sklearn.model_selection import StratifiedKFold\n",
    "# # feed in validation set, return model with most favorable hyper-parameters\n",
    "# h_param = {'C':[.0001,.001,.01,.1,1,10,100,1000]}\n",
    "# def cross_validate(X,Y,clf,hyper_parameters):\n",
    "#     print 'fitting model...'\n",
    "#     skf = StratifiedKFold(n_splits=5)\n",
    "#     for train_index,test_index in skf.split(X,Y):\n",
    "#         X_train,X_test = X[train_index],X[test_index]\n",
    "#         Y_train,Y_test = Y[train_index],Y[test_index]\n",
    "\n",
    "# to do: set up another notebook with solely cross-validation framework and model testing...\n",
    "# test hyperparameters for these sklearn models\n",
    "\n",
    "#set_features = ['0','1','01','10']\n",
    "cols = []\n",
    "scores = ['sets_0','sets_1','games_0','games_1','points_0','points_1']\n",
    "break_feats = [u'up_break_point', u'down_break_point', u'break_adv']\n",
    "point_rates = [u'sv_points_pct_0', u'sv_points_pct_1',u'tp_0',u'tp_1']\n",
    "\n",
    "#cols.append(['in_lead'])\n",
    "#cols.append(['in_lead','elo_diff'])\n",
    "#cols.append(['elo_diff']+scores+point_rates)\n",
    "cols.append(['elo_diff','sets_0','sets_1','points_0','points_1','break_adv']+point_rates)\n",
    "cols.append(['in_lead','elo_diff']+scores+break_feats+point_rates)\n",
    "\n",
    "#models.append(ensemble.RandomForestClassifier(n_estimators=200,max_features=None,oob_score=True))\n",
    "\n",
    "# models = [linear_model.LogisticRegression(fit_intercept = True)]\n",
    "\n",
    "# for col in cols:\n",
    "#     print 'cols: ',col\n",
    "#     for model in models:\n",
    "#         Xtrain = df_pred[mask][col]; Xtest = df_pred[~mask][col]\n",
    "#         clf = model\n",
    "#         clf.fit(Xtrain,ytrain)\n",
    "        \n",
    "#         # cross-validate the model, fitting hyper-params on training set\n",
    "#         #clf = cross_validate(Xtrain,ytrain,model)\n",
    "\n",
    "#         probs_train,probs_test = clf.predict_proba(Xtrain),clf.predict_proba(Xtest)\n",
    "#         train_loss, test_loss = log_loss(ytrain,probs_train,labels=[0,1]),log_loss(ytest,probs_test,labels=[0,1])\n",
    "#         train_accuracy = clf.score(Xtrain, ytrain)\n",
    "#         test_accuracy = clf.score(Xtest, ytest)  \n",
    "#         print 'classifier: ', str(clf).split(\"(\")[0]\n",
    "#         print train_loss, test_loss\n",
    "#         print train_accuracy, test_accuracy\n",
    "#     print '\\n'"
   ]
  }
 ],
 "metadata": {
  "kernelspec": {
   "display_name": "Python 2",
   "language": "python",
   "name": "python2"
  },
  "language_info": {
   "codemirror_mode": {
    "name": "ipython",
    "version": 2
   },
   "file_extension": ".py",
   "mimetype": "text/x-python",
   "name": "python",
   "nbconvert_exporter": "python",
   "pygments_lexer": "ipython2",
   "version": "2.7.13"
  }
 },
 "nbformat": 4,
 "nbformat_minor": 0
}
