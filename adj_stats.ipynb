{
 "cells": [
  {
   "cell_type": "code",
   "execution_count": 6,
   "metadata": {
    "collapsed": false
   },
   "outputs": [],
   "source": [
    "# test if adjusted stats script works\n",
    "from helper_functions import *\n",
    "from data_functions import *\n",
    "import pandas as pd\n",
    "import numpy as np\n",
    "import re\n",
    "import math\n",
    "import copy\n",
    "\n",
    "TOUR = 'atp'\n",
    "COUNT = False\n",
    "START_YEAR = 2010\n",
    "ONLY_PBP = 1\n",
    "pd.options.mode.chained_assignment = None\n",
    "\n",
    "atp_year_list = []\n",
    "for i in xrange(1968,2018):\n",
    "    atp_year_list.append(pd.read_csv(\"../tennis_data/\"+TOUR+\"/\"+TOUR+\"_matches_{0}.csv\".format(i)))\n",
    "df = pd.concat(atp_year_list, ignore_index = True)\n",
    "\n",
    "# these may be changes specific to atp dataframe; normalize_name() is specific to atp/wta...\n",
    "df = df.rename(columns={'winner_name':'w_name','loser_name':'l_name','tourney_id':'tny_id',\\\n",
    "                        'tourney_name':'tny_name','tourney_date':'tny_date'})\n",
    "df['w_name'] = [normalize_name(x,tour=TOUR) for x in df['w_name']]\n",
    "df['l_name'] = [normalize_name(x,tour=TOUR) for x in df['l_name']]\n",
    "df['tny_name'] = ['Davis Cup' if 'Davis Cup' in s else s for s in df['tny_name']]\n",
    "df['tny_name'] = [s.replace('Australian Chps.','Australian Open').replace('Australian Open-2',\\\n",
    "            'Australian Open').replace('U.S. National Chps.','US Open') for s in df['tny_name']]\n",
    "\n",
    "ret_strings = ('ABN','DEF','In Progress','RET','W/O',' RET',' W/O','nan','walkover')\n",
    "abd_strings = ('abandoned','ABN','ABD','DEF','def','unfinished','Walkover')\n",
    "atp_all_matches = format_match_df(df,ret_strings=ret_strings,abd_strings=abd_strings)\n",
    "\n",
    "# generate tourney stats from one year behind START_DATE for stats_52\n",
    "# get elo with constant and dynamic K\n",
    "start_ind = atp_all_matches[atp_all_matches['match_year']>=START_YEAR-2].index[0]\n",
    "atp_all_matches = generate_elo(atp_all_matches,0)\n",
    "atp_all_matches = generate_elo(atp_all_matches,1)\n",
    "atp_all_matches = generate_52_stats(atp_all_matches,start_ind)\n",
    "atp_all_matches = generate_52_adj_stats(atp_all_matches,start_ind)\n",
    "atp_all_matches = generate_tny_stats(atp_all_matches,start_ind)"
   ]
  },
  {
   "cell_type": "code",
   "execution_count": 7,
   "metadata": {
    "collapsed": false
   },
   "outputs": [
    {
     "name": "stdout",
     "output_type": "stream",
     "text": [
      "collision\n",
      "Viktor Troicki Radek Stepanek 2012 2-6 6-4 6-3 5 5\n",
      "collision\n",
      "Fabio Fognini Tommy Haas 2013 6-2 6-4 7 7\n",
      "10670\n",
      "52_s_adj 0.0460380635894\n",
      "52_r_adj 0.0436543168683\n"
     ]
    }
   ],
   "source": [
    "# Combine all the matches that have pbp (point by point) information into one dataframe\n",
    "# and clean up columns in preparation for merging with all_atp_matches\n",
    "pbp_matches_archive = pd.read_csv(\"../tennis_data/pbp_matches_atp_main_archive.csv\")\n",
    "pbp_matches_archive_old = pd.read_csv(\"../tennis_data/pbp_matches_atp_main_archive_old.csv\")\n",
    "pbp_matches_current = pd.read_csv(\"../tennis_data/pbp_matches_atp_main_current.csv\")\n",
    "pbp_matches = pd.concat([pbp_matches_archive_old.loc[:932],pbp_matches_archive,pbp_matches_current])\n",
    "pbp_matches.winner = pbp_matches.winner - 1\n",
    "pbp_matches = pbp_matches.reset_index(); del pbp_matches['index']\n",
    "pbp_matches = format_pbp_df(pbp_matches,tour=TOUR)\n",
    "\n",
    "\n",
    "# dictionary with each key as 'w_name'+'l_name'+'match_year'+'score' to connect pbp \n",
    "# strings to atp_all_matches (I removed parentheses terms from tb scores)\n",
    "duplicates = ['Janko Tipsarevic Kei Nishikori 2011 6-4 6-4','Robin Soderling Michael Berrer 2011 6-3 7-6',\n",
    "        'Juan Martin Kevin Anderson 2011 6-4 6-4','Philipp Kohlschreiber Mikhail Youzhny 2011 6-4 6-2',\n",
    "        'Philipp Kohlschreiber Olivier Rochus 2012 6-1 6-4','Viktor Troicki Radek Stepanek 2012 2-6 6-4 6-3',\n",
    "        'Gilles Simon Grigor Dimitrov 2012 6-3 6-3','Alexandr Dolgopolov Gilles Simon 2012 6-3 6-4',\n",
    "        'Fabio Fognini Tommy Haas 2013 6-2 6-4','Richard Gasquet Florian Mayer 2013 6-3 7-6',\n",
    "        'Novak Djokovic Rafael Nadal 2013 6-3 6-4','Tomas Berdych Gael Monfils 2015 6-1 6-4',\n",
    "        'Novak Djokovic Rafael Nadal 2015 6-3 6-3']\n",
    "collision_d = dict(zip(duplicates,[0]*len(duplicates)))\n",
    "\n",
    "# connects the two dataframes on match keys and reformats columns fro w/l to p0/p1\n",
    "cols = ['_name','_elo','_sf_elo','_elo_538','_sf_elo_538','_52_swon','_52_svpt','_52_rwon',\\\n",
    "        '_52_rpt','_sf_52_swon','_sf_52_svpt','_sf_52_rwon','_sf_52_rpt','_52_s_adj','_52_r_adj']\n",
    "df = connect_df(match_df=atp_all_matches,pbp_df=pbp_matches,col_d=collision_d,player_cols=cols,\\\n",
    "                start_year=2000)\n",
    "df['elo_diff'] = [df['p0_elo'][i] - df['p1_elo'][i] for i in xrange(len(df))]\n",
    "df['sf_elo_diff'] = [df['p0_sf_elo'][i] - df['p1_sf_elo'][i] for i in xrange(len(df))]\n",
    "df['elo_diff_538'] = [df['p0_elo_538'][i] - df['p1_elo_538'][i] for i in xrange(len(df))]\n",
    "df['sf_elo_diff_538'] = [df['p0_sf_elo_538'][i] - df['p1_sf_elo_538'][i] for i in xrange(len(df))]\n",
    "\n",
    "# dataframe with only matches that have pbp\n",
    "if ONLY_PBP:\n",
    "    df = df[df['pbp']!='None']\n",
    "else:\n",
    "    df = df[df['winner']!='None']\n",
    "df = df.reset_index(drop=True)\n",
    "\n",
    "cols = ['52_s_adj','52_r_adj']\n",
    "test_df = generate_JS_stats(df,cols)"
   ]
  },
  {
   "cell_type": "code",
   "execution_count": 8,
   "metadata": {
    "collapsed": false
   },
   "outputs": [
    {
     "name": "stdout",
     "output_type": "stream",
     "text": [
      "elo_pbp_with_surface_9_16.csv saved to my_data\n"
     ]
    }
   ],
   "source": [
    "# keep relevant columns\n",
    "df = df[['tny_id','tny_name','surface','tny_date','match_year','match_month',\n",
    "         u'p0_name', u'p1_name', u'p0_elo',\n",
    "         u'p1_elo', u'p0_sf_elo', u'p1_sf_elo', u'p0_elo_538', u'p1_elo_538',\n",
    "         u'p0_sf_elo_538', u'p1_sf_elo_538', u'p0_52_swon',u'p0_52_svpt', \n",
    "         u'p1_52_swon', u'p1_52_svpt', u'p0_52_rwon', u'p0_52_rpt',\n",
    "         u'p1_52_rwon', u'p1_52_rpt', \n",
    "         u'elo_diff', u'sf_elo_diff',\n",
    "         u'elo_diff_538', u'sf_elo_diff_538',\n",
    "         u'p0_s_pct', u'p0_r_pct', u'p1_s_pct', u'p1_r_pct', \n",
    "         u'p0_s_pct_JS', u'p1_s_pct_JS', u'p0_r_pct_JS', u'p1_r_pct_JS',\n",
    "         u'p0_sf_52_swon', u'p0_sf_52_svpt',u'p1_sf_52_swon', u'p1_sf_52_svpt', \n",
    "         u'p0_sf_52_rwon', u'p0_sf_52_rpt', u'p1_sf_52_rwon', u'p1_sf_52_rpt',\n",
    "         u'p0_sf_s_pct', u'p0_sf_r_pct', u'p1_sf_s_pct', u'p1_sf_r_pct', \n",
    "         u'p0_sf_s_pct_JS', u'p1_sf_s_pct_JS', u'p0_sf_r_pct_JS', u'p1_sf_r_pct_JS',\n",
    "         u'p0_52_s_adj',u'p0_52_r_adj',u'p1_52_s_adj',u'p1_52_r_adj',\n",
    "         u'p0_52_s_adj_JS',u'p0_52_r_adj_JS',u'p1_52_s_adj_JS',u'p1_52_r_adj_JS',\n",
    "         u'avg_52_s', u'avg_52_r', u'sf_avg_52_s', u'sf_avg_52_r',\n",
    "         'tny_stats','best_of','score','pbp','winner']]\n",
    "\n",
    "# binary indicator for whether player 0 won\n",
    "df['winner'] = [1-winner for winner in df['winner']]\n",
    "\n",
    "# generate serving probabilities (w/out JS normalization) for Klaassen-Magnus model\n",
    "df['match_id'] = range(len(df))\n",
    "df['tny_stats'] = [df['avg_52_s'][i] if df['tny_stats'][i]==0 else df['tny_stats'][i] for i in xrange(len(df))]\n",
    "df['p0_s_kls'] = df['tny_stats']+(df['p0_s_pct']-df['avg_52_s']) - (df['p1_r_pct']-df['avg_52_r'])\n",
    "df['p1_s_kls'] = df['tny_stats']+(df['p1_s_pct']-df['avg_52_s']) - (df['p0_r_pct']-df['avg_52_r'])\n",
    "df['p0_s_kls_JS'] = df['tny_stats']+(df['p0_s_pct_JS']-df['avg_52_s']) - (df['p1_r_pct_JS']-df['avg_52_r'])\n",
    "df['p1_s_kls_JS'] = df['tny_stats']+(df['p1_s_pct_JS']-df['avg_52_s']) - (df['p0_r_pct_JS']-df['avg_52_r'])\n",
    "df['p0_sf_s_kls'] = df['tny_stats']+(df['p0_sf_s_pct']-df['sf_avg_52_s']) - (df['p1_sf_r_pct']-df['sf_avg_52_r'])\n",
    "df['p1_sf_s_kls'] = df['tny_stats']+(df['p1_sf_s_pct']-df['sf_avg_52_s']) - (df['p0_sf_r_pct']-df['sf_avg_52_r'])\n",
    "df['p0_sf_s_kls_JS'] = df['tny_stats']+(df['p0_sf_s_pct_JS']-df['sf_avg_52_s']) - (df['p1_sf_r_pct_JS']-df['sf_avg_52_r'])\n",
    "df['p1_sf_s_kls_JS'] = df['tny_stats']+(df['p1_sf_s_pct_JS']-df['sf_avg_52_s']) - (df['p0_sf_r_pct_JS']-df['sf_avg_52_r'])\n",
    "df['p0_s_kls_adj'] = df['tny_stats']+(df['p0_52_s_adj']+df['avg_52_s']) - (df['p1_52_r_adj']+df['avg_52_r'])\n",
    "df['p1_s_kls_adj'] = df['tny_stats']+(df['p1_52_s_adj']+df['avg_52_s']) - (df['p0_52_r_adj']+df['avg_52_r'])\n",
    "df['p0_s_kls_adj_JS'] = df['tny_stats']+(df['p0_52_s_adj_JS']+df['avg_52_s']) - (df['p1_52_r_adj_JS']+df['avg_52_r'])\n",
    "df['p1_s_kls_adj_JS'] = df['tny_stats']+(df['p1_52_s_adj_JS']+df['avg_52_s']) - (df['p0_52_r_adj_JS']+df['avg_52_r'])\n",
    "\n",
    "# depending on ONLY_PBP, this will have point-by-point matches, or all\n",
    "# tour-level matches from START_DATE to present\n",
    "name = 'elo_pbp_with_surface_9_16' if ONLY_PBP else 'elo_atp_matches_21st_century_9_12'\n",
    "print name + '.csv saved to my_data'\n",
    "df.to_csv('../my_data/'+name+'.csv')"
   ]
  },
  {
   "cell_type": "code",
   "execution_count": 5,
   "metadata": {
    "collapsed": false
   },
   "outputs": [
    {
     "data": {
      "text/plain": [
       "(51550, 82)"
      ]
     },
     "execution_count": 5,
     "metadata": {},
     "output_type": "execute_result"
    }
   ],
   "source": [
    "df.shape"
   ]
  },
  {
   "cell_type": "code",
   "execution_count": null,
   "metadata": {
    "collapsed": true
   },
   "outputs": [],
   "source": []
  },
  {
   "cell_type": "code",
   "execution_count": null,
   "metadata": {
    "collapsed": true
   },
   "outputs": [],
   "source": []
  },
  {
   "cell_type": "code",
   "execution_count": 31,
   "metadata": {
    "collapsed": false
   },
   "outputs": [],
   "source": [
    "cols = [w + col for col in ['_elo_538','_sf_elo_538','_52_swon','_52_svpt','_52_rwon',\\\n",
    "        '_52_rpt','_sf_52_swon','_sf_52_svpt','_sf_52_rwon','_sf_52_rpt'] for w in ['w','l']]"
   ]
  },
  {
   "cell_type": "code",
   "execution_count": 32,
   "metadata": {
    "collapsed": true
   },
   "outputs": [],
   "source": [
    "adj_cols = [u'w_52_s_adj', u'w_52_r_adj', u'l_52_s_adj', u'l_52_r_adj']"
   ]
  }
 ],
 "metadata": {
  "kernelspec": {
   "display_name": "Python 2",
   "language": "python",
   "name": "python2"
  },
  "language_info": {
   "codemirror_mode": {
    "name": "ipython",
    "version": 2
   },
   "file_extension": ".py",
   "mimetype": "text/x-python",
   "name": "python",
   "nbconvert_exporter": "python",
   "pygments_lexer": "ipython2",
   "version": "2.7.13"
  }
 },
 "nbformat": 4,
 "nbformat_minor": 0
}
