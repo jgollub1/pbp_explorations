{
 "cells": [
  {
   "cell_type": "code",
   "execution_count": 48,
   "metadata": {
    "collapsed": false
   },
   "outputs": [],
   "source": [
    "# NEXT STEPS: assemble players win percentages from any set score (how well they do from one\n",
    "# set up, one down, came back to split, gave up to split) throughout career; can represent \n",
    "# this as a beta distribution\n",
    "# with prior as the average player of that current elo's probability with strength 5-10\n",
    "\n",
    "# TO DO: assemble running tallies to track serve percentages over the past 52 weeks, specifically for years 2010-current\n",
    "#        also, compare and contrast the \"old\" and \"new\" files\n",
    "\n",
    "# 7/26 update: seem to have fixed some glitches in my previous adaptation of 538's elo method\n",
    "# everything is very simple in elo_538.py; also fixed the match order within tournaments in atp_all_matches\n",
    "\n",
    "# note: we improved from 9563 to 10000 matches with string manipulations\n",
    "# my elo scores seem close to Jeff Sackman's when I set k=32 as constant; when using the 538 style of \"cooling\" k-factor,\n",
    "# those elos are going to be inflated in comparison (but keep in mind, that's only different across methods)\n",
    "AO = 'Australian Open'\n",
    "USO = 'US Open'\n",
    "COUNT = False"
   ]
  },
  {
   "cell_type": "code",
   "execution_count": 49,
   "metadata": {
    "collapsed": false
   },
   "outputs": [
    {
     "name": "stdout",
     "output_type": "stream",
     "text": [
      "(159505, 18)\n"
     ]
    },
    {
     "data": {
      "text/html": [
       "<div>\n",
       "<table border=\"1\" class=\"dataframe\">\n",
       "  <thead>\n",
       "    <tr style=\"text-align: right;\">\n",
       "      <th></th>\n",
       "      <th>tourney_id</th>\n",
       "      <th>tourney_name</th>\n",
       "      <th>tourney_date</th>\n",
       "      <th>match_num</th>\n",
       "      <th>surface</th>\n",
       "      <th>is_gs</th>\n",
       "      <th>w_name</th>\n",
       "      <th>l_name</th>\n",
       "      <th>winner_id</th>\n",
       "      <th>loser_id</th>\n",
       "      <th>best_of</th>\n",
       "      <th>match_year</th>\n",
       "      <th>match_month</th>\n",
       "      <th>score</th>\n",
       "      <th>w_swon</th>\n",
       "      <th>w_svpt</th>\n",
       "      <th>l_swon</th>\n",
       "      <th>l_svpt</th>\n",
       "    </tr>\n",
       "  </thead>\n",
       "  <tbody>\n",
       "    <tr>\n",
       "      <th>0</th>\n",
       "      <td>1968-580</td>\n",
       "      <td>Australian Open</td>\n",
       "      <td>1968-01-19</td>\n",
       "      <td>1</td>\n",
       "      <td>Grass</td>\n",
       "      <td>True</td>\n",
       "      <td>Richard Coulthard</td>\n",
       "      <td>Max Senior</td>\n",
       "      <td>110023</td>\n",
       "      <td>107760</td>\n",
       "      <td>5</td>\n",
       "      <td>1968</td>\n",
       "      <td>1</td>\n",
       "      <td>12-10 7-5 4-6 7-5</td>\n",
       "      <td>NaN</td>\n",
       "      <td>NaN</td>\n",
       "      <td>NaN</td>\n",
       "      <td>NaN</td>\n",
       "    </tr>\n",
       "    <tr>\n",
       "      <th>1</th>\n",
       "      <td>1968-580</td>\n",
       "      <td>Australian Open</td>\n",
       "      <td>1968-01-19</td>\n",
       "      <td>2</td>\n",
       "      <td>Grass</td>\n",
       "      <td>True</td>\n",
       "      <td>John Brown</td>\n",
       "      <td>Ernie Mccabe</td>\n",
       "      <td>109803</td>\n",
       "      <td>106964</td>\n",
       "      <td>5</td>\n",
       "      <td>1968</td>\n",
       "      <td>1</td>\n",
       "      <td>6-3 6-2 6-4</td>\n",
       "      <td>NaN</td>\n",
       "      <td>NaN</td>\n",
       "      <td>NaN</td>\n",
       "      <td>NaN</td>\n",
       "    </tr>\n",
       "  </tbody>\n",
       "</table>\n",
       "</div>"
      ],
      "text/plain": [
       "  tourney_id     tourney_name tourney_date  match_num surface is_gs  \\\n",
       "0   1968-580  Australian Open   1968-01-19          1   Grass  True   \n",
       "1   1968-580  Australian Open   1968-01-19          2   Grass  True   \n",
       "\n",
       "              w_name        l_name  winner_id  loser_id  best_of  match_year  \\\n",
       "0  Richard Coulthard    Max Senior     110023    107760        5        1968   \n",
       "1         John Brown  Ernie Mccabe     109803    106964        5        1968   \n",
       "\n",
       "   match_month              score  w_swon  w_svpt  l_swon  l_svpt  \n",
       "0            1  12-10 7-5 4-6 7-5     NaN     NaN     NaN     NaN  \n",
       "1            1        6-3 6-2 6-4     NaN     NaN     NaN     NaN  "
      ]
     },
     "execution_count": 49,
     "metadata": {},
     "output_type": "execute_result"
    }
   ],
   "source": [
    "from helper_functions import *\n",
    "import pandas as pd\n",
    "import numpy as np\n",
    "import datetime\n",
    "import math\n",
    "import elo_538 as elo\n",
    "import re\n",
    "\n",
    "atp_year_list = []\n",
    "for i in xrange(1968,2018):\n",
    "    atp_year_list.append(pd.read_csv(\"../tennis_data/atp/atp_matches_{0}.csv\".format(i)))\n",
    "atp_all_matches = pd.concat(atp_year_list, ignore_index = True)\n",
    "\n",
    "# Set up the pbp (point by point) column that will contain the pbp information for matches we have info on\n",
    "atp_all_matches['pbp'] = [None]*len(atp_all_matches)\n",
    "atp_all_matches = atp_all_matches.rename(columns={'winner_name':'w_name','loser_name':'l_name'})\n",
    "atp_all_matches['w_name'] = [normalize_name(x) for x in atp_all_matches['w_name']]\n",
    "atp_all_matches['l_name'] = [normalize_name(x) for x in atp_all_matches['l_name']]\n",
    "atp_all_matches['tourney_name'] = ['Davis Cup' if 'Davis Cup' in s else s for s in atp_all_matches['tourney_name']]\n",
    "atp_all_matches['tourney_name'] = [s.replace('Australian Chps.',AO).replace('Australian Open-2',AO).replace('U.S. National Chps.',USO) \\\n",
    "                                   for s in atp_all_matches['tourney_name']]\n",
    "grand_slam_d = dict(zip(['Australian Open','Roland Garros','Wimbledon','US Open'],[1]*4))\n",
    "atp_all_matches['is_gs'] = [name in grand_slam_d for name in atp_all_matches['tourney_name']]\n",
    "\n",
    "# Get dates into the same format\n",
    "atp_all_matches['tourney_date'] = [datetime.datetime.strptime(str(x), \"%Y%m%d\").date() for x in atp_all_matches['tourney_date']]\n",
    "atp_all_matches['match_year'] = [x.year for x in atp_all_matches['tourney_date']]\n",
    "atp_all_matches['match_month'] = [x.month for x in atp_all_matches['tourney_date']]\n",
    "atp_all_matches['score'] = [re.sub(r\"[\\(\\[].*?[\\)\\]]\", \"\", str(s)) for s in atp_all_matches['score']] # str(s) fixes any nans\n",
    "atp_all_matches['score'] = ['RET' if 'RET' in s else s for s in atp_all_matches['score']]\n",
    "atp_all_matches['w_swon'] = [atp_all_matches['w_1stWon'][i]+atp_all_matches['w_2ndWon'][i] for i in xrange(len(atp_all_matches))]\n",
    "atp_all_matches['l_swon'] = [atp_all_matches['l_1stWon'][i]+atp_all_matches['l_2ndWon'][i] for i in xrange(len(atp_all_matches))]\n",
    "atp_all_matches['w_rwon'] = atp_all_matches['l_svpt'] - atp_all_matches['l_swon']\n",
    "atp_all_matches['l_rwon'] = atp_all_matches['w_svpt'] - atp_all_matches['w_swon']\n",
    "atp_all_matches['w_rpt'] = atp_all_matches['l_svpt']\n",
    "atp_all_matches['l_rpt'] = atp_all_matches['w_svpt']\n",
    "\n",
    "# get rid of leading 0s in tourney_id\n",
    "atp_all_matches['tourney_id'] = ['-'.join(t.split('-')[:-1] + [t.split('-')[-1][1:]]) if t.split('-')[-1][0]=='0' else t \\\n",
    "                                for t in atp_all_matches['tourney_id']]\n",
    "\n",
    "# get rid of matches involving a retirement\n",
    "atp_all_matches['score'] = ['ABN' if score.split(' ')[-1] in ('abandoned','ABN','ABD','DEF','def','unfinished','Walkover') \\\n",
    "                            else score for score in atp_all_matches['score']]\n",
    "ret_strings = ['ABN','DEF','In Progress','RET','W/O',' RET',' W/O','nan','walkover']\n",
    "ret_d = dict(zip(ret_strings,[1]*len(ret_strings)))\n",
    "atp_all_matches = atp_all_matches.loc[[i for i in range(len(atp_all_matches)) if atp_all_matches['score'][i] not in ret_d]]\n",
    "atp_all_matches = atp_all_matches.sort_values(by=['tourney_date','tourney_name','match_num'], ascending=True).reset_index()\n",
    "del atp_all_matches['index']\n",
    "atp_all_matches = atp_all_matches[['tourney_id','tourney_name','tourney_date','match_num','surface','is_gs','w_name','l_name',\n",
    "                'winner_id','loser_id','best_of','match_year','match_month','score','w_swon','w_svpt','l_swon','l_svpt']]\n",
    "print atp_all_matches.shape\n",
    "atp_all_matches.head(2)"
   ]
  },
  {
   "cell_type": "code",
   "execution_count": 52,
   "metadata": {
    "collapsed": false
   },
   "outputs": [
    {
     "name": "stdout",
     "output_type": "stream",
     "text": [
      "avg serve pct:  0.624189285218\n",
      "avg return pct:  0.375810714782\n"
     ]
    }
   ],
   "source": [
    "# find the overall serve/return percentages; also by tournament\n",
    "sv_pct = np.sum(atp_all_matches['w_swon']+atp_all_matches['l_swon'])/np.sum(atp_all_matches['w_svpt']+atp_all_matches['l_svpt'])\n",
    "print 'avg serve pct: ', sv_pct\n",
    "print 'avg return pct: ', 1-sv_pct"
   ]
  },
  {
   "cell_type": "markdown",
   "metadata": {},
   "source": [
    "## Rating Systems"
   ]
  },
  {
   "cell_type": "markdown",
   "metadata": {},
   "source": [
    "1. http://gobase.org/studying/articles/elo/\n",
    "2. http://www.gamefaqs.com/boards/610657-dota-2/67994646\n",
    "3. https://github.com/sublee/elo/blob/master/elo.py\n",
    "4. http://stephenwan.net/thoughts/2012/10/02/elo-rating-system.html\n",
    "5. https://deltadata.wordpress.com/2014/01/11/glicko-2-for-tennis-part-2-the-model/comment-page-1/#comment-192\n",
    "6. https://github.com/sublee/glicko2/blob/master/glicko2.py\n",
    "7. http://trueskill.org/\n",
    "8. https://pypi.python.org/pypi/trueskill\n"
   ]
  },
  {
   "cell_type": "code",
   "execution_count": 54,
   "metadata": {
    "collapsed": false
   },
   "outputs": [],
   "source": [
    "### Make a dict of players with elo ratings ###\n",
    "# now, adding three more surface-specific dictionaries for clay, grass, hard\n",
    "players_list = np.union1d(atp_all_matches.w_name, atp_all_matches.l_name)\n",
    "players_elo = dict(zip(list(players_list), [elo.Rating() for __ in range(len(players_list))]))\n",
    "surface_elo = {}\n",
    "for surface in ('Hard','Clay','Grass'):\n",
    "    surface_elo[surface] = dict(zip(list(players_list), [elo.Rating() for __ in range(len(players_list))])) \n",
    "\n",
    "elo_1s, elo_2s = [],[]\n",
    "surface_elo_1s, surface_elo_2s = [],[]\n",
    "elo_obj = elo.Elo_Rater()\n",
    "\n",
    "# update player elo from every recorded atp match\n",
    "for i, row in atp_all_matches.iterrows():\n",
    "    surface = row['surface']; is_gs = row['is_gs']\n",
    "    # append elos, rate, update\n",
    "    w_elo,l_elo = players_elo[row['w_name']],players_elo[row['l_name']]\n",
    "    elo_1s.append(w_elo.value);elo_2s.append(l_elo.value)    \n",
    "    elo_obj.rate_1vs1(w_elo,l_elo,is_gs,counts=COUNT)\n",
    "\n",
    "    \n",
    "    surface_elo_1s.append(surface_elo[surface][row['w_name']].value if surface in ('Hard','Clay','Grass') else w_elo.value)\n",
    "    surface_elo_2s.append(surface_elo[surface][row['l_name']].value if surface in ('Hard','Clay','Grass') else l_elo.value)\n",
    "    if surface in ('Hard','Clay','Grass'):\n",
    "        new_elo1, new_elo2 = elo_obj.rate_1vs1(surface_elo[surface][row['w_name']],surface_elo[surface][row['l_name']],is_gs,counts=COUNT)\n",
    "\n",
    "# add columns\n",
    "atp_all_matches['w_elo'], atp_all_matches['l_elo'] = elo_1s, elo_2s\n",
    "atp_all_matches['w_s_elo'], atp_all_matches['l_s_elo'] = surface_elo_1s, surface_elo_2s"
   ]
  },
  {
   "cell_type": "code",
   "execution_count": 55,
   "metadata": {
    "collapsed": false
   },
   "outputs": [],
   "source": [
    "# track player match stats for every match since 2009 (we only need these for pbp matches)\n",
    "start_ind = 136146; atp_l = len(atp_all_matches)\n",
    "players_stats = {}\n",
    "# an array containing 2x1 arrays for winner and loser's previous 12-month serve performance over all matches in df\n",
    "match_52_stats = np.zeros([2,atp_l,4])\n",
    "w_l = ['w','l']\n",
    "for i, row in atp_all_matches.loc[start_ind:].iterrows():    \n",
    "    date = row['match_year'],row['match_month']           \n",
    "    for k,label in enumerate(w_l):\n",
    "        if row[label+'_name'] not in players_stats:\n",
    "            players_stats[row[label+'_name']] = stats_52(date)\n",
    "        # store serving stats prior to match\n",
    "        match_52_stats[k][i] = np.sum(players_stats[row[label+'_name']].last_year,axis=0)\n",
    "        # update serving stats if no\n",
    "        if row[label+'_swon']==row[label+'_swon'] and row[label+'_svpt']==row[label+'_svpt']:\n",
    "            \n",
    "            match_stats = (row[label+'_swon'],row[label+'_svpt'],row[w_l[1-k]+'_svpt']-row[w_l[1-k]+'_swon'],row[w_l[1-k]+'_svpt'])\n",
    "            players_stats[row[label+'_name']].update(date,match_stats)\n",
    "        match_52_stats[k][i] = np.sum(players_stats[row[label+'_name']].last_year,axis=0)\n",
    "\n",
    "for k,label in enumerate(w_l):\n",
    "    atp_all_matches[label+'_52_swon'] = match_52_stats[k][:,0]\n",
    "    atp_all_matches[label+'_52_svpt'] = match_52_stats[k][:,1]\n",
    "    atp_all_matches[label+'_52_rwon'] = match_52_stats[k][:,2]\n",
    "    atp_all_matches[label+'_52_rpt'] = match_52_stats[k][:,3]"
   ]
  },
  {
   "cell_type": "code",
   "execution_count": 74,
   "metadata": {
    "collapsed": false,
    "scrolled": true
   },
   "outputs": [],
   "source": [
    "tourney_stats = {}\n",
    "tourney_52_stats = np.zeros(atp_l)\n",
    "for i, row in atp_all_matches.loc[start_ind:].iterrows():\n",
    "    if row['tourney_name']=='Davis Cup' or row['w_swon']!=row['w_swon']:\n",
    "        continue\n",
    "    \n",
    "    year,t_id = row['tourney_id'].split('-')\n",
    "    year = int(year)\n",
    "    match_stats = (row['w_swon']+row['l_swon'],row['w_svpt']+row['l_svpt'])\n",
    "    if row['w_swon']!=row['w_swon']:\n",
    "        tourney_52_stats[i] = 0 if tourney_stats[t_id].tourney_stats[1][1]==0 else \\\n",
    "                            tourney_stats[t_id].tourney_stats[1][0]/float(self.tourney_stats[1][1])\n",
    "        \n",
    "    elif t_id in tourney_stats:\n",
    "        tourney_52_stats[i] = tourney_stats[t_id].update(year,match_stats)\n",
    "    else:\n",
    "        tourney_stats[t_id] = tourney_52(year)\n",
    "        tourney_52_stats[i] = tourney_stats[t_id].update(year,match_stats)\n",
    "    \n",
    "atp_all_matches['tourney_stats'] = tourney_52_stats"
   ]
  },
  {
   "cell_type": "code",
   "execution_count": null,
   "metadata": {
    "collapsed": true
   },
   "outputs": [],
   "source": []
  },
  {
   "cell_type": "code",
   "execution_count": 76,
   "metadata": {
    "collapsed": false
   },
   "outputs": [],
   "source": [
    "rankings = sorted(zip(players_elo.keys(),players_elo.values()),key=lambda x: x[1].value,reverse=True)\n",
    "#rankings"
   ]
  },
  {
   "cell_type": "code",
   "execution_count": 77,
   "metadata": {
    "collapsed": false
   },
   "outputs": [
    {
     "name": "stdout",
     "output_type": "stream",
     "text": [
      "(12086, 16)\n",
      "11877\n"
     ]
    }
   ],
   "source": [
    "# Combine all the matches that have pbp (point by point) information into one dataframe\n",
    "# and clean up columns in preparation for merging with all_atp_matches\n",
    "pbp_matches_archive = pd.read_csv(\"../tennis_data/pbp_matches_atp_main_archive.csv\")\n",
    "pbp_matches_archive_old = pd.read_csv(\"../tennis_data/pbp_matches_atp_main_archive_old.csv\")\n",
    "pbp_matches_current = pd.read_csv(\"../tennis_data/pbp_matches_atp_main_current.csv\")\n",
    "pbp_matches = pd.concat([pbp_matches_archive_old.loc[:932],pbp_matches_archive,pbp_matches_current])\n",
    "pbp_matches.winner = pbp_matches.winner - 1\n",
    "pbp_matches = pbp_matches.reset_index(); del pbp_matches['index']\n",
    "pbp_matches['w_name'] = np.where(pbp_matches['winner'] == 0, pbp_matches['server1'], pbp_matches['server2'])\n",
    "pbp_matches['l_name'] = np.where(pbp_matches['winner'] == 0, pbp_matches['server2'], pbp_matches['server1'])\n",
    "pbp_matches['w_name'] = [normalize_name(x) for x in pbp_matches['w_name']]\n",
    "pbp_matches['l_name'] = [normalize_name(x) for x in pbp_matches['l_name']]\n",
    "pbp_matches['date'] = pd.to_datetime(pbp_matches['date'])\n",
    "pbp_matches['match_year'] = [x.year for x in pbp_matches['date']]\n",
    "pbp_matches['match_month'] = [x.month for x in pbp_matches['date']]\n",
    "pbp_matches['date'] = [x.date() for x in pbp_matches['date']]\n",
    "pbp_matches['score'] = [re.sub(r\"[\\(\\[].*?[\\)\\]]\", \"\", s) for s in pbp_matches['score']]\n",
    "\n",
    "print pbp_matches.shape\n",
    "print len(set(pbp_matches['pbp'].values))"
   ]
  },
  {
   "cell_type": "code",
   "execution_count": 78,
   "metadata": {
    "collapsed": false
   },
   "outputs": [],
   "source": [
    "# Now, just make a dictionary with each key as 'w_name'+'l_name'+'match_year'+'score' to connect pbp \n",
    "# strings to atp_all_matches\n",
    "# would add match_month but this loses 800-900 matches\n",
    "# replacing dashes with spaces accounted for over 1000 more pbp matches\n",
    "# other discrepancies due to tiebreak scores, or matches in pbp being qualies, therefore\n",
    "# not tour-level matches\n",
    "# MUST REMOVE PARENTHESES TERMS FROM TIE-BREAKS IN SCORES\n",
    "\n",
    "pbp_dict = {}; winner_dict = {}\n",
    "for i in xrange(len(pbp_matches)):\n",
    "    key = pbp_matches['w_name'][i] +' ' +  pbp_matches['l_name'][i] + ' ' \\\n",
    "        + str(pbp_matches['match_year'][i]) + ' ' + pbp_matches['score'][i]\n",
    "    if key in pbp_dict:\n",
    "        continue\n",
    "    pbp_dict[key] = pbp_matches['pbp'][i]\n",
    "    winner_dict[key] = pbp_matches['winner'][i]"
   ]
  },
  {
   "cell_type": "code",
   "execution_count": 79,
   "metadata": {
    "collapsed": false
   },
   "outputs": [
    {
     "name": "stdout",
     "output_type": "stream",
     "text": [
      "collision\n",
      "Janko Tipsarevic Kei Nishikori 2011 6-4 6-4\n",
      "collision\n",
      "Robin Soderling Michael Berrer 2011 6-3 7-6\n",
      "collision\n",
      "Juan Martin Kevin Anderson 2011 6-4 6-4\n",
      "collision\n",
      "Philipp Kohlschreiber Mikhail Youzhny 2011 6-4 6-2\n",
      "collision\n",
      "Philipp Kohlschreiber Olivier Rochus 2012 6-1 6-4\n",
      "collision\n",
      "Viktor Troicki Radek Stepanek 2012 2-6 6-4 6-3\n",
      "collision\n",
      "Gilles Simon Grigor Dimitrov 2012 6-3 6-3\n",
      "collision\n",
      "Alexandr Dolgopolov Gilles Simon 2012 6-3 6-4\n",
      "collision\n",
      "Fabio Fognini Tommy Haas 2013 6-2 6-4\n",
      "collision\n",
      "Richard Gasquet Florian Mayer 2013 6-3 7-6\n",
      "collision\n",
      "Novak Djokovic Rafael Nadal 2013 6-3 6-4\n",
      "collision\n",
      "Tomas Berdych Gael Monfils 2015 6-1 6-4\n",
      "collision\n",
      "Novak Djokovic Rafael Nadal 2015 6-3 6-3\n",
      "10676\n"
     ]
    }
   ],
   "source": [
    "# in case of a collision (about 10 cases), I only take the first match with that key\n",
    "c = 0\n",
    "pbps = []\n",
    "winners = []\n",
    "info = {}\n",
    "\n",
    "for i in xrange(len(atp_all_matches)):\n",
    "    key = atp_all_matches['w_name'][i] +' ' +  atp_all_matches['l_name'][i] + ' ' \\\n",
    "        +str(atp_all_matches['match_year'][i])+' '+atp_all_matches['score'][i]\n",
    "    if key in pbp_dict:\n",
    "        c += 1\n",
    "        pbps.append(pbp_dict[key])\n",
    "        winners.append(winner_dict[key])\n",
    "        if key in info:\n",
    "            pbps[-1] = 'NA'; winners[-1] = 'NA'\n",
    "            print 'collision'; print key\n",
    "        info[key] = 1\n",
    "    else:\n",
    "        pbps.append('NA')\n",
    "        winners.append('NA')\n",
    "print c\n",
    "atp_all_matches['pbp'] = pbps\n",
    "atp_all_matches['winner'] = winners"
   ]
  },
  {
   "cell_type": "code",
   "execution_count": 80,
   "metadata": {
    "collapsed": false
   },
   "outputs": [],
   "source": [
    "# #demo of match-keys I created \n",
    "# a lot of the inconsistencies are challenger-level events or even exhibition matches (see 2017)\n",
    "# for i in xrange(len(pbp_matches)):\n",
    "#     key = pbp_matches['w_name'][i] +' ' +  pbp_matches['l_name'][i] + ' ' \\\n",
    "#         + str(pbp_matches['match_year'][i])+ ' ' + pbp_matches['score'][i]\n",
    "#     if key not in info:\n",
    "#         print i,key"
   ]
  },
  {
   "cell_type": "code",
   "execution_count": 81,
   "metadata": {
    "collapsed": false
   },
   "outputs": [],
   "source": [
    "df = atp_all_matches[atp_all_matches['pbp']!='NA']\n",
    "cols = df.columns.drop(['loser_id','winner_id'])\n",
    "df = df[cols]\n",
    "df = df.reset_index()\n",
    "del df['index']\n",
    "\n",
    "# SET UP LOOP TO CHANGE W,L TO P0,P1\n",
    "for col in ['_name','_elo','_s_elo','_52_swon','_52_svpt','_52_rwon','_52_rpt']:\n",
    "    df['p0'+col] = [df['l'+col][i] if df['winner'][i] else df['w'+col][i] for i in xrange(len(df))]\n",
    "    df['p1'+col] = [df['w'+col][i] if df['winner'][i] else df['l'+col][i] for i in xrange(len(df))]\n",
    "\n",
    "df['elo_diff'] = [df['p0_elo'][i] - df['p1_elo'][i] for i in xrange(len(df))]\n",
    "df['s_elo_diff'] = [df['p0_s_elo'][i] - df['p1_s_elo'][i] for i in xrange(len(df))]\n",
    "df = df[['tourney_id','tourney_name','tourney_date','p0_name','p1_name','p0_elo','p1_elo','elo_diff','p0_s_elo',\\\n",
    "         'p1_s_elo','s_elo_diff','p0_52_swon','p0_52_svpt','p1_52_swon','p1_52_svpt','p0_52_rwon','p0_52_rpt',\\\n",
    "         'p1_52_rwon','p1_52_rpt',  'tourney_stats','best_of','score','pbp','winner']]\n",
    "df['tourney_name'] = [s if s==s else 'Davis Cup' for s in df['tourney_name']]"
   ]
  },
  {
   "cell_type": "code",
   "execution_count": 82,
   "metadata": {
    "collapsed": false
   },
   "outputs": [
    {
     "name": "stdout",
     "output_type": "stream",
     "text": [
      "2009 :  0.626481155875\n",
      "2010 :  0.622760488149\n",
      "2011 :  0.623074885534\n",
      "2012 :  0.61532346595\n",
      "2013 :  0.635342621552\n",
      "2014 :  0.636493282294\n",
      "2015 :  0.64296875\n",
      "2016 :  0.643896664578\n",
      "2017 :  0.637466018028\n"
     ]
    }
   ],
   "source": [
    "for key in sorted(tourney_stats['580'].historical_avgs.keys()):\n",
    "    print key,': ',tourney_stats['580'].historical_avgs[key][0]/tourney_stats['580'].historical_avgs[key][1]"
   ]
  },
  {
   "cell_type": "code",
   "execution_count": 19,
   "metadata": {
    "collapsed": true
   },
   "outputs": [],
   "source": [
    "df.to_csv('../my_data/elo_pbp_with_surface_8_14.csv')"
   ]
  },
  {
   "cell_type": "code",
   "execution_count": 33,
   "metadata": {
    "collapsed": false
   },
   "outputs": [
    {
     "data": {
      "text/html": [
       "<div>\n",
       "<table border=\"1\" class=\"dataframe\">\n",
       "  <thead>\n",
       "    <tr style=\"text-align: right;\">\n",
       "      <th></th>\n",
       "      <th>pbp_id</th>\n",
       "      <th>date</th>\n",
       "      <th>tny_name</th>\n",
       "      <th>tour</th>\n",
       "      <th>draw</th>\n",
       "      <th>server1</th>\n",
       "      <th>server2</th>\n",
       "      <th>winner</th>\n",
       "      <th>pbp</th>\n",
       "      <th>score</th>\n",
       "      <th>adf_flag</th>\n",
       "      <th>wh_minutes</th>\n",
       "      <th>w_name</th>\n",
       "      <th>l_name</th>\n",
       "      <th>match_year</th>\n",
       "      <th>match_month</th>\n",
       "    </tr>\n",
       "  </thead>\n",
       "  <tbody>\n",
       "    <tr>\n",
       "      <th>2492</th>\n",
       "      <td>3362769</td>\n",
       "      <td>2012-08-18</td>\n",
       "      <td>WinstonSalemOpen-ATPWinstonSalem</td>\n",
       "      <td>ATP</td>\n",
       "      <td>Main</td>\n",
       "      <td>Jack Sock</td>\n",
       "      <td>Jurgen Zopp</td>\n",
       "      <td>0</td>\n",
       "      <td>SRSSS;SSSS;RSSSS;SSSS;SRRSSS;SSSS;SSSRS;RSRSSR...</td>\n",
       "      <td>6-4 7-6</td>\n",
       "      <td>0</td>\n",
       "      <td>116</td>\n",
       "      <td>Jack Sock</td>\n",
       "      <td>Jurgen Zopp</td>\n",
       "      <td>2012</td>\n",
       "      <td>8</td>\n",
       "    </tr>\n",
       "  </tbody>\n",
       "</table>\n",
       "</div>"
      ],
      "text/plain": [
       "       pbp_id        date                          tny_name tour  draw  \\\n",
       "2492  3362769  2012-08-18  WinstonSalemOpen-ATPWinstonSalem  ATP  Main   \n",
       "\n",
       "        server1      server2  winner  \\\n",
       "2492  Jack Sock  Jurgen Zopp       0   \n",
       "\n",
       "                                                    pbp    score  adf_flag  \\\n",
       "2492  SRSSS;SSSS;RSSSS;SSSS;SRRSSS;SSSS;SSSRS;RSRSSR...  6-4 7-6         0   \n",
       "\n",
       "      wh_minutes     w_name       l_name  match_year  match_month  \n",
       "2492         116  Jack Sock  Jurgen Zopp        2012            8  "
      ]
     },
     "execution_count": 33,
     "metadata": {},
     "output_type": "execute_result"
    }
   ],
   "source": [
    "# an example of a qualifying match in pbp_matches that will not be exported in elo_pbp.csv\n",
    "z = pbp_matches[pbp_matches['server2']=='Jurgen Zopp']\n",
    "z[z['server1']=='Jack Sock']"
   ]
  },
  {
   "cell_type": "code",
   "execution_count": 21,
   "metadata": {
    "collapsed": false,
    "scrolled": true
   },
   "outputs": [
    {
     "data": {
      "text/plain": [
       "(10675, 15)"
      ]
     },
     "execution_count": 21,
     "metadata": {},
     "output_type": "execute_result"
    }
   ],
   "source": [
    "df.shape"
   ]
  },
  {
   "cell_type": "code",
   "execution_count": 41,
   "metadata": {
    "collapsed": false
   },
   "outputs": [
    {
     "name": "stdout",
     "output_type": "stream",
     "text": [
      "0.695374163253\n",
      "0.690178839045\n"
     ]
    }
   ],
   "source": [
    "below = df[df['elo_diff']<0]\n",
    "above = df[df['elo_diff']>=0]\n",
    "\n",
    "print (len(below[below['winner']==1])+len(above[above['winner']==0]))/float(len(df))\n",
    "\n",
    "below = df[df['s_elo_diff']<0]\n",
    "above = df[df['s_elo_diff']>=0]\n",
    "\n",
    "print (len(below[below['winner']==1])+len(above[above['winner']==0]))/float(len(df))"
   ]
  },
  {
   "cell_type": "code",
   "execution_count": null,
   "metadata": {
    "collapsed": true
   },
   "outputs": [],
   "source": [
    "# # accept dates in (year,month); last_year contains last 12 month stats, most recent to least\n",
    "# # each month has a 4x1 row, containing 2x1 for serve and 2x1 for return\n",
    "# class stats_52():\n",
    "#     def __init__(self,date):\n",
    "#         self.most_recent = date\n",
    "#         self.last_year = np.zeros([12,4])\n",
    "        \n",
    "#     def time_diff(self,new_date,old_date):\n",
    "#         return 12*(new_date[0]-old_date[0])+(new_date[1]-old_date[1])\n",
    "    \n",
    "#     def update(self,match_date,match_stats):\n",
    "#         diff = self.time_diff(match_date,self.most_recent)\n",
    "#         if diff>=12:\n",
    "#             self.last_year = np.zeros([12,4])\n",
    "#         elif diff>0:\n",
    "#             self.last_year[diff:] = self.last_year[:12-diff]; self.last_year[:diff] = 0\n",
    "#         self.last_year[0] = self.last_year[0]+match_stats\n",
    "#         self.most_recent = match_date"
   ]
  }
 ],
 "metadata": {
  "kernelspec": {
   "display_name": "Python 2",
   "language": "python",
   "name": "python2"
  },
  "language_info": {
   "codemirror_mode": {
    "name": "ipython",
    "version": 2
   },
   "file_extension": ".py",
   "mimetype": "text/x-python",
   "name": "python",
   "nbconvert_exporter": "python",
   "pygments_lexer": "ipython2",
   "version": "2.7.13"
  }
 },
 "nbformat": 4,
 "nbformat_minor": 0
}
