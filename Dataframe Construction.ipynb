{
 "cells": [
  {
   "cell_type": "markdown",
   "metadata": {},
   "source": [
    "## Cleaning and Merging match and point-by-point Dataframes"
   ]
  },
  {
   "cell_type": "code",
   "execution_count": 1,
   "metadata": {
    "collapsed": false
   },
   "outputs": [],
   "source": [
    "# NEXT STEPS: assemble players win percentages from any set score (how well they do from one\n",
    "# set up, one down, came back to split, gave up to split) throughout career; can represent \n",
    "# this as a beta distribution\n",
    "# with prior as the average player of that current elo's probability with strength 5-10\n",
    "# \n",
    "# unfortunately, we can't tell who served first from the atp_matches database; for bigger dataframes,\n",
    "# I just set 'winner' to 1 by default\n",
    "from helper_functions import *\n",
    "from data_functions import *\n",
    "import pandas as pd\n",
    "import numpy as np\n",
    "import re\n",
    "import math\n",
    "import copy\n",
    "\n",
    "TOUR = 'atp'\n",
    "COUNT = False\n",
    "START_YEAR = 2000\n",
    "ONLY_PBP = 0"
   ]
  },
  {
   "cell_type": "code",
   "execution_count": 2,
   "metadata": {
    "collapsed": false
   },
   "outputs": [
    {
     "name": "stdout",
     "output_type": "stream",
     "text": [
      "(159505, 59)\n"
     ]
    },
    {
     "data": {
      "text/html": [
       "<div>\n",
       "<table border=\"1\" class=\"dataframe\">\n",
       "  <thead>\n",
       "    <tr style=\"text-align: right;\">\n",
       "      <th></th>\n",
       "      <th>tourney_id</th>\n",
       "      <th>tourney_name</th>\n",
       "      <th>surface</th>\n",
       "      <th>draw_size</th>\n",
       "      <th>tourney_level</th>\n",
       "      <th>tourney_date</th>\n",
       "      <th>match_num</th>\n",
       "      <th>winner_id</th>\n",
       "      <th>winner_seed</th>\n",
       "      <th>winner_entry</th>\n",
       "      <th>...</th>\n",
       "      <th>pbp</th>\n",
       "      <th>is_gs</th>\n",
       "      <th>match_year</th>\n",
       "      <th>match_month</th>\n",
       "      <th>w_swon</th>\n",
       "      <th>l_swon</th>\n",
       "      <th>w_rwon</th>\n",
       "      <th>l_rwon</th>\n",
       "      <th>w_rpt</th>\n",
       "      <th>l_rpt</th>\n",
       "    </tr>\n",
       "  </thead>\n",
       "  <tbody>\n",
       "    <tr>\n",
       "      <th>0</th>\n",
       "      <td>1968-580</td>\n",
       "      <td>Australian Open</td>\n",
       "      <td>Grass</td>\n",
       "      <td>64</td>\n",
       "      <td>G</td>\n",
       "      <td>1968-01-19</td>\n",
       "      <td>1</td>\n",
       "      <td>110023</td>\n",
       "      <td>NaN</td>\n",
       "      <td>NaN</td>\n",
       "      <td>...</td>\n",
       "      <td>None</td>\n",
       "      <td>True</td>\n",
       "      <td>1968</td>\n",
       "      <td>1</td>\n",
       "      <td>NaN</td>\n",
       "      <td>NaN</td>\n",
       "      <td>NaN</td>\n",
       "      <td>NaN</td>\n",
       "      <td>NaN</td>\n",
       "      <td>NaN</td>\n",
       "    </tr>\n",
       "    <tr>\n",
       "      <th>1</th>\n",
       "      <td>1968-580</td>\n",
       "      <td>Australian Open</td>\n",
       "      <td>Grass</td>\n",
       "      <td>64</td>\n",
       "      <td>G</td>\n",
       "      <td>1968-01-19</td>\n",
       "      <td>2</td>\n",
       "      <td>109803</td>\n",
       "      <td>NaN</td>\n",
       "      <td>NaN</td>\n",
       "      <td>...</td>\n",
       "      <td>None</td>\n",
       "      <td>True</td>\n",
       "      <td>1968</td>\n",
       "      <td>1</td>\n",
       "      <td>NaN</td>\n",
       "      <td>NaN</td>\n",
       "      <td>NaN</td>\n",
       "      <td>NaN</td>\n",
       "      <td>NaN</td>\n",
       "      <td>NaN</td>\n",
       "    </tr>\n",
       "  </tbody>\n",
       "</table>\n",
       "<p>2 rows × 59 columns</p>\n",
       "</div>"
      ],
      "text/plain": [
       "  tourney_id     tourney_name surface  draw_size tourney_level tourney_date  \\\n",
       "0   1968-580  Australian Open   Grass         64             G   1968-01-19   \n",
       "1   1968-580  Australian Open   Grass         64             G   1968-01-19   \n",
       "\n",
       "   match_num  winner_id  winner_seed winner_entry  ...    pbp is_gs  \\\n",
       "0          1     110023          NaN          NaN  ...   None  True   \n",
       "1          2     109803          NaN          NaN  ...   None  True   \n",
       "\n",
       "   match_year match_month  w_swon  l_swon  w_rwon  l_rwon  w_rpt l_rpt  \n",
       "0        1968           1     NaN     NaN     NaN     NaN    NaN   NaN  \n",
       "1        1968           1     NaN     NaN     NaN     NaN    NaN   NaN  \n",
       "\n",
       "[2 rows x 59 columns]"
      ]
     },
     "execution_count": 2,
     "metadata": {},
     "output_type": "execute_result"
    }
   ],
   "source": [
    "atp_year_list = []\n",
    "for i in xrange(1968,2018):\n",
    "    atp_year_list.append(pd.read_csv(\"../tennis_data/atp/atp_matches_{0}.csv\".format(i)))\n",
    "df = pd.concat(atp_year_list, ignore_index = True)\n",
    "\n",
    "# these may be changes specific to atp dataframe; normalize_name() is specific to atp/wta...\n",
    "df = df.rename(columns={'winner_name':'w_name','loser_name':'l_name'})\n",
    "df['w_name'] = [normalize_name(x,tour=TOUR) for x in df['w_name']]\n",
    "df['l_name'] = [normalize_name(x,tour=TOUR) for x in df['l_name']]\n",
    "df['tourney_name'] = ['Davis Cup' if 'Davis Cup' in s else s for s in df['tourney_name']]\n",
    "df['tourney_name'] = [s.replace('Australian Chps.','Australian Open').replace('Australian Open-2','Australian Open')\\\n",
    "                        .replace('U.S. National Chps.','US Open') for s in df['tourney_name']]\n",
    "\n",
    "ret_strings = ('ABN','DEF','In Progress','RET','W/O',' RET',' W/O','nan','walkover')\n",
    "abd_strings = ('abandoned','ABN','ABD','DEF','def','unfinished','Walkover')\n",
    "atp_all_matches = format_match_df(df,ret_strings=ret_strings,abd_strings=abd_strings)\n",
    "# atp_all_matches = atp_all_matches[['tourney_id','tourney_name','tourney_date','match_num','surface','is_gs','w_name','l_name',\n",
    "#                 'winner_id','loser_id','best_of','match_year','match_month','score','w_swon','w_svpt','l_swon','l_svpt']]\n",
    "print atp_all_matches.shape\n",
    "atp_all_matches.head(2)"
   ]
  },
  {
   "cell_type": "code",
   "execution_count": 3,
   "metadata": {
    "collapsed": false
   },
   "outputs": [
    {
     "data": {
      "text/plain": [
       "Index([u'tourney_id', u'tourney_name', u'surface', u'draw_size',\n",
       "       u'tourney_level', u'tourney_date', u'match_num', u'winner_id',\n",
       "       u'winner_seed', u'winner_entry', u'w_name', u'winner_hand',\n",
       "       u'winner_ht', u'winner_ioc', u'winner_age', u'winner_rank',\n",
       "       u'winner_rank_points', u'loser_id', u'loser_seed', u'loser_entry',\n",
       "       u'l_name', u'loser_hand', u'loser_ht', u'loser_ioc', u'loser_age',\n",
       "       u'loser_rank', u'loser_rank_points', u'score', u'best_of', u'round',\n",
       "       u'minutes', u'w_ace', u'w_df', u'w_svpt', u'w_1stIn', u'w_1stWon',\n",
       "       u'w_2ndWon', u'w_SvGms', u'w_bpSaved', u'w_bpFaced', u'l_ace', u'l_df',\n",
       "       u'l_svpt', u'l_1stIn', u'l_1stWon', u'l_2ndWon', u'l_SvGms',\n",
       "       u'l_bpSaved', u'l_bpFaced', u'pbp', u'is_gs', u'match_year',\n",
       "       u'match_month', u'w_swon', u'l_swon', u'w_rwon', u'l_rwon', u'w_rpt',\n",
       "       u'l_rpt'],\n",
       "      dtype='object')"
      ]
     },
     "execution_count": 3,
     "metadata": {},
     "output_type": "execute_result"
    }
   ],
   "source": [
    "atp_all_matches.columns"
   ]
  },
  {
   "cell_type": "code",
   "execution_count": 4,
   "metadata": {
    "collapsed": true
   },
   "outputs": [],
   "source": [
    "# 6-3 6-1, you have no idea if winner served first or second..."
   ]
  },
  {
   "cell_type": "code",
   "execution_count": 5,
   "metadata": {
    "collapsed": false
   },
   "outputs": [],
   "source": [
    "#atp_all_matches[['score','w_SvGms','l_SvGms']].loc[130000:]"
   ]
  },
  {
   "cell_type": "code",
   "execution_count": 6,
   "metadata": {
    "collapsed": false
   },
   "outputs": [
    {
     "name": "stdout",
     "output_type": "stream",
     "text": [
      "atp avg serve pct:  0.624189285218\n",
      "atp avg return pct:  0.375810714782\n"
     ]
    }
   ],
   "source": [
    "# find the overall serve/return percentages; also by tournament\n",
    "sv_pct = np.sum(atp_all_matches['w_swon']+atp_all_matches['l_swon'])/np.sum(atp_all_matches['w_svpt']+atp_all_matches['l_svpt'])\n",
    "print 'atp avg serve pct: ', sv_pct\n",
    "print 'atp avg return pct: ', 1-sv_pct"
   ]
  },
  {
   "cell_type": "code",
   "execution_count": 7,
   "metadata": {
    "collapsed": true
   },
   "outputs": [],
   "source": [
    "# generate tourney stats from one year behind START_DATE to get stats_52 \n",
    "start_ind = atp_all_matches[atp_all_matches['match_year']>=START_YEAR-1].index[0]\n",
    "atp_all_matches = generate_elo(atp_all_matches,COUNT)\n",
    "atp_all_matches = generate_52_stats(atp_all_matches,start_ind)\n",
    "atp_all_matches = generate_tourney_stats(atp_all_matches,start_ind)"
   ]
  },
  {
   "cell_type": "code",
   "execution_count": 8,
   "metadata": {
    "collapsed": false
   },
   "outputs": [],
   "source": [
    "#rankings = sorted(zip(players_elo.keys(),players_elo.values()),key=lambda x: x[1].value,reverse=True)\n",
    "#rankings"
   ]
  },
  {
   "cell_type": "code",
   "execution_count": 9,
   "metadata": {
    "collapsed": false
   },
   "outputs": [
    {
     "name": "stdout",
     "output_type": "stream",
     "text": [
      "(12086, 16)\n",
      "11877\n"
     ]
    }
   ],
   "source": [
    "# Combine all the matches that have pbp (point by point) information into one dataframe\n",
    "# and clean up columns in preparation for merging with all_atp_matches\n",
    "pbp_matches_archive = pd.read_csv(\"../tennis_data/pbp_matches_atp_main_archive.csv\")\n",
    "pbp_matches_archive_old = pd.read_csv(\"../tennis_data/pbp_matches_atp_main_archive_old.csv\")\n",
    "pbp_matches_current = pd.read_csv(\"../tennis_data/pbp_matches_atp_main_current.csv\")\n",
    "pbp_matches = pd.concat([pbp_matches_archive_old.loc[:932],pbp_matches_archive,pbp_matches_current])\n",
    "pbp_matches.winner = pbp_matches.winner - 1\n",
    "pbp_matches = pbp_matches.reset_index(); del pbp_matches['index']\n",
    "pbp_matches = format_pbp_df(pbp_matches,tour=TOUR)\n",
    "\n",
    "# there's a few duplicate rows, but it doesn't matter since we use hashing to connect\n",
    "print pbp_matches.shape\n",
    "print len(set(pbp_matches['pbp'].values))"
   ]
  },
  {
   "cell_type": "code",
   "execution_count": 10,
   "metadata": {
    "collapsed": false
   },
   "outputs": [
    {
     "name": "stdout",
     "output_type": "stream",
     "text": [
      "collision\n",
      "Viktor Troicki Radek Stepanek 2012 2-6 6-4 6-3 5 5\n",
      "collision\n",
      "Fabio Fognini Tommy Haas 2013 6-2 6-4 7 7\n",
      "10670\n"
     ]
    },
    {
     "name": "stderr",
     "output_type": "stream",
     "text": [
      "/Users/jacobgollub/anaconda/lib/python2.7/site-packages/data_functions.py:170: SettingWithCopyWarning: \n",
      "A value is trying to be set on a copy of a slice from a DataFrame.\n",
      "Try using .loc[row_indexer,col_indexer] = value instead\n",
      "\n",
      "See the caveats in the documentation: http://pandas.pydata.org/pandas-docs/stable/indexing.html#indexing-view-versus-copy\n",
      "  match_df['pbp'] = pbps\n",
      "/Users/jacobgollub/anaconda/lib/python2.7/site-packages/data_functions.py:171: SettingWithCopyWarning: \n",
      "A value is trying to be set on a copy of a slice from a DataFrame.\n",
      "Try using .loc[row_indexer,col_indexer] = value instead\n",
      "\n",
      "See the caveats in the documentation: http://pandas.pydata.org/pandas-docs/stable/indexing.html#indexing-view-versus-copy\n",
      "  match_df['winner'] = winners\n"
     ]
    }
   ],
   "source": [
    "# dictionary with each key as 'w_name'+'l_name'+'match_year'+'score' to connect pbp \n",
    "# strings to atp_all_matches (I removed parentheses terms from tb scores)\n",
    "# adding match_month loses 800-900 matches; replacing dashes with spaces saves over 1000 matches\n",
    "# other discrepancies due to tiebreak scores, or qualies\n",
    "duplicates = ['Janko Tipsarevic Kei Nishikori 2011 6-4 6-4','Robin Soderling Michael Berrer 2011 6-3 7-6',\n",
    "            'Juan Martin Kevin Anderson 2011 6-4 6-4','Philipp Kohlschreiber Mikhail Youzhny 2011 6-4 6-2',\n",
    "            'Philipp Kohlschreiber Olivier Rochus 2012 6-1 6-4','Viktor Troicki Radek Stepanek 2012 2-6 6-4 6-3',\n",
    "            'Gilles Simon Grigor Dimitrov 2012 6-3 6-3','Alexandr Dolgopolov Gilles Simon 2012 6-3 6-4',\n",
    "            'Fabio Fognini Tommy Haas 2013 6-2 6-4','Richard Gasquet Florian Mayer 2013 6-3 7-6',\n",
    "            'Novak Djokovic Rafael Nadal 2013 6-3 6-4','Tomas Berdych Gael Monfils 2015 6-1 6-4',\n",
    "            'Novak Djokovic Rafael Nadal 2015 6-3 6-3']\n",
    "collision_d = dict(zip(duplicates,[0]*len(duplicates)))\n",
    "\n",
    "#TO DO: FIX connect_df\n",
    "\n",
    "# connects the two dataframes on match keys and reformats columns fro w/l to p0/p1\n",
    "df = connect_df(match_df=atp_all_matches,pbp_df=pbp_matches,col_d=collision_d,start_year=2000)\n",
    "\n",
    "# dataframe with only matches that have pbp\n",
    "if ONLY_PBP:\n",
    "    df = df[df['pbp']!='None']\n",
    "else:\n",
    "    df = df[df['winner']!='None']"
   ]
  },
  {
   "cell_type": "code",
   "execution_count": 11,
   "metadata": {
    "collapsed": false
   },
   "outputs": [],
   "source": [
    "# #demo of match-keys I created \n",
    "# a lot of the inconsistencies are challenger-level events or even exhibition matches (see 2017)\n",
    "# for i in xrange(len(pbp_matches)):\n",
    "#     key = pbp_matches['w_name'][i] +' ' +  pbp_matches['l_name'][i] + ' ' \\\n",
    "#         + str(pbp_matches['match_year'][i])+ ' ' + pbp_matches['score'][i]\n",
    "#     if key not in info:\n",
    "#         print i,key"
   ]
  },
  {
   "cell_type": "code",
   "execution_count": 12,
   "metadata": {
    "collapsed": false
   },
   "outputs": [
    {
     "name": "stdout",
     "output_type": "stream",
     "text": [
      "0.639327396808 0.360672603192\n"
     ]
    },
    {
     "data": {
      "text/html": [
       "<div>\n",
       "<table border=\"1\" class=\"dataframe\">\n",
       "  <thead>\n",
       "    <tr style=\"text-align: right;\">\n",
       "      <th></th>\n",
       "      <th>p0_52_swon</th>\n",
       "      <th>p0_52_svpt</th>\n",
       "      <th>p0_s_pct</th>\n",
       "      <th>p0_s_pct_JS</th>\n",
       "      <th>p1_52_swon</th>\n",
       "      <th>p1_52_svpt</th>\n",
       "      <th>p1_s_pct</th>\n",
       "      <th>p1_s_pct_JS</th>\n",
       "      <th>p0_52_rwon</th>\n",
       "      <th>p0_52_rpt</th>\n",
       "      <th>p0_r_pct</th>\n",
       "      <th>p0_r_pct_JS</th>\n",
       "      <th>p1_52_rwon</th>\n",
       "      <th>p1_52_rpt</th>\n",
       "      <th>p1_r_pct</th>\n",
       "      <th>p1_r_pct_JS</th>\n",
       "    </tr>\n",
       "  </thead>\n",
       "  <tbody>\n",
       "    <tr>\n",
       "      <th>0</th>\n",
       "      <td>2206.0</td>\n",
       "      <td>3742.0</td>\n",
       "      <td>0.589524</td>\n",
       "      <td>0.591363</td>\n",
       "      <td>2979.0</td>\n",
       "      <td>4631.0</td>\n",
       "      <td>0.643274</td>\n",
       "      <td>0.643155</td>\n",
       "      <td>1367.0</td>\n",
       "      <td>3499.0</td>\n",
       "      <td>0.390683</td>\n",
       "      <td>0.389171</td>\n",
       "      <td>1823.0</td>\n",
       "      <td>4656.0</td>\n",
       "      <td>0.391538</td>\n",
       "      <td>0.390354</td>\n",
       "    </tr>\n",
       "    <tr>\n",
       "      <th>1</th>\n",
       "      <td>1286.0</td>\n",
       "      <td>2085.0</td>\n",
       "      <td>0.616787</td>\n",
       "      <td>0.618238</td>\n",
       "      <td>1346.0</td>\n",
       "      <td>2148.0</td>\n",
       "      <td>0.626629</td>\n",
       "      <td>0.627424</td>\n",
       "      <td>738.0</td>\n",
       "      <td>2027.0</td>\n",
       "      <td>0.364085</td>\n",
       "      <td>0.363798</td>\n",
       "      <td>830.0</td>\n",
       "      <td>2199.0</td>\n",
       "      <td>0.377444</td>\n",
       "      <td>0.376138</td>\n",
       "    </tr>\n",
       "  </tbody>\n",
       "</table>\n",
       "</div>"
      ],
      "text/plain": [
       "   p0_52_swon  p0_52_svpt  p0_s_pct  p0_s_pct_JS  p1_52_swon  p1_52_svpt  \\\n",
       "0      2206.0      3742.0  0.589524     0.591363      2979.0      4631.0   \n",
       "1      1286.0      2085.0  0.616787     0.618238      1346.0      2148.0   \n",
       "\n",
       "   p1_s_pct  p1_s_pct_JS  p0_52_rwon  p0_52_rpt  p0_r_pct  p0_r_pct_JS  \\\n",
       "0  0.643274     0.643155      1367.0     3499.0  0.390683     0.389171   \n",
       "1  0.626629     0.627424       738.0     2027.0  0.364085     0.363798   \n",
       "\n",
       "   p1_52_rwon  p1_52_rpt  p1_r_pct  p1_r_pct_JS  \n",
       "0      1823.0     4656.0  0.391538     0.390354  \n",
       "1       830.0     2199.0  0.377444     0.376138  "
      ]
     },
     "execution_count": 12,
     "metadata": {},
     "output_type": "execute_result"
    }
   ],
   "source": [
    "# TO DO: check that these are correct...something is WRONG with the betas and sigma2s...\n",
    "p_hat,df = generate_JS_stats(df)\n",
    "print p_hat,1-p_hat\n",
    "df[['p0_52_swon','p0_52_svpt','p0_s_pct','p0_s_pct_JS','p1_52_swon','p1_52_svpt','p1_s_pct','p1_s_pct_JS', \\\n",
    "    'p0_52_rwon','p0_52_rpt','p0_r_pct','p0_r_pct_JS','p1_52_rwon','p1_52_rpt','p1_r_pct','p1_r_pct_JS']].head(2)"
   ]
  },
  {
   "cell_type": "code",
   "execution_count": 13,
   "metadata": {
    "collapsed": false
   },
   "outputs": [],
   "source": [
    "df = df[['tourney_id','tourney_name','tourney_date','match_year','p0_name','p1_name','p0_elo','p1_elo','elo_diff','p0_s_elo',\\\n",
    "         'p1_s_elo','s_elo_diff','p0_52_swon','p0_52_svpt','p0_s_pct','p0_s_pct_JS','p1_52_swon','p1_52_svpt', \\\n",
    "         'p1_s_pct','p1_s_pct_JS','p0_52_rwon','p0_52_rpt','p0_r_pct','p0_r_pct_JS','p1_52_rwon','p1_52_rpt', \\\n",
    "         'p1_r_pct','p1_r_pct_JS',     'tourney_stats','best_of','score','pbp','winner']]\n",
    "\n",
    "# winner is a binary indicator for whether player 0 won (reverse this for pbp_matches and randomly\n",
    "# generated 0s and 1s)\n",
    "df['winner'] = [1-winner for winner in df['winner']]"
   ]
  },
  {
   "cell_type": "code",
   "execution_count": 14,
   "metadata": {
    "collapsed": false
   },
   "outputs": [],
   "source": [
    "f_av = 0.646775\n",
    "g_av = 1 - f_av\n",
    "\n",
    "df['match_id'] = range(len(df))\n",
    "df['tourney_stats'] = [f_av if stat==0 else stat for stat in df['tourney_stats']]\n",
    "df['p0_s_kls'] = df['tourney_stats'] + (df['p0_s_pct']-f_av) - (df['p1_r_pct']-g_av)\n",
    "df['p1_s_kls'] = df['tourney_stats'] + (df['p1_s_pct']-f_av) - (df['p0_r_pct']-g_av)\n",
    "df['p0_s_kls_JS'] = df['tourney_stats'] + (df['p0_s_pct_JS']-f_av) - (df['p1_r_pct_JS']-g_av)\n",
    "df['p1_s_kls_JS'] = df['tourney_stats'] + (df['p1_s_pct_JS']-f_av) - (df['p0_r_pct_JS']-g_av)\n",
    "#df['tourney_id'] = [tid_dict[m_id] for m_id in df['match_id']]"
   ]
  },
  {
   "cell_type": "code",
   "execution_count": 18,
   "metadata": {
    "collapsed": false
   },
   "outputs": [],
   "source": [
    "#df[['p0_name','p1_name','winner']]"
   ]
  },
  {
   "cell_type": "code",
   "execution_count": null,
   "metadata": {
    "collapsed": true
   },
   "outputs": [],
   "source": []
  },
  {
   "cell_type": "code",
   "execution_count": 17,
   "metadata": {
    "collapsed": true
   },
   "outputs": [],
   "source": [
    "\n",
    "\n",
    "# to do: fix the winner column in this matches dataframe\n",
    "df.to_csv('../my_data/elo_atp_matches_21st_century.csv')\n",
    "#df.to_csv('../my_data/elo_pbp_with_surface_8_27.csv')"
   ]
  },
  {
   "cell_type": "markdown",
   "metadata": {},
   "source": [
    "## Enumerating point-by-point dataframe"
   ]
  },
  {
   "cell_type": "code",
   "execution_count": 11,
   "metadata": {
    "collapsed": false
   },
   "outputs": [],
   "source": [
    "from collections import Counter\n",
    "import time\n",
    "\n",
    "df = pd.read_csv('../my_data/elo_pbp_with_surface_8_27.csv')\n",
    "del df['Unnamed: 0']\n",
    "\n",
    "# append . to end of pbp string to signify end of match if not marked '0' means player0 won;\n",
    "# '1' means player1 won (originally player1, player2); small fix for dead rubbers\n",
    "df['pbp'] = [s + '.' if s[-1]!= '.' else s for s in df['pbp']]\n",
    "\n",
    "# you should add all columns beforehand...\n",
    "tid_dict = dict(zip(df['match_id'],df['tourney_id']))\n",
    "df.rename(columns={'tourney_name':'tny_name'},inplace=True)\n",
    "df['tny_name'] = [df['tny_name'][i]+' (3)' if df['tny_name'][i]=='Davis Cup' and \\\n",
    "                  df['best_of'][i]==3 else df['tny_name'][i] for i in xrange(len(df))]"
   ]
  },
  {
   "cell_type": "code",
   "execution_count": 12,
   "metadata": {
    "collapsed": false
   },
   "outputs": [],
   "source": [
    "# split this df into best-of-three and best-of-five matches\n",
    "gs_tourneys = ['Australian Open', 'Davis Cup', 'Roland Garros', 'US Open', 'Wimbledon']\n",
    "df_pbp3 = df[~df['tny_name'].isin(gs_tourneys)]\n",
    "df_pbp5 = df[df['tny_name'].isin(gs_tourneys)]\n",
    "df_pbp3=df_pbp3.reset_index();df_pbp5=df_pbp5.reset_index()\n",
    "del df_pbp3['index']; del df_pbp5['index']\n",
    "\n",
    "final_set_d = Counter()\n",
    "for gs in gs_tourneys: final_set_d[gs]=1 if gs!='US Open' else 0"
   ]
  },
  {
   "cell_type": "code",
   "execution_count": 13,
   "metadata": {
    "collapsed": false
   },
   "outputs": [
    {
     "name": "stdout",
     "output_type": "stream",
     "text": [
      "time:  11.141925\n"
     ]
    }
   ],
   "source": [
    "set_order_d = dict(zip(range(len(df)),[get_set_order(df['pbp'][i]) for i in xrange(len(df))]))\n",
    "\n",
    "# add JS-estimator columns\n",
    "start = time.clock()\n",
    "cols = ['match_id','elo_diff','s_elo_diff','winner','p0_s_pct','p0_s_pct_JS','p1_s_pct','p1_s_pct_JS',\\\n",
    "        'p0_r_pct','p0_r_pct_JS','p1_r_pct','p1_r_pct_JS', 'tourney_stats','best_of']\n",
    "df_pred = generate_df_2(df_pbp3,cols,0)\n",
    "print 'time: ', time.clock()-start"
   ]
  },
  {
   "cell_type": "code",
   "execution_count": 14,
   "metadata": {
    "collapsed": true
   },
   "outputs": [],
   "source": [
    "breaks = [0]*len(df_pred)\n",
    "for i in xrange(len(df_pred)):\n",
    "    breaks[i] = break_point(df_pred['score'][i])\n",
    "df_pred['up_break_point'] = [a[0] for a in breaks]\n",
    "df_pred['down_break_point'] = [a[1] for a in breaks]\n",
    "df_pred['break_adv'] = [service_breaks(df_pred['score'][i]) for i in xrange(len(df_pred))]"
   ]
  },
  {
   "cell_type": "code",
   "execution_count": null,
   "metadata": {
    "collapsed": true
   },
   "outputs": [],
   "source": [
    "f_av = 0.646775\n",
    "g_av = 1 - f_av\n",
    "\n",
    "df_pred['tourney_stats'] = [f_av if stat==0 else stat for stat in df_pred['tourney_stats']]\n",
    "df_pred['p0_s_kls'] = df_pred['tourney_stats'] + (df_pred['p0_s_pct']-f_av) - (df_pred['p1_r_pct']-g_av)\n",
    "df_pred['p1_s_kls'] = df_pred['tourney_stats'] + (df_pred['p1_s_pct']-f_av) - (df_pred['p0_r_pct']-g_av)\n",
    "df_pred['p0_s_kls_JS'] = df_pred['tourney_stats'] + (df_pred['p0_s_pct_JS']-f_av) - (df_pred['p1_r_pct_JS']-g_av)\n",
    "df_pred['p1_s_kls_JS'] = df_pred['tourney_stats'] + (df_pred['p1_s_pct_JS']-f_av) - (df_pred['p0_r_pct_JS']-g_av)\n",
    "df_pred['tourney_id'] = [tid_dict[m_id] for m_id in df_pred['match_id']]"
   ]
  },
  {
   "cell_type": "code",
   "execution_count": 16,
   "metadata": {
    "collapsed": true
   },
   "outputs": [],
   "source": [
    "df_pred.to_csv('../my_data/feature_df_pbp3_8_27.csv')"
   ]
  },
  {
   "cell_type": "code",
   "execution_count": null,
   "metadata": {
    "collapsed": true
   },
   "outputs": [],
   "source": []
  },
  {
   "cell_type": "code",
   "execution_count": null,
   "metadata": {
    "collapsed": true
   },
   "outputs": [],
   "source": []
  },
  {
   "cell_type": "code",
   "execution_count": null,
   "metadata": {
    "collapsed": true
   },
   "outputs": [],
   "source": []
  },
  {
   "cell_type": "code",
   "execution_count": 1,
   "metadata": {
    "collapsed": true
   },
   "outputs": [],
   "source": [
    "# 7/26 update: seem to have fixed some glitches in my previous adaptation of 538's elo method\n",
    "# everything is very simple in elo_538.py; also fixed the match order within tournaments in atp_all_matches\n",
    "\n",
    "# note: we improved from 9563 to 10000 matches with string manipulations\n",
    "# my elo scores seem close to Jeff Sackman's when I set k=32 as constant; when using the 538 style of \"cooling\" k-factor,\n",
    "# those elos are going to be inflated in comparison (but keep in mind, that's only different across methods)"
   ]
  },
  {
   "cell_type": "code",
   "execution_count": 21,
   "metadata": {
    "collapsed": false
   },
   "outputs": [
    {
     "name": "stdout",
     "output_type": "stream",
     "text": [
      "2009 :  0.626481155875\n",
      "2010 :  0.622760488149\n",
      "2011 :  0.623074885534\n",
      "2012 :  0.61532346595\n",
      "2013 :  0.635342621552\n",
      "2014 :  0.636493282294\n",
      "2015 :  0.64296875\n",
      "2016 :  0.643896664578\n",
      "2017 :  0.637466018028\n"
     ]
    }
   ],
   "source": [
    "# tournament serving averages at the Australian Open\n",
    "for key in sorted(tourney_stats['580'].historical_avgs.keys()):\n",
    "    print key,': ',tourney_stats['580'].historical_avgs[key][0]/tourney_stats['580'].historical_avgs[key][1]"
   ]
  },
  {
   "cell_type": "code",
   "execution_count": 33,
   "metadata": {
    "collapsed": false
   },
   "outputs": [
    {
     "data": {
      "text/html": [
       "<div>\n",
       "<table border=\"1\" class=\"dataframe\">\n",
       "  <thead>\n",
       "    <tr style=\"text-align: right;\">\n",
       "      <th></th>\n",
       "      <th>pbp_id</th>\n",
       "      <th>date</th>\n",
       "      <th>tny_name</th>\n",
       "      <th>tour</th>\n",
       "      <th>draw</th>\n",
       "      <th>server1</th>\n",
       "      <th>server2</th>\n",
       "      <th>winner</th>\n",
       "      <th>pbp</th>\n",
       "      <th>score</th>\n",
       "      <th>adf_flag</th>\n",
       "      <th>wh_minutes</th>\n",
       "      <th>w_name</th>\n",
       "      <th>l_name</th>\n",
       "      <th>match_year</th>\n",
       "      <th>match_month</th>\n",
       "    </tr>\n",
       "  </thead>\n",
       "  <tbody>\n",
       "    <tr>\n",
       "      <th>2492</th>\n",
       "      <td>3362769</td>\n",
       "      <td>2012-08-18</td>\n",
       "      <td>WinstonSalemOpen-ATPWinstonSalem</td>\n",
       "      <td>ATP</td>\n",
       "      <td>Main</td>\n",
       "      <td>Jack Sock</td>\n",
       "      <td>Jurgen Zopp</td>\n",
       "      <td>0</td>\n",
       "      <td>SRSSS;SSSS;RSSSS;SSSS;SRRSSS;SSSS;SSSRS;RSRSSR...</td>\n",
       "      <td>6-4 7-6</td>\n",
       "      <td>0</td>\n",
       "      <td>116</td>\n",
       "      <td>Jack Sock</td>\n",
       "      <td>Jurgen Zopp</td>\n",
       "      <td>2012</td>\n",
       "      <td>8</td>\n",
       "    </tr>\n",
       "  </tbody>\n",
       "</table>\n",
       "</div>"
      ],
      "text/plain": [
       "       pbp_id        date                          tny_name tour  draw  \\\n",
       "2492  3362769  2012-08-18  WinstonSalemOpen-ATPWinstonSalem  ATP  Main   \n",
       "\n",
       "        server1      server2  winner  \\\n",
       "2492  Jack Sock  Jurgen Zopp       0   \n",
       "\n",
       "                                                    pbp    score  adf_flag  \\\n",
       "2492  SRSSS;SSSS;RSSSS;SSSS;SRRSSS;SSSS;SSSRS;RSRSSR...  6-4 7-6         0   \n",
       "\n",
       "      wh_minutes     w_name       l_name  match_year  match_month  \n",
       "2492         116  Jack Sock  Jurgen Zopp        2012            8  "
      ]
     },
     "execution_count": 33,
     "metadata": {},
     "output_type": "execute_result"
    }
   ],
   "source": [
    "# an example of a qualifying match in pbp_matches that will not be exported in elo_pbp.csv\n",
    "z = pbp_matches[pbp_matches['server2']=='Jurgen Zopp']\n",
    "z[z['server1']=='Jack Sock']"
   ]
  },
  {
   "cell_type": "code",
   "execution_count": 98,
   "metadata": {
    "collapsed": false
   },
   "outputs": [
    {
     "name": "stdout",
     "output_type": "stream",
     "text": [
      "0.696569178853\n",
      "0.691038620172\n"
     ]
    }
   ],
   "source": [
    "below = df[df['elo_diff']<0]\n",
    "above = df[df['elo_diff']>=0]\n",
    "\n",
    "print (len(below[below['winner']==1])+len(above[above['winner']==0]))/float(len(df))\n",
    "\n",
    "below = df[df['s_elo_diff']<0]\n",
    "above = df[df['s_elo_diff']>=0]\n",
    "\n",
    "print (len(below[below['winner']==1])+len(above[above['winner']==0]))/float(len(df))"
   ]
  },
  {
   "cell_type": "code",
   "execution_count": null,
   "metadata": {
    "collapsed": true
   },
   "outputs": [],
   "source": [
    "# # accept dates in (year,month); last_year contains last 12 month stats, most recent to least\n",
    "# # each month has a 4x1 row, containing 2x1 for serve and 2x1 for return\n",
    "# class stats_52():\n",
    "#     def __init__(self,date):\n",
    "#         self.most_recent = date\n",
    "#         self.last_year = np.zeros([12,4])\n",
    "        \n",
    "#     def time_diff(self,new_date,old_date):\n",
    "#         return 12*(new_date[0]-old_date[0])+(new_date[1]-old_date[1])\n",
    "    \n",
    "#     def update(self,match_date,match_stats):\n",
    "#         diff = self.time_diff(match_date,self.most_recent)\n",
    "#         if diff>=12:\n",
    "#             self.last_year = np.zeros([12,4])\n",
    "#         elif diff>0:\n",
    "#             self.last_year[diff:] = self.last_year[:12-diff]; self.last_year[:diff] = 0\n",
    "#         self.last_year[0] = self.last_year[0]+match_stats\n",
    "#         self.most_recent = match_date"
   ]
  },
  {
   "cell_type": "code",
   "execution_count": null,
   "metadata": {
    "collapsed": true
   },
   "outputs": [],
   "source": [
    "# ### Make a dict of players with elo ratings ###\n",
    "# # now, adding three more surface-specific dictionaries for clay, grass, hard\n",
    "# players_list = np.union1d(atp_all_matches.w_name, atp_all_matches.l_name)\n",
    "# players_elo = dict(zip(list(players_list), [elo.Rating() for __ in range(len(players_list))]))\n",
    "# surface_elo = {}\n",
    "# for surface in ('Hard','Clay','Grass'):\n",
    "#     surface_elo[surface] = dict(zip(list(players_list), [elo.Rating() for __ in range(len(players_list))])) \n",
    "\n",
    "# elo_1s, elo_2s = [],[]\n",
    "# surface_elo_1s, surface_elo_2s = [],[]\n",
    "# elo_obj = elo.Elo_Rater()\n",
    "\n",
    "# # update player elo from every recorded atp match\n",
    "# for i, row in atp_all_matches.iterrows():\n",
    "#     surface = row['surface']; is_gs = row['is_gs']\n",
    "#     # append elos, rate, update\n",
    "#     w_elo,l_elo = players_elo[row['w_name']],players_elo[row['l_name']]\n",
    "#     elo_1s.append(w_elo.value);elo_2s.append(l_elo.value)    \n",
    "#     elo_obj.rate_1vs1(w_elo,l_elo,is_gs,counts=COUNT)\n",
    "\n",
    "    \n",
    "#     surface_elo_1s.append(surface_elo[surface][row['w_name']].value if surface in ('Hard','Clay','Grass') else w_elo.value)\n",
    "#     surface_elo_2s.append(surface_elo[surface][row['l_name']].value if surface in ('Hard','Clay','Grass') else l_elo.value)\n",
    "#     if surface in ('Hard','Clay','Grass'):\n",
    "#         new_elo1, new_elo2 = elo_obj.rate_1vs1(surface_elo[surface][row['w_name']],surface_elo[surface][row['l_name']],is_gs,counts=COUNT)\n",
    "\n",
    "# # add columns\n",
    "# atp_all_matches['w_elo'], atp_all_matches['l_elo'] = elo_1s, elo_2s\n",
    "# atp_all_matches['w_s_elo'], atp_all_matches['l_s_elo'] = surface_elo_1s, surface_elo_2s"
   ]
  },
  {
   "cell_type": "code",
   "execution_count": null,
   "metadata": {
    "collapsed": true
   },
   "outputs": [],
   "source": [
    "# # track player match stats for every match since 2009 (we only need these for pbp matches)\n",
    "# start_ind = 136146; atp_l = len(atp_all_matches)\n",
    "# players_stats = {}\n",
    "# # an array containing 2x1 arrays for winner and loser's previous 12-month serve performance over all matches in df\n",
    "# match_52_stats = np.zeros([2,atp_l,4])\n",
    "# w_l = ['w','l']\n",
    "# for i, row in atp_all_matches.loc[start_ind:].iterrows():    \n",
    "#     date = row['match_year'],row['match_month']           \n",
    "#     for k,label in enumerate(w_l):\n",
    "#         if row[label+'_name'] not in players_stats:\n",
    "#             players_stats[row[label+'_name']] = stats_52(date)\n",
    "#         # store serving stats prior to match\n",
    "#         match_52_stats[k][i] = np.sum(players_stats[row[label+'_name']].last_year,axis=0)\n",
    "#         # update serving stats if no\n",
    "#         if row[label+'_swon']==row[label+'_swon'] and row[label+'_svpt']==row[label+'_svpt']:    \n",
    "#             match_stats = (row[label+'_swon'],row[label+'_svpt'],row[w_l[1-k]+'_svpt']-row[w_l[1-k]+'_swon'],row[w_l[1-k]+'_svpt'])\n",
    "#             players_stats[row[label+'_name']].update(date,match_stats)\n",
    "#         match_52_stats[k][i] = np.sum(players_stats[row[label+'_name']].last_year,axis=0)\n",
    "\n",
    "# for k,label in enumerate(w_l):\n",
    "#     atp_all_matches[label+'_52_swon'] = match_52_stats[k][:,0]\n",
    "#     atp_all_matches[label+'_52_svpt'] = match_52_stats[k][:,1]\n",
    "#     atp_all_matches[label+'_52_rwon'] = match_52_stats[k][:,2]\n",
    "#     atp_all_matches[label+'_52_rpt'] = match_52_stats[k][:,3]"
   ]
  },
  {
   "cell_type": "code",
   "execution_count": null,
   "metadata": {
    "collapsed": true
   },
   "outputs": [],
   "source": [
    "# tourney_stats = {}\n",
    "# tourney_52_stats = np.zeros(len(atp_all_matches))\n",
    "# for i, row in atp_all_matches.loc[start_ind:].iterrows():\n",
    "#     if row['tourney_name']=='Davis Cup' or row['w_swon']!=row['w_swon']:\n",
    "#         continue\n",
    "    \n",
    "#     year,t_id = row['tourney_id'].split('-')\n",
    "#     year = int(year)\n",
    "#     match_stats = (row['w_swon']+row['l_swon'],row['w_svpt']+row['l_svpt'])\n",
    "#     if row['w_swon']!=row['w_swon']:\n",
    "#         tourney_52_stats[i] = 0 if tourney_stats[t_id].tourney_stats[1][1]==0 else \\\n",
    "#                             tourney_stats[t_id].tourney_stats[1][0]/float(self.tourney_stats[1][1])\n",
    "        \n",
    "#     elif t_id in tourney_stats:\n",
    "#         tourney_52_stats[i] = tourney_stats[t_id].update(year,match_stats)\n",
    "#     else:\n",
    "#         tourney_stats[t_id] = tourney_52(year)\n",
    "#         tourney_52_stats[i] = tourney_stats[t_id].update(year,match_stats)\n",
    "    \n",
    "# atp_all_matches['tourney_stats'] = tourney_52_stats"
   ]
  },
  {
   "cell_type": "code",
   "execution_count": null,
   "metadata": {
    "collapsed": true
   },
   "outputs": [],
   "source": [
    "# # Set up the pbp (point by point) column that will contain the pbp information for matches we have info on\n",
    "# atp_all_matches['pbp'] = [None]*len(atp_all_matches)\n",
    "# atp_all_matches = atp_all_matches.rename(columns={'winner_name':'w_name','loser_name':'l_name'})\n",
    "# atp_all_matches['w_name'] = [normalize_name(x) for x in atp_all_matches['w_name']]\n",
    "# atp_all_matches['l_name'] = [normalize_name(x) for x in atp_all_matches['l_name']]\n",
    "# atp_all_matches['tourney_name'] = ['Davis Cup' if 'Davis Cup' in s else s for s in atp_all_matches['tourney_name']]\n",
    "# atp_all_matches['tourney_name'] = [s.replace('Australian Chps.',AO).replace('Australian Open-2',AO).replace('U.S. National Chps.',USO) \\\n",
    "#                                    for s in atp_all_matches['tourney_name']]\n",
    "# grand_slam_d = dict(zip(['Australian Open','Roland Garros','Wimbledon','US Open'],[1]*4))\n",
    "# atp_all_matches['is_gs'] = [name in grand_slam_d for name in atp_all_matches['tourney_name']]\n",
    "\n",
    "# # Get dates into the same format\n",
    "# atp_all_matches['tourney_date'] = [datetime.datetime.strptime(str(x), \"%Y%m%d\").date() for x in atp_all_matches['tourney_date']]\n",
    "# atp_all_matches['match_year'] = [x.year for x in atp_all_matches['tourney_date']]\n",
    "# atp_all_matches['match_month'] = [x.month for x in atp_all_matches['tourney_date']]\n",
    "# atp_all_matches['score'] = [re.sub(r\"[\\(\\[].*?[\\)\\]]\", \"\", str(s)) for s in atp_all_matches['score']] # str(s) fixes any nans\n",
    "# atp_all_matches['score'] = ['RET' if 'RET' in s else s for s in atp_all_matches['score']]\n",
    "# atp_all_matches['w_swon'] = [atp_all_matches['w_1stWon'][i]+atp_all_matches['w_2ndWon'][i] for i in xrange(len(atp_all_matches))]\n",
    "# atp_all_matches['l_swon'] = [atp_all_matches['l_1stWon'][i]+atp_all_matches['l_2ndWon'][i] for i in xrange(len(atp_all_matches))]\n",
    "# atp_all_matches['w_rwon'] = atp_all_matches['l_svpt'] - atp_all_matches['l_swon']\n",
    "# atp_all_matches['l_rwon'] = atp_all_matches['w_svpt'] - atp_all_matches['w_swon']\n",
    "# atp_all_matches['w_rpt'] = atp_all_matches['l_svpt']\n",
    "# atp_all_matches['l_rpt'] = atp_all_matches['w_svpt']\n",
    "\n",
    "# # get rid of leading 0s in tourney_id\n",
    "# atp_all_matches['tourney_id'] = ['-'.join(t.split('-')[:-1] + [t.split('-')[-1][1:]]) if t.split('-')[-1][0]=='0' else t \\\n",
    "#                                 for t in atp_all_matches['tourney_id']]\n",
    "\n",
    "# # get rid of matches involving a retirement\n",
    "# atp_all_matches['score'] = ['ABN' if score.split(' ')[-1] in ('abandoned','ABN','ABD','DEF','def','unfinished','Walkover') \\\n",
    "#                             else score for score in atp_all_matches['score']]\n",
    "# ret_d = dict(zip(ret_strings,[1]*len(ret_strings)))\n",
    "# atp_all_matches = atp_all_matches.loc[[i for i in range(len(atp_all_matches)) if atp_all_matches['score'][i] not in ret_d]]\n",
    "# atp_all_matches = atp_all_matches.sort_values(by=['tourney_date','tourney_name','match_num'], ascending=True).reset_index()\n",
    "# del atp_all_matches['index']"
   ]
  },
  {
   "cell_type": "code",
   "execution_count": null,
   "metadata": {
    "collapsed": true
   },
   "outputs": [],
   "source": [
    "# pbp_matches['w_name'] = np.where(pbp_matches['winner'] == 0, pbp_matches['server1'], pbp_matches['server2'])\n",
    "# pbp_matches['l_name'] = np.where(pbp_matches['winner'] == 0, pbp_matches['server2'], pbp_matches['server1'])\n",
    "# pbp_matches['w_name'] = [normalize_name(x,tour=TOUR) for x in pbp_matches['w_name']]\n",
    "# pbp_matches['l_name'] = [normalize_name(x,tour=TOUR) for x in pbp_matches['l_name']]\n",
    "# pbp_matches['date'] = pd.to_datetime(pbp_matches['date'])\n",
    "# pbp_matches['match_year'] = [x.year for x in pbp_matches['date']]\n",
    "# pbp_matches['match_month'] = [x.month for x in pbp_matches['date']]\n",
    "# pbp_matches['date'] = [x.date() for x in pbp_matches['date']]\n",
    "# pbp_matches['score'] = [re.sub(r\"[\\(\\[].*?[\\)\\]]\", \"\", s) for s in pbp_matches['score']]"
   ]
  },
  {
   "cell_type": "code",
   "execution_count": null,
   "metadata": {
    "collapsed": true
   },
   "outputs": [],
   "source": [
    "# pbp_dict = {}; winner_dict = {}\n",
    "# for i in xrange(len(pbp_matches)):\n",
    "#     key = pbp_matches['w_name'][i] +' ' +  pbp_matches['l_name'][i] + ' ' \\\n",
    "#         + str(pbp_matches['match_year'][i]) + ' ' + pbp_matches['score'][i]\n",
    "#     key = key+' '+str(pbp_matches['match_month'][i]) if key in collision_d else key\n",
    "#     if key in pbp_dict:\n",
    "#         continue\n",
    "#     pbp_dict[key] = pbp_matches['pbp'][i]\n",
    "#     winner_dict[key] = pbp_matches['winner'][i]\n",
    "\n",
    "# # in case of a collision (about 10 cases), I only take the first match with that key\n",
    "# c = 0\n",
    "# pbps = []\n",
    "# winners = []\n",
    "# info = {}\n",
    "\n",
    "# for i in xrange(len(atp_all_matches)):\n",
    "#     key = atp_all_matches['w_name'][i] +' ' +  atp_all_matches['l_name'][i] + ' ' \\\n",
    "#         +str(atp_all_matches['match_year'][i])+' '+atp_all_matches['score'][i]\n",
    "#     key = key+' '+str(atp_all_matches['match_month'][i]) if key in collision_d else key\n",
    "#     if key in pbp_dict:\n",
    "#         c += 1\n",
    "#         pbps.append(pbp_dict[key])\n",
    "#         winners.append(winner_dict[key])\n",
    "#         if key in info:\n",
    "#             pbps[-1] = 'NA'; winners[-1] = 'NA'\n",
    "#             print 'collision'; print key + ' ' + str(atp_all_matches['match_month'][i])\n",
    "#         info[key] = 1\n",
    "#     else:\n",
    "#         pbps.append('NA')\n",
    "#         winners.append('NA')\n",
    "# print c\n",
    "# atp_all_matches['pbp'] = pbps\n",
    "# atp_all_matches['winner'] = winners"
   ]
  },
  {
   "cell_type": "markdown",
   "metadata": {},
   "source": [
    "## Rating Systems"
   ]
  },
  {
   "cell_type": "markdown",
   "metadata": {},
   "source": [
    "1. http://gobase.org/studying/articles/elo/\n",
    "2. http://www.gamefaqs.com/boards/610657-dota-2/67994646\n",
    "3. https://github.com/sublee/elo/blob/master/elo.py\n",
    "4. http://stephenwan.net/thoughts/2012/10/02/elo-rating-system.html\n",
    "5. https://deltadata.wordpress.com/2014/01/11/glicko-2-for-tennis-part-2-the-model/comment-page-1/#comment-192\n",
    "6. https://github.com/sublee/glicko2/blob/master/glicko2.py\n",
    "7. http://trueskill.org/\n",
    "8. https://pypi.python.org/pypi/trueskill\n"
   ]
  },
  {
   "cell_type": "code",
   "execution_count": null,
   "metadata": {
    "collapsed": true
   },
   "outputs": [],
   "source": [
    "# df = atp_all_matches[atp_all_matches['pbp']!='NA']\n",
    "# cols = df.columns.drop(['loser_id','winner_id'])\n",
    "# df = df[cols]\n",
    "# df = df.reset_index()\n",
    "# del df['index']\n",
    "\n",
    "# # SET UP LOOP TO CHANGE W,L TO P0,P1\n",
    "# for col in ['_name','_elo','_s_elo','_52_swon','_52_svpt','_52_rwon','_52_rpt']:\n",
    "#     df['p0'+col] = [df['l'+col][i] if df['winner'][i] else df['w'+col][i] for i in xrange(len(df))]\n",
    "#     df['p1'+col] = [df['w'+col][i] if df['winner'][i] else df['l'+col][i] for i in xrange(len(df))]\n",
    "\n",
    "# df['elo_diff'] = [df['p0_elo'][i] - df['p1_elo'][i] for i in xrange(len(df))]\n",
    "# df['s_elo_diff'] = [df['p0_s_elo'][i] - df['p1_s_elo'][i] for i in xrange(len(df))]\n",
    "# df['tourney_name'] = [s if s==s else 'Davis Cup' for s in df['tourney_name']]"
   ]
  },
  {
   "cell_type": "code",
   "execution_count": null,
   "metadata": {
    "collapsed": true
   },
   "outputs": [],
   "source": [
    "# #### James-Stein estimators for 52-week serve and return percentages ####\n",
    "# # calculate B_i coefficients for each player in terms of service points\n",
    "# p_hat = np.sum([df['p0_52_swon'],df['p1_52_swon']])/np.sum([df['p0_52_svpt'],df['p1_52_svpt']])\n",
    "# for label in ['p0','p1']:\n",
    "#     df[label+'_s_pct'] = [p_hat if x==0 else x for x in np.nan_to_num(df[label+'_52_swon']/df[label+'_52_svpt'])]\n",
    "#     df[label+'_r_pct'] = [1-p_hat if x==0 else x for x in np.nan_to_num(df[label+'_52_rwon']/df[label+'_52_rpt'])]\n",
    "\n",
    "# # fix this name later with find and replace...\n",
    "# s_history = np.concatenate([df['p0_52_swon']/df['p0_52_svpt'],df['p1_52_swon']/df['p1_52_svpt']],axis=0)\n",
    "# n = len(s_history)/2\n",
    "# group_var = np.var(s_history)\n",
    "# s_points = np.concatenate([df['p0_52_svpt'],df['p1_52_svpt']])\n",
    "# sigma2_i = np.divide(p_hat*(1-p_hat),s_points,where=s_points>0)\n",
    "# #sigma2_i = np.nan_to_num(p_hat*(1-p_hat)/np.concatenate([df['p0_52_svpt'],df['p1_52_svpt']]))\n",
    "# tau2_hat = np.nanvar(s_history)\n",
    "# B_i = sigma2_i/(tau2_hat+sigma2_i)\n",
    "# df['B_i0_sv'],df['B_i1_sv'] = B_i[:n],B_i[n:]\n",
    "\n",
    "# s_history[s_history!=s_history] = p_hat\n",
    "# group_var = np.var(s_history)\n",
    "# df['p0_s_pct_JS'] = df['p0_s_pct']+df['B_i0_sv']*(p_hat-df['p0_s_pct'])\n",
    "# df['p1_s_pct_JS'] = df['p1_s_pct']+df['B_i1_sv']*(p_hat-df['p1_s_pct'])\n",
    "\n",
    "# # repeat for return averages (slightly different tau^2 value)\n",
    "# r_history = np.concatenate([df['p0_52_rwon']/df['p0_52_rpt'],df['p1_52_rwon']/df['p1_52_rpt']],axis=0)\n",
    "# r_points = np.concatenate([df['p0_52_rpt'],df['p1_52_rpt']])\n",
    "# sigma2_i = np.divide((1-p_hat)*p_hat,r_points,where=r_points>0)\n",
    "# tau2_hat = np.nanvar(r_history)\n",
    "# B_i = sigma2_i/(tau2_hat+sigma2_i)\n",
    "# df['B_i0_r'],df['B_i1_r'] = B_i[:n],B_i[n:]\n",
    "\n",
    "# r_history[r_history!=r_history] = 1-p_hat\n",
    "# df['p0_r_pct_JS'] = r_history[:n]+df['B_i0_r']*((1-p_hat)-r_history[:n])\n",
    "# df['p1_r_pct_JS'] = r_history[n:]+df['B_i1_r']*((1-p_hat)-r_history[n:])"
   ]
  }
 ],
 "metadata": {
  "kernelspec": {
   "display_name": "Python 2",
   "language": "python",
   "name": "python2"
  },
  "language_info": {
   "codemirror_mode": {
    "name": "ipython",
    "version": 2
   },
   "file_extension": ".py",
   "mimetype": "text/x-python",
   "name": "python",
   "nbconvert_exporter": "python",
   "pygments_lexer": "ipython2",
   "version": "2.7.13"
  }
 },
 "nbformat": 4,
 "nbformat_minor": 0
}
