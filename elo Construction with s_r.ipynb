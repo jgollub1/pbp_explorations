{
 "cells": [
  {
   "cell_type": "code",
   "execution_count": 1,
   "metadata": {
    "collapsed": true
   },
   "outputs": [],
   "source": [
    "def normalize_name(s):\n",
    "    s = s.replace('-',' ')\n",
    "    s = s.replace('Stanislas','Stan').replace('Stan','Stanislas')\n",
    "    s = s.replace('Alexandre','Alexander')\n",
    "    s = s.replace('Federico Delbonis','Federico Del').replace('Federico Del','Federico Delbonis')\n",
    "    s = s.replace('Mello','Melo')\n",
    "    s = s.replace('Cedric','Cedrik')\n",
    "    s = s.replace('Bernakis','Berankis')\n",
    "    s = s.replace('Hansescu','Hanescu')\n",
    "    s = s.replace('Teimuraz','Teymuraz')\n",
    "    s = s.replace('Vikor','Viktor')\n",
    "    s = s.rstrip()\n",
    "    s = s.replace('Alex Jr.','Alex Bogomolov')\n",
    "    s = s.title()\n",
    "    sep = s.split(' ')\n",
    "    return ' '.join(sep[:2]) if len(sep)>2 else s"
   ]
  },
  {
   "cell_type": "code",
   "execution_count": 2,
   "metadata": {
    "collapsed": false
   },
   "outputs": [],
   "source": [
    "# NEXT STEPS: assemble players win percentages from any set score (how well they do from one\n",
    "# set up, one down, came back to split, gave up to split) throughout career; can represent \n",
    "# this as a beta distribution\n",
    "# with prior as the average player of that current elo's probability with strength 5-10\n",
    "\n",
    "# TO DO: assemble running tallies to track serve percentages over the past 52 weeks, specifically for years 2010-current\n",
    "#        also, compare and contrast the \"old\" and \"new\" files\n",
    "\n",
    "\n",
    "# 7/26 update: seem to have fixed some glitches in my previous adaptation of 538's elo method\n",
    "# everything is very simple in elo_538.py; also now fixing the match order inside tournaments within atp_all_matches\n",
    "\n",
    "# before: we improved from 9563 to 10000 matches with string manipulations\n",
    "\n",
    "# my elo scores seem close to Jeff Sackman's when I set k=32 as constant; when using the 538 style of \"cooling\" k-factor,\n",
    "# those elos are going to be inflated in comparison (but keep in mind, that's only different across methods)\n",
    "AO = 'Australian Open'\n",
    "USO = 'US Open'\n",
    "COUNT = False"
   ]
  },
  {
   "cell_type": "code",
   "execution_count": 6,
   "metadata": {
    "collapsed": false
   },
   "outputs": [
    {
     "data": {
      "text/plain": [
       "Index([u'tourney_id', u'tourney_name', u'surface', u'draw_size',\n",
       "       u'tourney_level', u'tourney_date', u'match_num', u'winner_id',\n",
       "       u'winner_seed', u'winner_entry', u'winner_name', u'winner_hand',\n",
       "       u'winner_ht', u'winner_ioc', u'winner_age', u'winner_rank',\n",
       "       u'winner_rank_points', u'loser_id', u'loser_seed', u'loser_entry',\n",
       "       u'loser_name', u'loser_hand', u'loser_ht', u'loser_ioc', u'loser_age',\n",
       "       u'loser_rank', u'loser_rank_points', u'score', u'best_of', u'round',\n",
       "       u'minutes', u'w_ace', u'w_df', u'w_svpt', u'w_1stIn', u'w_1stWon',\n",
       "       u'w_2ndWon', u'w_SvGms', u'w_bpSaved', u'w_bpFaced', u'l_ace', u'l_df',\n",
       "       u'l_svpt', u'l_1stIn', u'l_1stWon', u'l_2ndWon', u'l_SvGms',\n",
       "       u'l_bpSaved', u'l_bpFaced'],\n",
       "      dtype='object')"
      ]
     },
     "execution_count": 6,
     "metadata": {},
     "output_type": "execute_result"
    }
   ],
   "source": [
    "import pandas as pd\n",
    "a = pd.read_csv(\"../tennis_data/atp_matches_2010.csv\")\n",
    "a.columns"
   ]
  },
  {
   "cell_type": "code",
   "execution_count": 15,
   "metadata": {
    "collapsed": false
   },
   "outputs": [
    {
     "data": {
      "text/plain": [
       "tourney_id                 2010-301\n",
       "tourney_name               Auckland\n",
       "surface                        Hard\n",
       "draw_size                        28\n",
       "tourney_level                     A\n",
       "tourney_date               20100111\n",
       "match_num                         1\n",
       "winner_id                    103752\n",
       "winner_seed                     NaN\n",
       "winner_entry                    NaN\n",
       "winner_name             Simon Greul\n",
       "winner_hand                       R\n",
       "winner_ht                       185\n",
       "winner_ioc                      GER\n",
       "winner_age                  28.7474\n",
       "winner_rank                      60\n",
       "winner_rank_points              737\n",
       "loser_id                     103893\n",
       "loser_seed                      NaN\n",
       "loser_entry                       Q\n",
       "loser_name            Paolo Lorenzi\n",
       "loser_hand                        R\n",
       "loser_ht                        183\n",
       "loser_ioc                       ITA\n",
       "loser_age                   28.0739\n",
       "loser_rank                       86\n",
       "loser_rank_points               577\n",
       "score                       6-3 6-3\n",
       "best_of                           3\n",
       "round                           R32\n",
       "minutes                          87\n",
       "w_ace                             2\n",
       "w_df                              4\n",
       "w_svpt                           57\n",
       "w_1stIn                          31\n",
       "w_1stWon                         25\n",
       "w_2ndWon                         14\n",
       "w_SvGms                           9\n",
       "w_bpSaved                         8\n",
       "w_bpFaced                         9\n",
       "l_ace                             0\n",
       "l_df                              6\n",
       "l_svpt                           64\n",
       "l_1stIn                          42\n",
       "l_1stWon                         22\n",
       "l_2ndWon                         11\n",
       "l_SvGms                           9\n",
       "l_bpSaved                         8\n",
       "l_bpFaced                        12\n",
       "Name: 0, dtype: object"
      ]
     },
     "execution_count": 15,
     "metadata": {},
     "output_type": "execute_result"
    }
   ],
   "source": [
    "a.loc[0]"
   ]
  },
  {
   "cell_type": "code",
   "execution_count": null,
   "metadata": {
    "collapsed": true
   },
   "outputs": [],
   "source": []
  },
  {
   "cell_type": "code",
   "execution_count": null,
   "metadata": {
    "collapsed": true
   },
   "outputs": [],
   "source": []
  },
  {
   "cell_type": "code",
   "execution_count": null,
   "metadata": {
    "collapsed": true
   },
   "outputs": [],
   "source": []
  },
  {
   "cell_type": "code",
   "execution_count": 3,
   "metadata": {
    "collapsed": false
   },
   "outputs": [
    {
     "name": "stdout",
     "output_type": "stream",
     "text": [
      "(159615, 14)\n"
     ]
    },
    {
     "data": {
      "text/html": [
       "<div>\n",
       "<table border=\"1\" class=\"dataframe\">\n",
       "  <thead>\n",
       "    <tr style=\"text-align: right;\">\n",
       "      <th></th>\n",
       "      <th>tourney_id</th>\n",
       "      <th>tourney_name</th>\n",
       "      <th>tourney_date</th>\n",
       "      <th>match_num</th>\n",
       "      <th>surface</th>\n",
       "      <th>is_gs</th>\n",
       "      <th>w_name</th>\n",
       "      <th>l_name</th>\n",
       "      <th>winner_id</th>\n",
       "      <th>loser_id</th>\n",
       "      <th>best_of</th>\n",
       "      <th>match_year</th>\n",
       "      <th>match_month</th>\n",
       "      <th>score</th>\n",
       "    </tr>\n",
       "  </thead>\n",
       "  <tbody>\n",
       "    <tr>\n",
       "      <th>0</th>\n",
       "      <td>1968-580</td>\n",
       "      <td>Australian Open</td>\n",
       "      <td>1968-01-19</td>\n",
       "      <td>1</td>\n",
       "      <td>Grass</td>\n",
       "      <td>True</td>\n",
       "      <td>Richard Coulthard</td>\n",
       "      <td>Max Senior</td>\n",
       "      <td>110023</td>\n",
       "      <td>107760</td>\n",
       "      <td>5</td>\n",
       "      <td>1968</td>\n",
       "      <td>1</td>\n",
       "      <td>12-10 7-5 4-6 7-5</td>\n",
       "    </tr>\n",
       "    <tr>\n",
       "      <th>1</th>\n",
       "      <td>1968-580</td>\n",
       "      <td>Australian Open</td>\n",
       "      <td>1968-01-19</td>\n",
       "      <td>2</td>\n",
       "      <td>Grass</td>\n",
       "      <td>True</td>\n",
       "      <td>John Brown</td>\n",
       "      <td>Ernie Mccabe</td>\n",
       "      <td>109803</td>\n",
       "      <td>106964</td>\n",
       "      <td>5</td>\n",
       "      <td>1968</td>\n",
       "      <td>1</td>\n",
       "      <td>6-3 6-2 6-4</td>\n",
       "    </tr>\n",
       "  </tbody>\n",
       "</table>\n",
       "</div>"
      ],
      "text/plain": [
       "  tourney_id     tourney_name tourney_date  match_num surface is_gs  \\\n",
       "0   1968-580  Australian Open   1968-01-19          1   Grass  True   \n",
       "1   1968-580  Australian Open   1968-01-19          2   Grass  True   \n",
       "\n",
       "              w_name        l_name  winner_id  loser_id  best_of  match_year  \\\n",
       "0  Richard Coulthard    Max Senior     110023    107760        5        1968   \n",
       "1         John Brown  Ernie Mccabe     109803    106964        5        1968   \n",
       "\n",
       "   match_month              score  \n",
       "0            1  12-10 7-5 4-6 7-5  \n",
       "1            1        6-3 6-2 6-4  "
      ]
     },
     "execution_count": 3,
     "metadata": {},
     "output_type": "execute_result"
    }
   ],
   "source": [
    "import pandas as pd\n",
    "import numpy as np\n",
    "import datetime\n",
    "import math\n",
    "import elo_538 as elo\n",
    "import re\n",
    "\n",
    "atp_year_list = []\n",
    "for i in xrange(1968,2018):\n",
    "    atp_year_list.append(pd.read_csv(\"../tennis_data/atp_matches_{0}.csv\".format(i)))\n",
    "atp_all_matches = pd.concat(atp_year_list, ignore_index = True)\n",
    "\n",
    "# Set up the pbp (point by point) column that will contain the pbp information for matches we have info on\n",
    "atp_all_matches['pbp'] = [None]*len(atp_all_matches)\n",
    "atp_all_matches = atp_all_matches.rename(columns={'winner_name':'w_name','loser_name':'l_name'})\n",
    "atp_all_matches['w_name'] = [normalize_name(x) for x in atp_all_matches['w_name']]\n",
    "atp_all_matches['l_name'] = [normalize_name(x) for x in atp_all_matches['l_name']]\n",
    "atp_all_matches['tourney_name'] = ['Davis Cup' if 'Davis Cup' in s else s for s in atp_all_matches['tourney_name']]\n",
    "atp_all_matches['tourney_name'] = [s.replace('Australian Chps.',AO).replace('Australian Open-2',AO).replace('U.S. National Chps.',USO) \\\n",
    "                                   for s in atp_all_matches['tourney_name']]\n",
    "grand_slam_d = dict(zip(['Australian Open','Roland Garros','Wimbledon','US Open'],[1]*4))\n",
    "atp_all_matches['is_gs'] = [name in grand_slam_d for name in atp_all_matches['tourney_name']]\n",
    "\n",
    "# Get dates into the same format\n",
    "atp_all_matches['tourney_date'] = [datetime.datetime.strptime(str(x), \"%Y%m%d\").date() for x in atp_all_matches['tourney_date']]\n",
    "atp_all_matches['match_year'] = [x.year for x in atp_all_matches['tourney_date']]\n",
    "atp_all_matches['match_month'] = [x.month for x in atp_all_matches['tourney_date']]\n",
    "atp_all_matches['score'] = [re.sub(r\"[\\(\\[].*?[\\)\\]]\", \"\", str(s)) for s in atp_all_matches['score']] # str(s) fixes any nans\n",
    "atp_all_matches['score'] = ['RET' if 'RET' in s else s for s in atp_all_matches['score']]\n",
    "ret_d = dict(zip(['ABN','DEF','In Progress','RET','W/O',' RET',' W/O','nan'],[1]*8))\n",
    "atp_all_matches = atp_all_matches.loc[[i for i in range(len(atp_all_matches)) if atp_all_matches['score'][i] not in ret_d]]\n",
    "atp_all_matches = atp_all_matches.sort_values(by=['tourney_date','tourney_name','match_num'], ascending=True).reset_index()\n",
    "del atp_all_matches['index']\n",
    "atp_all_matches = atp_all_matches[['tourney_id','tourney_name','tourney_date','match_num','surface','is_gs','w_name','l_name',\n",
    "                'winner_id','loser_id','best_of','match_year','match_month','score']]\n",
    "print atp_all_matches.shape\n",
    "atp_all_matches.head(2)"
   ]
  },
  {
   "cell_type": "code",
   "execution_count": 26,
   "metadata": {
    "collapsed": false
   },
   "outputs": [],
   "source": [
    "# also can filter 'ABD', 'played and abandoned', 'DEF', etc\n",
    "# for score in sorted(list(set(atp_all_matches['score']))):\n",
    "#     print score"
   ]
  },
  {
   "cell_type": "markdown",
   "metadata": {},
   "source": [
    "## Rating Systems"
   ]
  },
  {
   "cell_type": "markdown",
   "metadata": {},
   "source": [
    "1. http://gobase.org/studying/articles/elo/\n",
    "2. http://www.gamefaqs.com/boards/610657-dota-2/67994646\n",
    "3. https://github.com/sublee/elo/blob/master/elo.py\n",
    "4. http://stephenwan.net/thoughts/2012/10/02/elo-rating-system.html\n",
    "5. https://deltadata.wordpress.com/2014/01/11/glicko-2-for-tennis-part-2-the-model/comment-page-1/#comment-192\n",
    "6. https://github.com/sublee/glicko2/blob/master/glicko2.py\n",
    "7. http://trueskill.org/\n",
    "8. https://pypi.python.org/pypi/trueskill\n"
   ]
  },
  {
   "cell_type": "code",
   "execution_count": 27,
   "metadata": {
    "collapsed": false
   },
   "outputs": [],
   "source": [
    "### Make a dict of players with elo ratings ###\n",
    "# now, adding three more surface-specific dictionaries for clay, grass, hard\n",
    "players_list = np.union1d(atp_all_matches.w_name, atp_all_matches.l_name)\n",
    "players_elo = dict(zip(list(players_list), [elo.Rating() for __ in range(len(players_list))]))\n",
    "surface_elo = {}\n",
    "for surface in ('Hard','Clay','Grass'):\n",
    "    surface_elo[surface] = dict(zip(list(players_list), [elo.Rating() for __ in range(len(players_list))])) \n",
    "\n",
    "elo_1s, elo_2s = [],[]\n",
    "surface_elo_1s, surface_elo_2s = [],[]\n",
    "elo_obj = elo.Elo_Rater()\n",
    "\n",
    "for i, row in atp_all_matches.iterrows():\n",
    "    surface = row['surface']; is_gs = row['is_gs']\n",
    "    # append elos, rate, update\n",
    "    w_elo,l_elo = players_elo[row['w_name']],players_elo[row['l_name']]\n",
    "    elo_1s.append(w_elo.value);elo_2s.append(l_elo.value)    \n",
    "    elo_obj.rate_1vs1(w_elo,l_elo,is_gs,counts=COUNT)\n",
    "\n",
    "    \n",
    "    surface_elo_1s.append(surface_elo[surface][row['w_name']].value if surface in ('Hard','Clay','Grass') else w_elo.value)\n",
    "    surface_elo_2s.append(surface_elo[surface][row['l_name']].value if surface in ('Hard','Clay','Grass') else l_elo.value)\n",
    "    if surface in ('Hard','Clay','Grass'):\n",
    "        new_elo1, new_elo2 = elo_obj.rate_1vs1(surface_elo[surface][row['w_name']],surface_elo[surface][row['l_name']],is_gs,counts=COUNT)\n",
    "\n",
    "# add columns\n",
    "atp_all_matches['w_elo'], atp_all_matches['l_elo'] = elo_1s, elo_2s\n",
    "atp_all_matches['sw_elo'], atp_all_matches['sl_elo'] = surface_elo_1s, surface_elo_2s"
   ]
  },
  {
   "cell_type": "code",
   "execution_count": 30,
   "metadata": {
    "collapsed": false
   },
   "outputs": [],
   "source": [
    "rankings = sorted(zip(players_elo.keys(),players_elo.values()),key=lambda x: x[1].value,reverse=True)\n",
    "#rankings"
   ]
  },
  {
   "cell_type": "code",
   "execution_count": 20,
   "metadata": {
    "collapsed": false
   },
   "outputs": [],
   "source": [
    "#None in set(atp_all_matches['tourney_id'])"
   ]
  },
  {
   "cell_type": "code",
   "execution_count": null,
   "metadata": {
    "collapsed": true
   },
   "outputs": [],
   "source": []
  },
  {
   "cell_type": "code",
   "execution_count": 31,
   "metadata": {
    "collapsed": false
   },
   "outputs": [
    {
     "name": "stdout",
     "output_type": "stream",
     "text": [
      "(12086, 16)\n",
      "11877\n"
     ]
    }
   ],
   "source": [
    "# Combine all the matches that have pbp (point by point) information into one dataframe\n",
    "# and clean up columns in preparation for mergin with all_atp_matches\n",
    "\n",
    "pbp_matches_archive = pd.read_csv(\"../tennis_data/pbp_matches_atp_main_archive.csv\")\n",
    "pbp_matches_archive_old = pd.read_csv(\"../tennis_data/pbp_matches_atp_main_archive_old.csv\")\n",
    "pbp_matches_current = pd.read_csv(\"../tennis_data/pbp_matches_atp_main_current.csv\")\n",
    "pbp_matches = pd.concat([pbp_matches_archive_old.loc[:932],pbp_matches_archive,pbp_matches_current])\n",
    "pbp_matches.winner = pbp_matches.winner - 1\n",
    "pbp_matches = pbp_matches.reset_index(); del pbp_matches['index']\n",
    "pbp_matches['w_name'] = np.where(pbp_matches['winner'] == 0, pbp_matches['server1'], pbp_matches['server2'])\n",
    "pbp_matches['l_name'] = np.where(pbp_matches['winner'] == 0, pbp_matches['server2'], pbp_matches['server1'])\n",
    "pbp_matches['w_name'] = [normalize_name(x) for x in pbp_matches['w_name']]\n",
    "pbp_matches['l_name'] = [normalize_name(x) for x in pbp_matches['l_name']]\n",
    "pbp_matches['date'] = pd.to_datetime(pbp_matches['date'])\n",
    "pbp_matches['match_year'] = [x.year for x in pbp_matches['date']]\n",
    "pbp_matches['match_month'] = [x.month for x in pbp_matches['date']]\n",
    "pbp_matches['date'] = [x.date() for x in pbp_matches['date']]\n",
    "pbp_matches['score'] = [re.sub(r\"[\\(\\[].*?[\\)\\]]\", \"\", s) for s in pbp_matches['score']]\n",
    "\n",
    "print pbp_matches.shape\n",
    "print len(set(pbp_matches['pbp'].values))"
   ]
  },
  {
   "cell_type": "code",
   "execution_count": 14,
   "metadata": {
    "collapsed": false
   },
   "outputs": [],
   "source": [
    "# Now, just make a dictionary with each key as 'w_name'+'l_name'+'match_year'+'score' to connect pbp \n",
    "# strings to atp_all_matches\n",
    "# replacing dashes with spaces accounted for over 1000 more pbp matches\n",
    "# other discrepancies due to tiebreak scores, or matches in pbp being qualies, therefore\n",
    "# not tour-level matches\n",
    "# MUST REMOVE PARENTHESES TERMS FROM TIE-BREAKS IN SCORES\n",
    "\n",
    "pbp_dict = {}; winner_dict = {}\n",
    "for i in xrange(len(pbp_matches)):\n",
    "    key = pbp_matches['w_name'][i] +' ' +  pbp_matches['l_name'][i] + ' ' \\\n",
    "        + str(pbp_matches['match_year'][i]) + ' ' + pbp_matches['score'][i]\n",
    "    pbp_dict[key] = pbp_matches['pbp'][i]\n",
    "    winner_dict[key] = pbp_matches['winner'][i]"
   ]
  },
  {
   "cell_type": "code",
   "execution_count": null,
   "metadata": {
    "collapsed": true
   },
   "outputs": [],
   "source": []
  },
  {
   "cell_type": "code",
   "execution_count": 15,
   "metadata": {
    "collapsed": false
   },
   "outputs": [
    {
     "name": "stdout",
     "output_type": "stream",
     "text": [
      "collision\n",
      "Janko Tipsarevic Kei Nishikori 2011 6-4 6-4\n",
      "collision\n",
      "Robin Soderling Michael Berrer 2011 6-3 7-6\n",
      "collision\n",
      "Juan Martin Kevin Anderson 2011 6-4 6-4\n",
      "collision\n",
      "Philipp Kohlschreiber Mikhail Youzhny 2011 6-4 6-2\n",
      "collision\n",
      "Philipp Kohlschreiber Olivier Rochus 2012 6-1 6-4\n",
      "collision\n",
      "Viktor Troicki Radek Stepanek 2012 2-6 6-4 6-3\n",
      "collision\n",
      "Gilles Simon Grigor Dimitrov 2012 6-3 6-3\n",
      "collision\n",
      "Alexandr Dolgopolov Gilles Simon 2012 6-3 6-4\n",
      "collision\n",
      "Fabio Fognini Tommy Haas 2013 6-2 6-4\n",
      "collision\n",
      "Richard Gasquet Florian Mayer 2013 6-3 7-6\n",
      "collision\n",
      "Novak Djokovic Rafael Nadal 2013 6-3 6-4\n",
      "collision\n",
      "Tomas Berdych Gael Monfils 2015 6-1 6-4\n",
      "collision\n",
      "Novak Djokovic Rafael Nadal 2015 6-3 6-3\n",
      "10675\n"
     ]
    }
   ],
   "source": [
    "# NOTE: TO FIX THIS, use the 'tourney_id' column (actually, can't...)\n",
    "c = 0\n",
    "pbps = []\n",
    "winners = []\n",
    "info = {}\n",
    "\n",
    "for i in xrange(len(atp_all_matches)):\n",
    "    key = atp_all_matches['w_name'][i] +' ' +  atp_all_matches['l_name'][i] + ' ' \\\n",
    "        +str(atp_all_matches['match_year'][i])+' '+atp_all_matches['score'][i]\n",
    "    if key in pbp_dict:\n",
    "        c += 1\n",
    "        pbps.append(pbp_dict[key])\n",
    "        winners.append(winner_dict[key])\n",
    "        if key in info:\n",
    "            print 'collision'\n",
    "            print key\n",
    "        info[key] = 1\n",
    "    else:\n",
    "        pbps.append('NA')\n",
    "        winners.append('NA')\n",
    "print c\n",
    "atp_all_matches['pbp'] = pbps\n",
    "atp_all_matches['winner'] = winners"
   ]
  },
  {
   "cell_type": "code",
   "execution_count": 16,
   "metadata": {
    "collapsed": false
   },
   "outputs": [],
   "source": [
    "x = atp_all_matches\n",
    "x = x[x['match_year']==2017]\n",
    "#x[x['w_name']=='Diego Schwartzman']"
   ]
  },
  {
   "cell_type": "code",
   "execution_count": 17,
   "metadata": {
    "collapsed": false,
    "scrolled": true
   },
   "outputs": [
    {
     "data": {
      "text/plain": [
       "'Leonardo Mayer Steve Darcis 2015 7-6 7-6 4-6 6-3'"
      ]
     },
     "execution_count": 17,
     "metadata": {},
     "output_type": "execute_result"
    }
   ],
   "source": [
    "i = 155926\n",
    "key = atp_all_matches['w_name'][i] +' ' +  atp_all_matches['l_name'][i] + ' ' \\\n",
    "        +str(atp_all_matches['match_year'][i])+' '+atp_all_matches['score'][i]\n",
    "key"
   ]
  },
  {
   "cell_type": "code",
   "execution_count": 29,
   "metadata": {
    "collapsed": false
   },
   "outputs": [],
   "source": [
    "# pbp_matches.loc[3007]"
   ]
  },
  {
   "cell_type": "code",
   "execution_count": 30,
   "metadata": {
    "collapsed": false
   },
   "outputs": [],
   "source": [
    "# #demo of match-keys I created \n",
    "# a lot of the inconsistencies are challenger-level events or even exhibition matches (see 2017)\n",
    "# for i in xrange(len(pbp_matches)):\n",
    "#     key = pbp_matches['w_name'][i] +' ' +  pbp_matches['l_name'][i] + ' ' \\\n",
    "#         + str(pbp_matches['match_year'][i])+ ' ' + pbp_matches['score'][i]\n",
    "#     if key not in info:\n",
    "#         print i,key"
   ]
  },
  {
   "cell_type": "code",
   "execution_count": 19,
   "metadata": {
    "collapsed": false
   },
   "outputs": [],
   "source": [
    "df = atp_all_matches[atp_all_matches['pbp']!='NA']\n",
    "cols = df.columns.drop(['loser_id','winner_id'])\n",
    "df = df[cols]\n",
    "df = df.reset_index()\n",
    "del df['index']\n",
    "# switching perspective from w/l to p0/p1 for future predictions"
   ]
  },
  {
   "cell_type": "code",
   "execution_count": 20,
   "metadata": {
    "collapsed": false
   },
   "outputs": [],
   "source": [
    "df['p0_name'] = [df['l_name'][i] if df['winner'][i] else df['w_name'][i] for i in xrange(len(df))]\n",
    "df['p1_name'] = [df['w_name'][i] if df['winner'][i] else df['l_name'][i] for i in xrange(len(df))]\n",
    "df['p0_elo'] = [df['l_elo'][i] if df['winner'][i] else df['w_elo'][i] for i in xrange(len(df))]\n",
    "df['p1_elo'] = [df['w_elo'][i] if df['winner'][i] else df['l_elo'][i] for i in xrange(len(df))]\n",
    "df['p0_s_elo'] = [df['sl_elo'][i] if df['winner'][i] else df['sw_elo'][i] for i in xrange(len(df))]\n",
    "df['p1_s_elo'] = [df['sw_elo'][i] if df['winner'][i] else df['sl_elo'][i] for i in xrange(len(df))]\n",
    "df['elo_diff'] = [df['p0_elo'][i] - df['p1_elo'][i] for i in xrange(len(df))]\n",
    "df['s_elo_diff'] = [df['p0_s_elo'][i] - df['p1_s_elo'][i] for i in xrange(len(df))]\n",
    "df = df[['tourney_id','tourney_name','tourney_date','p0_name','p1_name','p0_elo','p1_elo','elo_diff','p0_s_elo',\\\n",
    "         'p1_s_elo','s_elo_diff','best_of','score','pbp','winner']]\n",
    "df['tourney_name'] = [s if s==s else 'Davis Cup' for s in df['tourney_name']]\n",
    "\n",
    "#df.to_csv('../my_data/elo_pbp_with_surface.csv')"
   ]
  },
  {
   "cell_type": "code",
   "execution_count": 33,
   "metadata": {
    "collapsed": false
   },
   "outputs": [
    {
     "data": {
      "text/html": [
       "<div>\n",
       "<table border=\"1\" class=\"dataframe\">\n",
       "  <thead>\n",
       "    <tr style=\"text-align: right;\">\n",
       "      <th></th>\n",
       "      <th>pbp_id</th>\n",
       "      <th>date</th>\n",
       "      <th>tny_name</th>\n",
       "      <th>tour</th>\n",
       "      <th>draw</th>\n",
       "      <th>server1</th>\n",
       "      <th>server2</th>\n",
       "      <th>winner</th>\n",
       "      <th>pbp</th>\n",
       "      <th>score</th>\n",
       "      <th>adf_flag</th>\n",
       "      <th>wh_minutes</th>\n",
       "      <th>w_name</th>\n",
       "      <th>l_name</th>\n",
       "      <th>match_year</th>\n",
       "      <th>match_month</th>\n",
       "    </tr>\n",
       "  </thead>\n",
       "  <tbody>\n",
       "    <tr>\n",
       "      <th>2492</th>\n",
       "      <td>3362769</td>\n",
       "      <td>2012-08-18</td>\n",
       "      <td>WinstonSalemOpen-ATPWinstonSalem</td>\n",
       "      <td>ATP</td>\n",
       "      <td>Main</td>\n",
       "      <td>Jack Sock</td>\n",
       "      <td>Jurgen Zopp</td>\n",
       "      <td>0</td>\n",
       "      <td>SRSSS;SSSS;RSSSS;SSSS;SRRSSS;SSSS;SSSRS;RSRSSR...</td>\n",
       "      <td>6-4 7-6</td>\n",
       "      <td>0</td>\n",
       "      <td>116</td>\n",
       "      <td>Jack Sock</td>\n",
       "      <td>Jurgen Zopp</td>\n",
       "      <td>2012</td>\n",
       "      <td>8</td>\n",
       "    </tr>\n",
       "  </tbody>\n",
       "</table>\n",
       "</div>"
      ],
      "text/plain": [
       "       pbp_id        date                          tny_name tour  draw  \\\n",
       "2492  3362769  2012-08-18  WinstonSalemOpen-ATPWinstonSalem  ATP  Main   \n",
       "\n",
       "        server1      server2  winner  \\\n",
       "2492  Jack Sock  Jurgen Zopp       0   \n",
       "\n",
       "                                                    pbp    score  adf_flag  \\\n",
       "2492  SRSSS;SSSS;RSSSS;SSSS;SRRSSS;SSSS;SSSRS;RSRSSR...  6-4 7-6         0   \n",
       "\n",
       "      wh_minutes     w_name       l_name  match_year  match_month  \n",
       "2492         116  Jack Sock  Jurgen Zopp        2012            8  "
      ]
     },
     "execution_count": 33,
     "metadata": {},
     "output_type": "execute_result"
    }
   ],
   "source": [
    "# an example of a qualifying match in pbp_matches that will not be exported in elo_pbp.csv\n",
    "z = pbp_matches[pbp_matches['server2']=='Jurgen Zopp']\n",
    "z[z['server1']=='Jack Sock']"
   ]
  },
  {
   "cell_type": "code",
   "execution_count": 80,
   "metadata": {
    "collapsed": false
   },
   "outputs": [],
   "source": [
    "# the order of matches in this dataframe is incorrect\n",
    "# furthermore, the elo seems to sometimes drop after winning...\n",
    "\n",
    "# df = atp_all_matches\n",
    "# sub = atp_all_matches[atp_all_matches['match_year']==2011]\n",
    "# sub.loc[[i for i in sub.index if sub['w_name'][i]=='Robin Soderling' or sub['l_name'][i]=='Robin Soderling']]\n",
    "\n",
    "# columns = ['tourney_id','tourney_name','tourney_date','match_num','surface','is_gs','w_name','l_name',\n",
    "#                 'winner_id','loser_id','best_of','w_elo','l_elo','sw_elo','sl_elo','match_year','match_month','score']\n",
    "# atp_all_matches = atp_all_matches[columns]\n",
    "#atp_all_matches[atp_all_matches['w_name']=='Roger Federer']"
   ]
  },
  {
   "cell_type": "code",
   "execution_count": 21,
   "metadata": {
    "collapsed": false,
    "scrolled": true
   },
   "outputs": [
    {
     "data": {
      "text/plain": [
       "(10675, 15)"
      ]
     },
     "execution_count": 21,
     "metadata": {},
     "output_type": "execute_result"
    }
   ],
   "source": [
    "df.shape"
   ]
  },
  {
   "cell_type": "code",
   "execution_count": 41,
   "metadata": {
    "collapsed": false
   },
   "outputs": [
    {
     "name": "stdout",
     "output_type": "stream",
     "text": [
      "0.695374163253\n",
      "0.690178839045\n"
     ]
    }
   ],
   "source": [
    "below = df[df['elo_diff']<0]\n",
    "above = df[df['elo_diff']>=0]\n",
    "\n",
    "print (len(below[below['winner']==1])+len(above[above['winner']==0]))/float(len(df))\n",
    "\n",
    "below = df[df['s_elo_diff']<0]\n",
    "above = df[df['s_elo_diff']>=0]\n",
    "\n",
    "print (len(below[below['winner']==1])+len(above[above['winner']==0]))/float(len(df))"
   ]
  },
  {
   "cell_type": "code",
   "execution_count": null,
   "metadata": {
    "collapsed": true
   },
   "outputs": [],
   "source": []
  }
 ],
 "metadata": {
  "kernelspec": {
   "display_name": "Python 2",
   "language": "python",
   "name": "python2"
  },
  "language_info": {
   "codemirror_mode": {
    "name": "ipython",
    "version": 2
   },
   "file_extension": ".py",
   "mimetype": "text/x-python",
   "name": "python",
   "nbconvert_exporter": "python",
   "pygments_lexer": "ipython2",
   "version": "2.7.13"
  }
 },
 "nbformat": 4,
 "nbformat_minor": 0
}
