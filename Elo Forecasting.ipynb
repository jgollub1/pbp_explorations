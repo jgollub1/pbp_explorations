{
 "cells": [
  {
   "cell_type": "code",
   "execution_count": 1,
   "metadata": {
    "collapsed": true
   },
   "outputs": [],
   "source": [
    "# determine the optimal pre-match forecast, given elo_diff and s_elo_diff\n",
    "# step 3: calculate glicko and s_glicko for each player and do the same"
   ]
  },
  {
   "cell_type": "code",
   "execution_count": 8,
   "metadata": {
    "collapsed": true
   },
   "outputs": [],
   "source": [
    "from sklearn import linear_model\n",
    "from sklearn.model_selection import KFold\n",
    "from sklearn.metrics import log_loss,accuracy_score\n",
    "\n",
    "# cols is a list of all column sets to test; compare with kls pre-match forecasts\n",
    "def validate_results(df,columns,n_splits=5):\n",
    "    kfold = KFold(n_splits=n_splits,shuffle=True)\n",
    "    scores = np.zeros([len(columns)+2,2,n_splits]);i=0\n",
    "    for train_ind,test_ind in kfold.split(df):\n",
    "        lm = linear_model.LogisticRegression(fit_intercept = True)\n",
    "        train_df,test_df = df.loc[train_ind],df.loc[test_ind]\n",
    "        \n",
    "        for k,cols in enumerate(columns):\n",
    "            lm.fit(train_df[cols].values.reshape([len(train_df),len(cols)]),train_df['winner'])\n",
    "            y_preds = lm.predict(test_df[cols].values.reshape([len(test_df),len(cols)]))\n",
    "            y_probs = lm.predict_proba(test_df[cols].values.reshape([len(test_df),len(cols)]))\n",
    "            scores[k][0][i]=accuracy_score(test_df['winner'],y_preds)\n",
    "            scores[k][1][i]=log_loss(test_df['winner'],y_probs,labels=[0,1])\n",
    "        \n",
    "        y_preds2 = test_df['match_prob_kls']>.5\n",
    "        y_preds3 = test_df['match_prob_kls_JS']>.5\n",
    "        scores[len(columns)][0][i]=accuracy_score(test_df['winner'],y_preds2)\n",
    "        scores[len(columns)][1][i]=log_loss(test_df['winner'],test_df['match_prob_kls'],labels=[0,1])\n",
    "        scores[len(columns)+1][0][i]=accuracy_score(test_df['winner'],y_preds3)\n",
    "        scores[len(columns)+1][1][i]=log_loss(test_df['winner'],test_df['match_prob_kls_JS'],labels=[0,1])\n",
    "        i+=1\n",
    "    \n",
    "    for i,cols in enumerate(columns):\n",
    "        print 'columns: ',cols\n",
    "        #print '% s_elo used in lm fit: ',lm.coef_[0][1]/(lm.coef_[0][0]+lm.coef_[0][1])\n",
    "        print 'accuracy: ', np.mean(scores[i][0])\n",
    "        print 'loss: ', np.mean(scores[i][1])\n",
    "    \n",
    "    print 'kls probabilities'\n",
    "    print 'accuracy: ', np.mean(scores[len(columns)][0])\n",
    "    print 'loss: ', np.mean(scores[len(columns)][1])\n",
    "\n",
    "    print 'kls JS probabilities'\n",
    "    print 'accuracy: ', np.mean(scores[len(columns)+1][0])\n",
    "    print 'loss: ', np.mean(scores[len(columns)+1][1])"
   ]
  },
  {
   "cell_type": "code",
   "execution_count": 2,
   "metadata": {
    "collapsed": false
   },
   "outputs": [
    {
     "data": {
      "text/html": [
       "<div>\n",
       "<table border=\"1\" class=\"dataframe\">\n",
       "  <thead>\n",
       "    <tr style=\"text-align: right;\">\n",
       "      <th></th>\n",
       "      <th>tourney_id</th>\n",
       "      <th>tourney_name</th>\n",
       "      <th>tourney_date</th>\n",
       "      <th>match_year</th>\n",
       "      <th>p0_name</th>\n",
       "      <th>p1_name</th>\n",
       "      <th>p0_elo</th>\n",
       "      <th>p1_elo</th>\n",
       "      <th>elo_diff</th>\n",
       "      <th>p0_s_elo</th>\n",
       "      <th>...</th>\n",
       "      <th>tourney_stats</th>\n",
       "      <th>best_of</th>\n",
       "      <th>score</th>\n",
       "      <th>pbp</th>\n",
       "      <th>winner</th>\n",
       "      <th>match_id</th>\n",
       "      <th>p0_s_kls</th>\n",
       "      <th>p1_s_kls</th>\n",
       "      <th>p0_s_kls_JS</th>\n",
       "      <th>p1_s_kls_JS</th>\n",
       "    </tr>\n",
       "  </thead>\n",
       "  <tbody>\n",
       "    <tr>\n",
       "      <th>0</th>\n",
       "      <td>2014-301</td>\n",
       "      <td>Auckland</td>\n",
       "      <td>2014-01-06</td>\n",
       "      <td>2014</td>\n",
       "      <td>Donald Young</td>\n",
       "      <td>Federico Delbonis</td>\n",
       "      <td>1546.540528</td>\n",
       "      <td>1711.117324</td>\n",
       "      <td>-164.576796</td>\n",
       "      <td>1529.776774</td>\n",
       "      <td>...</td>\n",
       "      <td>0.658301</td>\n",
       "      <td>3</td>\n",
       "      <td>7-5 6-2</td>\n",
       "      <td>SSSRS;SSRSRA;RSRRSSSRSS;SRSSS;SSSS;SRRSSS;RSSR...</td>\n",
       "      <td>1</td>\n",
       "      <td>42810</td>\n",
       "      <td>0.572116</td>\n",
       "      <td>0.552431</td>\n",
       "      <td>0.591849</td>\n",
       "      <td>0.580801</td>\n",
       "    </tr>\n",
       "    <tr>\n",
       "      <th>1</th>\n",
       "      <td>2014-301</td>\n",
       "      <td>Auckland</td>\n",
       "      <td>2014-01-06</td>\n",
       "      <td>2014</td>\n",
       "      <td>Albert Montanes</td>\n",
       "      <td>Santiago Giraldo</td>\n",
       "      <td>1711.293427</td>\n",
       "      <td>1645.679649</td>\n",
       "      <td>65.613778</td>\n",
       "      <td>1512.891795</td>\n",
       "      <td>...</td>\n",
       "      <td>0.658301</td>\n",
       "      <td>3</td>\n",
       "      <td>6-1 7-6</td>\n",
       "      <td>RRARSR;SRSDSS;RRSSRSRSSS;RSSAS;SRSRDSRSRSRR;SR...</td>\n",
       "      <td>0</td>\n",
       "      <td>42811</td>\n",
       "      <td>0.624996</td>\n",
       "      <td>0.615394</td>\n",
       "      <td>0.625741</td>\n",
       "      <td>0.616902</td>\n",
       "    </tr>\n",
       "  </tbody>\n",
       "</table>\n",
       "<p>2 rows × 38 columns</p>\n",
       "</div>"
      ],
      "text/plain": [
       "  tourney_id tourney_name tourney_date  match_year          p0_name  \\\n",
       "0   2014-301     Auckland   2014-01-06        2014     Donald Young   \n",
       "1   2014-301     Auckland   2014-01-06        2014  Albert Montanes   \n",
       "\n",
       "             p1_name       p0_elo       p1_elo    elo_diff     p0_s_elo  \\\n",
       "0  Federico Delbonis  1546.540528  1711.117324 -164.576796  1529.776774   \n",
       "1   Santiago Giraldo  1711.293427  1645.679649   65.613778  1512.891795   \n",
       "\n",
       "      ...       tourney_stats  best_of    score  \\\n",
       "0     ...            0.658301        3  7-5 6-2   \n",
       "1     ...            0.658301        3  6-1 7-6   \n",
       "\n",
       "                                                 pbp  winner  match_id  \\\n",
       "0  SSSRS;SSRSRA;RSRRSSSRSS;SRSSS;SSSS;SRRSSS;RSSR...       1     42810   \n",
       "1  RRARSR;SRSDSS;RRSSRSRSSS;RSSAS;SRSRDSRSRSRR;SR...       0     42811   \n",
       "\n",
       "   p0_s_kls  p1_s_kls  p0_s_kls_JS  p1_s_kls_JS  \n",
       "0  0.572116  0.552431     0.591849     0.580801  \n",
       "1  0.624996  0.615394     0.625741     0.616902  \n",
       "\n",
       "[2 rows x 38 columns]"
      ]
     },
     "execution_count": 2,
     "metadata": {},
     "output_type": "execute_result"
    }
   ],
   "source": [
    "import sys\n",
    "sys.path.insert(0,'/Users/jacobgollub/Desktop/college (current)/research/pbp_explorations/scripts/sackmann')\n",
    "import tennisGameProbability,tennisMatchProbability,tennisSetProbability,tennisTiebreakProbability\n",
    "from tennisMatchProbability import matchProb\n",
    "import pandas as pd\n",
    "import numpy as np\n",
    "\n",
    "# can test this on our subset of 10,000 matches as well as all matches in the database:\n",
    "#df = pd.read_csv('../my_data/elo_pbp_with_surface_8_27.csv')\n",
    "df = pd.read_csv('../my_data/elo_atp_matches_21st_century.csv')\n",
    "del df['Unnamed: 0']\n",
    "\n",
    "# currently looking at 2014 tour-level matches, excluding Davis Cup\n",
    "df = df[df['match_year']==2014].reset_index(drop=True)\n",
    "df = df[df['tourney_name']!='Davis Cup'].reset_index(drop=True)\n",
    "df.head(2)"
   ]
  },
  {
   "cell_type": "code",
   "execution_count": 3,
   "metadata": {
    "collapsed": false
   },
   "outputs": [
    {
     "name": "stdout",
     "output_type": "stream",
     "text": [
      "(2409, 42)\n"
     ]
    }
   ],
   "source": [
    "# generate match probabilities and z-scores for Klaassen method, with and w/o JS estimators\n",
    "df['match_prob_kls'] = [matchProb(row['p0_s_kls'],1-row['p1_s_kls']) for i,row in df.iterrows()]\n",
    "df['match_prob_kls_JS'] = [matchProb(row['p0_s_kls_JS'],1-row['p1_s_kls_JS']) for i,row in df.iterrows()]\n",
    "\n",
    "from scipy.stats import norm\n",
    "for col in ['match_prob_kls','match_prob_kls_JS']:\n",
    "    df[col.replace('prob','z')] = norm.ppf(df[col])\n",
    "print df.shape"
   ]
  },
  {
   "cell_type": "code",
   "execution_count": 4,
   "metadata": {
    "collapsed": false
   },
   "outputs": [
    {
     "name": "stdout",
     "output_type": "stream",
     "text": [
      "elo baseline:  0.69198837692\n",
      "surface elo baseline:  0.686176836862\n",
      "best s_elo weight:  0.3 accuracy = 0.695724366957\n"
     ]
    }
   ],
   "source": [
    "print 'elo baseline: ',  sum((df['elo_diff']>0) == df['winner'])/float(len(df))\n",
    "print 'surface elo baseline: ', sum((df['s_elo_diff']>0) == df['winner'])/float(len(df))\n",
    "\n",
    "current = (0,0)\n",
    "for weight in np.arange(10)*.1:\n",
    "    accuracy = sum(((1-weight)*df['elo_diff']+weight*df['s_elo_diff']>0) == df['winner'])/float(len(df))\n",
    "    if accuracy > current[1]:\n",
    "        current=weight,accuracy\n",
    "print 'best s_elo weight: ',current[0],'accuracy =',current[1]\n",
    "#df['elo_diff_weighted'] = (1-current[1])*df['elo_diff']+current[1]*df['s_elo_diff']"
   ]
  },
  {
   "cell_type": "code",
   "execution_count": null,
   "metadata": {
    "collapsed": true
   },
   "outputs": [],
   "source": [
    "# seems worth trying methods to alter match_prob_kls with elo"
   ]
  },
  {
   "cell_type": "code",
   "execution_count": 15,
   "metadata": {
    "collapsed": false
   },
   "outputs": [
    {
     "name": "stdout",
     "output_type": "stream",
     "text": [
      "columns:  ['elo_diff', 's_elo_diff']\n",
      "accuracy:  0.688668144685\n",
      "loss:  0.580059974458\n",
      "columns:  ['elo_diff', 's_elo_diff', 'match_z_kls']\n",
      "accuracy:  0.720630429344\n",
      "loss:  0.527242740716\n",
      "columns:  ['elo_diff', 's_elo_diff', 'match_z_kls_JS']\n",
      "accuracy:  0.718141665445\n",
      "loss:  0.538486150702\n",
      "kls probabilities\n",
      "accuracy:  0.7256088198\n",
      "loss:  0.531296893563\n",
      "kls JS probabilities\n",
      "accuracy:  0.721461167519\n",
      "loss:  0.545266605368\n"
     ]
    }
   ],
   "source": [
    "cols = [['elo_diff','s_elo_diff'],['elo_diff','s_elo_diff','match_z_kls'],\\\n",
    "        ['elo_diff','s_elo_diff','match_z_kls_JS']]\n",
    "n_splits = 5\n",
    "validate_results(df,cols,n_splits)"
   ]
  },
  {
   "cell_type": "code",
   "execution_count": 6,
   "metadata": {
    "collapsed": false
   },
   "outputs": [],
   "source": [
    "# now, create win_prob columns for elo"
   ]
  },
  {
   "cell_type": "code",
   "execution_count": null,
   "metadata": {
    "collapsed": true
   },
   "outputs": [],
   "source": []
  },
  {
   "cell_type": "code",
   "execution_count": null,
   "metadata": {
    "collapsed": true
   },
   "outputs": [],
   "source": []
  },
  {
   "cell_type": "code",
   "execution_count": null,
   "metadata": {
    "collapsed": true
   },
   "outputs": [],
   "source": []
  },
  {
   "cell_type": "code",
   "execution_count": null,
   "metadata": {
    "collapsed": true
   },
   "outputs": [],
   "source": []
  },
  {
   "cell_type": "code",
   "execution_count": 9,
   "metadata": {
    "collapsed": false
   },
   "outputs": [],
   "source": [
    "# logistic regression on z scores of our probabilities AND elo_diff/s_elo_diff\n",
    "from scipy.stats import norm\n",
    "df_all = pd.read_csv('../my_data/feature_df_pbp3_8_23_alphas.csv')\n",
    "del df_all['Unnamed: 0']\n",
    "for col in ['sackmann_prob','klaassen_prob','klaassen_prob_a_400']:\n",
    "    df_all[col.replace('prob','z')] = norm.ppf(df_all[col])\n",
    "df_all.loc[df_all['sackmann_z']>10,'sackmann_z'] = 10\n",
    "df_all.loc[df_all['klaassen_z']>10,'klaassen_z'] = 10\n",
    "df_all.loc[df_all['klaassen_z_a_400']>10,'klaassen_z_a_400'] = 10"
   ]
  },
  {
   "cell_type": "code",
   "execution_count": 11,
   "metadata": {
    "collapsed": false
   },
   "outputs": [
    {
     "name": "stdout",
     "output_type": "stream",
     "text": [
      "coefficients:  [ -5.39480879e-04   1.72440109e-03   1.71413858e+00]\n",
      "accuracy:  0.778048803942\n",
      "loss:  0.456072287662\n"
     ]
    }
   ],
   "source": [
    "from sklearn import linear_model\n",
    "from sklearn.model_selection import KFold\n",
    "from sklearn.metrics import log_loss,accuracy_score\n",
    "\n",
    "# also will want to try ensemble methods at some point...\n",
    "kfold = KFold(n_splits=5,shuffle=True)\n",
    "scores = [],[]\n",
    "cols = ['elo_diff','s_elo_diff','klaassen_z_a_400']\n",
    "for train_ind,test_ind in kfold.split(df_all):\n",
    "    lm = linear_model.LogisticRegression(fit_intercept = True)\n",
    "    train_df,test_df = df_all.loc[train_ind],df_all.loc[test_ind]\n",
    "    lm.fit(train_df[cols].values.reshape([len(train_df),len(cols)]),train_df['winner'])\n",
    "    y_preds = lm.predict(test_df[cols].values.reshape([len(test_df),len(cols)]))\n",
    "    y_probs = lm.predict_proba(test_df[cols].values.reshape([len(test_df),len(cols)]))\n",
    "    accuracy = accuracy_score(test_df['winner'],y_preds)\n",
    "    loss = log_loss(test_df['winner'],y_probs,labels=[0,1])\n",
    "    scores[0].append(accuracy);scores[1].append(loss)\n",
    "#print '% s_elo used in lm fit: ',lm.coef_[0][1]/(lm.coef_[0][0]+lm.coef_[0][1])\n",
    "print 'coefficients: ', lm.coef_[0]\n",
    "print 'accuracy: ', np.mean(scores[0])\n",
    "print 'loss: ', np.mean(scores[1])"
   ]
  },
  {
   "cell_type": "code",
   "execution_count": null,
   "metadata": {
    "collapsed": true
   },
   "outputs": [],
   "source": [
    "# perform same analysis across entire match dataset, over the decades"
   ]
  },
  {
   "cell_type": "code",
   "execution_count": null,
   "metadata": {
    "collapsed": true
   },
   "outputs": [],
   "source": []
  },
  {
   "cell_type": "code",
   "execution_count": null,
   "metadata": {
    "collapsed": true
   },
   "outputs": [],
   "source": []
  },
  {
   "cell_type": "code",
   "execution_count": 161,
   "metadata": {
    "collapsed": true
   },
   "outputs": [],
   "source": [
    "# one-time fix to transfer over the elo_diff's\n",
    "# import pandas as pd\n",
    "# import numpy as np\n",
    "\n",
    "# df_og = pd.read_csv('../my_data/elo_pbp_with_surface_8_22.csv')\n",
    "# del df_og['Unnamed: 0']\n",
    "# df = pd.read_csv('../my_data/feature_df_pbp3_8_23_alphas.csv')\n",
    "# del df['Unnamed: 0']\n",
    "\n",
    "# elo_dict = dict(zip(range(len(df_og)),df_og['elo_diff']))\n",
    "# s_elo_dict = dict(zip(range(len(df_og)),df_og['s_elo_diff']))\n",
    "\n",
    "# df['elo_diff'] = [elo_dict[m_id] for m_id in df['match_id']]\n",
    "# df['s_elo_diff'] = [s_elo_dict[m_id] for m_id in df['match_id']]\n",
    "# df.to_csv('../my_data/feature_df_pbp3_8_23_alphas.csv')"
   ]
  },
  {
   "cell_type": "code",
   "execution_count": null,
   "metadata": {
    "collapsed": true
   },
   "outputs": [],
   "source": [
    "# from sklearn import linear_model\n",
    "# from sklearn.model_selection import KFold\n",
    "# from sklearn.metrics import log_loss,accuracy_score\n",
    "\n",
    "# n_splits = 5\n",
    "# kfold = KFold(n_splits=n_splits,shuffle=True)\n",
    "# scores = np.zeros([3,2,n_splits]);i=0\n",
    "# cols = ['elo_diff','s_elo_diff']\n",
    "# for train_ind,test_ind in kfold.split(df):\n",
    "#     lm = linear_model.LogisticRegression(fit_intercept = True)\n",
    "#     train_df,test_df = df.loc[train_ind],df.loc[test_ind]\n",
    "#     lm.fit(train_df[cols].values.reshape([len(train_df),len(cols)]),train_df['winner'])\n",
    "#     y_preds = lm.predict(test_df[cols].values.reshape([len(test_df),len(cols)]))\n",
    "#     y_preds2 = test_df['match_prob_kls']>.5\n",
    "#     y_preds3 = test_df['match_prob_kls_JS']>.5\n",
    "#     y_probs = lm.predict_proba(test_df[cols].values.reshape([len(test_df),len(cols)]))\n",
    "#     scores[0][0][i]=accuracy_score(test_df['winner'],y_preds)\n",
    "#     scores[0][1][i]=log_loss(test_df['winner'],y_probs,labels=[0,1])\n",
    "#     scores[1][0][i]=accuracy_score(test_df['winner'],y_preds2)\n",
    "#     scores[1][1][i]=log_loss(test_df['winner'],test_df['match_prob_kls'],labels=[0,1])\n",
    "#     scores[2][0][i]=accuracy_score(test_df['winner'],y_preds3)\n",
    "#     scores[2][1][i]=log_loss(test_df['winner'],test_df['match_prob_kls_JS'],labels=[0,1])\n",
    "\n",
    "    \n",
    "#     i+=1\n",
    "# print '% s_elo used in lm fit: ',lm.coef_[0][1]/(lm.coef_[0][0]+lm.coef_[0][1])\n",
    "# print 'accuracy: ', np.mean(scores[0][0])\n",
    "# print 'loss: ', np.mean(scores[0][1])\n",
    "\n",
    "# print 'kls probabilities'\n",
    "# print 'accuracy: ', np.mean(scores[1][0])\n",
    "# print 'loss: ', np.mean(scores[1][1])\n",
    "\n",
    "# print 'kls JS probabilities'\n",
    "# print 'accuracy: ', np.mean(scores[2][0])\n",
    "# print 'loss: ', np.mean(scores[2][1])"
   ]
  }
 ],
 "metadata": {
  "kernelspec": {
   "display_name": "Python 2",
   "language": "python",
   "name": "python2"
  },
  "language_info": {
   "codemirror_mode": {
    "name": "ipython",
    "version": 2
   },
   "file_extension": ".py",
   "mimetype": "text/x-python",
   "name": "python",
   "nbconvert_exporter": "python",
   "pygments_lexer": "ipython2",
   "version": "2.7.13"
  }
 },
 "nbformat": 4,
 "nbformat_minor": 0
}
