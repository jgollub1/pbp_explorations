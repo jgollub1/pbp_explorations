{
 "cells": [
  {
   "cell_type": "code",
   "execution_count": 1,
   "metadata": {
    "collapsed": true
   },
   "outputs": [],
   "source": [
    "# determine the optimal pre-match forecast, given elo_diff and s_elo_diff\n",
    "# step 3: calculate glicko and s_glicko for each player and do the same"
   ]
  },
  {
   "cell_type": "code",
   "execution_count": 2,
   "metadata": {
    "collapsed": false
   },
   "outputs": [
    {
     "data": {
      "text/html": [
       "<div>\n",
       "<table border=\"1\" class=\"dataframe\">\n",
       "  <thead>\n",
       "    <tr style=\"text-align: right;\">\n",
       "      <th></th>\n",
       "      <th>tny_id</th>\n",
       "      <th>tny_name</th>\n",
       "      <th>surface</th>\n",
       "      <th>tny_date</th>\n",
       "      <th>match_year</th>\n",
       "      <th>match_month</th>\n",
       "      <th>p0_name</th>\n",
       "      <th>p1_name</th>\n",
       "      <th>p0_elo</th>\n",
       "      <th>p1_elo</th>\n",
       "      <th>...</th>\n",
       "      <th>winner</th>\n",
       "      <th>match_id</th>\n",
       "      <th>p0_s_kls</th>\n",
       "      <th>p1_s_kls</th>\n",
       "      <th>p0_s_kls_JS</th>\n",
       "      <th>p1_s_kls_JS</th>\n",
       "      <th>p0_sf_s_kls</th>\n",
       "      <th>p1_sf_s_kls</th>\n",
       "      <th>p0_sf_s_kls_JS</th>\n",
       "      <th>p1_sf_s_kls_JS</th>\n",
       "    </tr>\n",
       "  </thead>\n",
       "  <tbody>\n",
       "    <tr>\n",
       "      <th>0</th>\n",
       "      <td>2014-301</td>\n",
       "      <td>Auckland</td>\n",
       "      <td>Hard</td>\n",
       "      <td>2014-01-06</td>\n",
       "      <td>2014</td>\n",
       "      <td>1</td>\n",
       "      <td>Donald Young</td>\n",
       "      <td>Federico Delbonis</td>\n",
       "      <td>1546.540528</td>\n",
       "      <td>1711.117324</td>\n",
       "      <td>...</td>\n",
       "      <td>1</td>\n",
       "      <td>42810</td>\n",
       "      <td>0.573700</td>\n",
       "      <td>0.589324</td>\n",
       "      <td>0.607268</td>\n",
       "      <td>0.623783</td>\n",
       "      <td>0.628710</td>\n",
       "      <td>0.547534</td>\n",
       "      <td>0.632450</td>\n",
       "      <td>0.583904</td>\n",
       "    </tr>\n",
       "    <tr>\n",
       "      <th>1</th>\n",
       "      <td>2014-301</td>\n",
       "      <td>Auckland</td>\n",
       "      <td>Hard</td>\n",
       "      <td>2014-01-06</td>\n",
       "      <td>2014</td>\n",
       "      <td>1</td>\n",
       "      <td>Albert Montanes</td>\n",
       "      <td>Santiago Giraldo</td>\n",
       "      <td>1711.293427</td>\n",
       "      <td>1645.679649</td>\n",
       "      <td>...</td>\n",
       "      <td>0</td>\n",
       "      <td>42811</td>\n",
       "      <td>0.660674</td>\n",
       "      <td>0.645451</td>\n",
       "      <td>0.661284</td>\n",
       "      <td>0.647280</td>\n",
       "      <td>0.607995</td>\n",
       "      <td>0.741102</td>\n",
       "      <td>0.625536</td>\n",
       "      <td>0.713346</td>\n",
       "    </tr>\n",
       "  </tbody>\n",
       "</table>\n",
       "<p>2 rows × 70 columns</p>\n",
       "</div>"
      ],
      "text/plain": [
       "     tny_id  tny_name surface    tny_date  match_year  match_month  \\\n",
       "0  2014-301  Auckland    Hard  2014-01-06        2014            1   \n",
       "1  2014-301  Auckland    Hard  2014-01-06        2014            1   \n",
       "\n",
       "           p0_name            p1_name       p0_elo       p1_elo  \\\n",
       "0     Donald Young  Federico Delbonis  1546.540528  1711.117324   \n",
       "1  Albert Montanes   Santiago Giraldo  1711.293427  1645.679649   \n",
       "\n",
       "        ...        winner  match_id  p0_s_kls  p1_s_kls  p0_s_kls_JS  \\\n",
       "0       ...             1     42810  0.573700  0.589324     0.607268   \n",
       "1       ...             0     42811  0.660674  0.645451     0.661284   \n",
       "\n",
       "   p1_s_kls_JS  p0_sf_s_kls  p1_sf_s_kls  p0_sf_s_kls_JS  p1_sf_s_kls_JS  \n",
       "0     0.623783     0.628710     0.547534        0.632450        0.583904  \n",
       "1     0.647280     0.607995     0.741102        0.625536        0.713346  \n",
       "\n",
       "[2 rows x 70 columns]"
      ]
     },
     "execution_count": 2,
     "metadata": {},
     "output_type": "execute_result"
    }
   ],
   "source": [
    "import sys\n",
    "sys.path.insert(0,'/Users/jacobgollub/Desktop/college (current)/research/pbp_explorations/scripts/sackmann')\n",
    "import tennisGameProbability,tennisMatchProbability,tennisSetProbability,tennisTiebreakProbability\n",
    "from tennisMatchProbability import matchProb\n",
    "from helper_functions import validate_results\n",
    "import pandas as pd\n",
    "import numpy as np\n",
    "from sklearn.metrics import log_loss,accuracy_score\n",
    "\n",
    "# can test this on our subset of 10,000 matches as well as all matches in the database:\n",
    "#df = pd.read_csv('../my_data/elo_pbp_with_surface_8_27.csv')\n",
    "df = pd.read_csv('../my_data/elo_atp_matches_21st_century_9_11.csv')\n",
    "del df['Unnamed: 0']\n",
    "\n",
    "# currently looking at 2014 tour-level matches, excluding Davis Cup\n",
    "df = df[df['match_year']==2014].reset_index(drop=True)\n",
    "#df = df[df['match_year'].isin([2013,2014,2015,2016])]\n",
    "df = df[df['tny_name']!='Davis Cup'].reset_index(drop=True)\n",
    "df.head(2)"
   ]
  },
  {
   "cell_type": "code",
   "execution_count": 3,
   "metadata": {
    "collapsed": false
   },
   "outputs": [
    {
     "data": {
      "text/plain": [
       "0    0.572739\n",
       "1    0.605783\n",
       "2    0.608118\n",
       "3    0.631640\n",
       "4    0.625908\n",
       "dtype: float64"
      ]
     },
     "execution_count": 3,
     "metadata": {},
     "output_type": "execute_result"
    }
   ],
   "source": [
    "p = .2\n",
    "w_s0 = (1-p)*df['p0_s_pct_JS'] + p*df['p0_sf_s_pct_JS']\n",
    "w_s0[:5]"
   ]
  },
  {
   "cell_type": "code",
   "execution_count": 15,
   "metadata": {
    "collapsed": true
   },
   "outputs": [],
   "source": [
    "# try out different weightings of normalized surface serve stats...\n",
    "probs = []\n",
    "for p in [.1,.2,.3,.4,.5,.6,.7,.8,.9]:\n",
    "    wgt_s0 = (1-p)*df['p0_s_pct_JS'] + p*df['p0_sf_s_pct_JS']\n",
    "    wgt_s1 = (1-p)*df['p1_s_pct_JS'] + p*df['p1_sf_s_pct_JS']\n",
    "    wgt_r0 = (1-p)*df['p0_r_pct_JS'] + p*df['p0_sf_r_pct_JS']\n",
    "    wgt_r1 = (1-p)*df['p1_r_pct_JS'] + p*df['p1_sf_r_pct_JS']\n",
    "    df['p0_s_wgt'+str(p)] = df['tny_stats']+(wgt_s0-df['avg_52_s']) - (wgt_r1-df['avg_52_r'])\n",
    "    df['p1_s_wgt'+str(p)] = df['tny_stats']+(wgt_s1-df['avg_52_s']) - (wgt_r0-df['avg_52_r'])\n",
    "    \n",
    "    df['match_prob_wgt_'+str(p)] = [matchProb(row['p0_s_wgt'+str(p)],1-row['p1_s_wgt'+str(p)]) \\\n",
    "                                    for i,row in df.iterrows()]\n",
    "    probs.append('match_prob_wgt_'+str(p))\n",
    "    "
   ]
  },
  {
   "cell_type": "code",
   "execution_count": 5,
   "metadata": {
    "collapsed": false
   },
   "outputs": [
    {
     "name": "stdout",
     "output_type": "stream",
     "text": [
      "(2409, 103)\n"
     ]
    }
   ],
   "source": [
    "# generate match probabilities and z-scores for Klaassen method, with and w/o JS estimators\n",
    "df['match_prob_kls'] = [matchProb(row['p0_s_kls'],1-row['p1_s_kls']) for i,row in df.iterrows()]\n",
    "df['match_prob_kls_JS'] = [matchProb(row['p0_s_kls_JS'],1-row['p1_s_kls_JS']) for i,row in df.iterrows()]\n",
    "df['match_prob_sf_kls'] = [matchProb(row['p0_sf_s_kls'],1-row['p1_sf_s_kls']) for i,row in df.iterrows()]\n",
    "df['match_prob_sf_kls_JS'] = [matchProb(row['p0_sf_s_kls_JS'],1-row['p1_sf_s_kls_JS']) for i,row in df.iterrows()]\n",
    "#df['match_prob_s_kls'] = [matchProb(row['p0_s_s_kls'],1-row['p1_s_s_kls']) for i,row in df.iterrows()]\n",
    "\n",
    "from scipy.stats import norm\n",
    "for col in ['match_prob_kls','match_prob_kls_JS']:\n",
    "    df[col.replace('prob','z')] = norm.ppf(df[col])\n",
    "print df.shape"
   ]
  },
  {
   "cell_type": "code",
   "execution_count": 6,
   "metadata": {
    "collapsed": false
   },
   "outputs": [
    {
     "name": "stdout",
     "output_type": "stream",
     "text": [
      "elo baseline:  0.69198837692\n",
      "0.587237989556\n",
      "0.590338806649\n",
      "surface elo baseline:  0.686176836862\n",
      "elo 538 baseline:  0.693233706932\n",
      "0.594502008319\n",
      "0.594839978027\n",
      "surface elo 538 baseline:  0.696554586966\n"
     ]
    }
   ],
   "source": [
    "print 'elo baseline: ',  sum((df['elo_diff']>0) == df['winner'])/float(len(df))\n",
    "print log_loss(df['winner'],[(1+10**(diff/-400.))**-1 for diff in df['elo_diff']])\n",
    "print log_loss(df['winner'],[(1+10**(diff/-400.))**-1 for diff in df['sf_elo_diff']])\n",
    "print 'surface elo baseline: ', sum((df['sf_elo_diff']>0) == df['winner'])/float(len(df))\n",
    "print 'elo 538 baseline: ',  sum((df['elo_diff_538']>0) == df['winner'])/float(len(df))\n",
    "print log_loss(df['winner'],[(1+10**(diff/-400.))**-1 for diff in df['elo_diff_538']])\n",
    "print log_loss(df['winner'],[(1+10**(diff/-400.))**-1 for diff in df['sf_elo_diff_538']])\n",
    "print 'surface elo 538 baseline: ', sum((df['sf_elo_diff_538']>0) == df['winner'])/float(len(df))"
   ]
  },
  {
   "cell_type": "code",
   "execution_count": 7,
   "metadata": {
    "collapsed": false
   },
   "outputs": [
    {
     "name": "stdout",
     "output_type": "stream",
     "text": [
      "best s_elo weight:  0.9 accuracy = 0.699460356995\n"
     ]
    }
   ],
   "source": [
    "current = (0,0)\n",
    "for weight in np.arange(11)*.1:\n",
    "    accuracy = sum(((1-weight)*df['elo_diff_538']+weight*df['sf_elo_diff_538']>0) == df['winner'])/float(len(df))\n",
    "    if accuracy > current[1]:\n",
    "        current=weight,accuracy\n",
    "print 'best s_elo weight: ',current[0],'accuracy =',current[1]"
   ]
  },
  {
   "cell_type": "code",
   "execution_count": 8,
   "metadata": {
    "collapsed": true
   },
   "outputs": [],
   "source": [
    "# seems worth trying methods to alter match_prob_kls with elo"
   ]
  },
  {
   "cell_type": "code",
   "execution_count": 9,
   "metadata": {
    "collapsed": true
   },
   "outputs": [],
   "source": [
    "# match probabilities with surface "
   ]
  },
  {
   "cell_type": "code",
   "execution_count": 17,
   "metadata": {
    "collapsed": false
   },
   "outputs": [
    {
     "data": {
      "text/plain": [
       "Index([u'tny_id', u'tny_name', u'surface', u'tny_date', u'match_year',\n",
       "       u'match_month', u'p0_name', u'p1_name', u'p0_elo', u'p1_elo',\n",
       "       ...\n",
       "       u'match_prob_wgt_0.8', u'p0_s_wgt0.9', u'p1_s_wgt0.9',\n",
       "       u'match_prob_wgt_0.9', u'match_prob_kls', u'match_prob_kls_JS',\n",
       "       u'match_prob_sf_kls', u'match_prob_sf_kls_JS', u'match_z_kls',\n",
       "       u'match_z_kls_JS'],\n",
       "      dtype='object', length=103)"
      ]
     },
     "execution_count": 17,
     "metadata": {},
     "output_type": "execute_result"
    }
   ],
   "source": [
    "df.columns"
   ]
  },
  {
   "cell_type": "code",
   "execution_count": 19,
   "metadata": {
    "collapsed": false,
    "scrolled": false
   },
   "outputs": [
    {
     "name": "stdout",
     "output_type": "stream",
     "text": [
      "match_prob_wgt_0.3\n",
      "accuracy:  0.64589849984\n",
      "loss:  0.611805413262\n",
      "match_prob_kls\n",
      "accuracy:  0.64797491395\n",
      "loss:  0.649020424059\n",
      "match_prob_kls_JS\n",
      "accuracy:  0.654613918099\n",
      "loss:  0.615572274698\n",
      "match_prob_sf_kls\n",
      "accuracy:  0.634269890701\n",
      "loss:  0.707428503295\n",
      "match_prob_sf_kls_JS\n",
      "accuracy:  0.635098040907\n",
      "loss:  0.638952522705\n",
      "lm columns:  ['elo_diff_538']\n",
      "accuracy:  0.689898292803\n",
      "loss:  0.583513002548\n",
      "lm columns:  ['elo_diff', 'sf_elo_diff']\n",
      "accuracy:  0.690734206917\n",
      "loss:  0.580185808187\n",
      "lm columns:  ['elo_diff_538', 'sf_elo_diff_538']\n",
      "accuracy:  0.694048533053\n",
      "loss:  0.578919361882\n",
      "lm columns:  ['elo_diff', 'sf_elo_diff', 'match_z_kls']\n",
      "accuracy:  0.690315818532\n",
      "loss:  0.580291245266\n",
      "lm columns:  ['elo_diff_538', 'sf_elo_diff_538', 'match_z_kls']\n",
      "accuracy:  0.694045082427\n",
      "loss:  0.578191150638\n"
     ]
    }
   ],
   "source": [
    "cols = [['elo_diff_538'],['elo_diff','sf_elo_diff'],['elo_diff_538','sf_elo_diff_538'],\\\n",
    "        ['elo_diff','sf_elo_diff','match_z_kls'],\\\n",
    "        ['elo_diff_538','sf_elo_diff_538','match_z_kls']]\n",
    "probs = ['match_prob_wgt_0.3',u'match_prob_kls',u'match_prob_kls_JS', u'match_prob_sf_kls', u'match_prob_sf_kls_JS']\n",
    "n_splits = 5\n",
    "validate_results(df,probs=probs,lm_columns=cols,n_splits=n_splits)"
   ]
  },
  {
   "cell_type": "code",
   "execution_count": 20,
   "metadata": {
    "collapsed": true
   },
   "outputs": [],
   "source": [
    "df.to_csv('../my_data/elo_atp_matches_21st_century_9_12.csv')"
   ]
  },
  {
   "cell_type": "code",
   "execution_count": 13,
   "metadata": {
    "collapsed": true
   },
   "outputs": [],
   "source": [
    "from sklearn import linear_model\n",
    "from sklearn.model_selection import KFold\n",
    "from sklearn.metrics import log_loss,accuracy_score\n",
    "# cols is a list of column sets for logistic regression; \n",
    "# probs are model-specific probabilities\n",
    "def validate_results(df,probs,lm_columns,n_splits=5):\n",
    "    kfold = KFold(n_splits=n_splits,shuffle=True)\n",
    "    scores = np.zeros([len(lm_columns)+len(probs),2,n_splits]);i=0\n",
    "    for train_ind,test_ind in kfold.split(df):\n",
    "        lm = linear_model.LogisticRegression(fit_intercept = True)\n",
    "        train_df,test_df = df.loc[train_ind],df.loc[test_ind]\n",
    "        \n",
    "        for j,prob_col in enumerate(probs):\n",
    "            y_preds = test_df[prob_col]>.5\n",
    "            scores[j][0][i]=accuracy_score(test_df['winner'],y_preds)\n",
    "            scores[j][1][i]=log_loss(test_df['winner'],test_df[prob_col],labels=[0,1])\n",
    "        \n",
    "        for k,cols in enumerate(lm_columns):\n",
    "            lm.fit(train_df[cols].values.reshape([len(train_df),len(cols)]),train_df['winner'])\n",
    "            y_preds = lm.predict(test_df[cols].values.reshape([len(test_df),len(cols)]))\n",
    "            y_probs = lm.predict_proba(test_df[cols].values.reshape([len(test_df),len(cols)]))\n",
    "            scores[len(probs)+k][0][i]=accuracy_score(test_df['winner'],y_preds)\n",
    "            scores[len(probs)+k][1][i]=log_loss(test_df['winner'],y_probs,labels=[0,1])\n",
    "        i+=1\n",
    "\n",
    "    for j,prob_col in enumerate(probs):\n",
    "        print prob_col\n",
    "        print 'accuracy: ', np.mean(scores[j][0])\n",
    "        print 'loss: ', np.mean(scores[j][1])\n",
    "    \n",
    "    for i,cols in enumerate(lm_columns):\n",
    "        print 'lm columns: ',cols\n",
    "        print 'accuracy: ', np.mean(scores[len(probs)+i][0])\n",
    "        print 'loss: ', np.mean(scores[len(probs)+i][1])"
   ]
  },
  {
   "cell_type": "code",
   "execution_count": null,
   "metadata": {
    "collapsed": true
   },
   "outputs": [],
   "source": []
  },
  {
   "cell_type": "code",
   "execution_count": null,
   "metadata": {
    "collapsed": true
   },
   "outputs": [],
   "source": []
  },
  {
   "cell_type": "code",
   "execution_count": null,
   "metadata": {
    "collapsed": true
   },
   "outputs": [],
   "source": []
  },
  {
   "cell_type": "code",
   "execution_count": null,
   "metadata": {
    "collapsed": true
   },
   "outputs": [],
   "source": []
  },
  {
   "cell_type": "code",
   "execution_count": 9,
   "metadata": {
    "collapsed": false
   },
   "outputs": [],
   "source": [
    "# logistic regression on z scores of our probabilities AND elo_diff/s_elo_diff\n",
    "from scipy.stats import norm\n",
    "df_all = pd.read_csv('../my_data/feature_df_pbp3_8_23_alphas.csv')\n",
    "del df_all['Unnamed: 0']\n",
    "for col in ['sackmann_prob','klaassen_prob','klaassen_prob_a_400']:\n",
    "    df_all[col.replace('prob','z')] = norm.ppf(df_all[col])\n",
    "df_all.loc[df_all['sackmann_z']>10,'sackmann_z'] = 10\n",
    "df_all.loc[df_all['klaassen_z']>10,'klaassen_z'] = 10\n",
    "df_all.loc[df_all['klaassen_z_a_400']>10,'klaassen_z_a_400'] = 10"
   ]
  },
  {
   "cell_type": "code",
   "execution_count": 11,
   "metadata": {
    "collapsed": false
   },
   "outputs": [
    {
     "name": "stdout",
     "output_type": "stream",
     "text": [
      "coefficients:  [ -5.39480879e-04   1.72440109e-03   1.71413858e+00]\n",
      "accuracy:  0.778048803942\n",
      "loss:  0.456072287662\n"
     ]
    }
   ],
   "source": [
    "from sklearn import linear_model\n",
    "from sklearn.model_selection import KFold\n",
    "from sklearn.metrics import log_loss,accuracy_score\n",
    "\n",
    "# also will want to try ensemble methods at some point...\n",
    "kfold = KFold(n_splits=5,shuffle=True)\n",
    "scores = [],[]\n",
    "cols = ['elo_diff','s_elo_diff','klaassen_z_a_400']\n",
    "for train_ind,test_ind in kfold.split(df_all):\n",
    "    lm = linear_model.LogisticRegression(fit_intercept = True)\n",
    "    train_df,test_df = df_all.loc[train_ind],df_all.loc[test_ind]\n",
    "    lm.fit(train_df[cols].values.reshape([len(train_df),len(cols)]),train_df['winner'])\n",
    "    y_preds = lm.predict(test_df[cols].values.reshape([len(test_df),len(cols)]))\n",
    "    y_probs = lm.predict_proba(test_df[cols].values.reshape([len(test_df),len(cols)]))\n",
    "    accuracy = accuracy_score(test_df['winner'],y_preds)\n",
    "    loss = log_loss(test_df['winner'],y_probs,labels=[0,1])\n",
    "    scores[0].append(accuracy);scores[1].append(loss)\n",
    "#print '% s_elo used in lm fit: ',lm.coef_[0][1]/(lm.coef_[0][0]+lm.coef_[0][1])\n",
    "print 'coefficients: ', lm.coef_[0]\n",
    "print 'accuracy: ', np.mean(scores[0])\n",
    "print 'loss: ', np.mean(scores[1])"
   ]
  },
  {
   "cell_type": "code",
   "execution_count": null,
   "metadata": {
    "collapsed": true
   },
   "outputs": [],
   "source": [
    "# perform same analysis across entire match dataset, over the decades"
   ]
  },
  {
   "cell_type": "code",
   "execution_count": null,
   "metadata": {
    "collapsed": true
   },
   "outputs": [],
   "source": []
  },
  {
   "cell_type": "code",
   "execution_count": null,
   "metadata": {
    "collapsed": true
   },
   "outputs": [],
   "source": []
  },
  {
   "cell_type": "code",
   "execution_count": 161,
   "metadata": {
    "collapsed": true
   },
   "outputs": [],
   "source": [
    "# one-time fix to transfer over the elo_diff's\n",
    "# import pandas as pd\n",
    "# import numpy as np\n",
    "\n",
    "# df_og = pd.read_csv('../my_data/elo_pbp_with_surface_8_22.csv')\n",
    "# del df_og['Unnamed: 0']\n",
    "# df = pd.read_csv('../my_data/feature_df_pbp3_8_23_alphas.csv')\n",
    "# del df['Unnamed: 0']\n",
    "\n",
    "# elo_dict = dict(zip(range(len(df_og)),df_og['elo_diff']))\n",
    "# s_elo_dict = dict(zip(range(len(df_og)),df_og['s_elo_diff']))\n",
    "\n",
    "# df['elo_diff'] = [elo_dict[m_id] for m_id in df['match_id']]\n",
    "# df['s_elo_diff'] = [s_elo_dict[m_id] for m_id in df['match_id']]\n",
    "# df.to_csv('../my_data/feature_df_pbp3_8_23_alphas.csv')"
   ]
  },
  {
   "cell_type": "code",
   "execution_count": null,
   "metadata": {
    "collapsed": true
   },
   "outputs": [],
   "source": [
    "# from sklearn import linear_model\n",
    "# from sklearn.model_selection import KFold\n",
    "# from sklearn.metrics import log_loss,accuracy_score\n",
    "\n",
    "# n_splits = 5\n",
    "# kfold = KFold(n_splits=n_splits,shuffle=True)\n",
    "# scores = np.zeros([3,2,n_splits]);i=0\n",
    "# cols = ['elo_diff','s_elo_diff']\n",
    "# for train_ind,test_ind in kfold.split(df):\n",
    "#     lm = linear_model.LogisticRegression(fit_intercept = True)\n",
    "#     train_df,test_df = df.loc[train_ind],df.loc[test_ind]\n",
    "#     lm.fit(train_df[cols].values.reshape([len(train_df),len(cols)]),train_df['winner'])\n",
    "#     y_preds = lm.predict(test_df[cols].values.reshape([len(test_df),len(cols)]))\n",
    "#     y_preds2 = test_df['match_prob_kls']>.5\n",
    "#     y_preds3 = test_df['match_prob_kls_JS']>.5\n",
    "#     y_probs = lm.predict_proba(test_df[cols].values.reshape([len(test_df),len(cols)]))\n",
    "#     scores[0][0][i]=accuracy_score(test_df['winner'],y_preds)\n",
    "#     scores[0][1][i]=log_loss(test_df['winner'],y_probs,labels=[0,1])\n",
    "#     scores[1][0][i]=accuracy_score(test_df['winner'],y_preds2)\n",
    "#     scores[1][1][i]=log_loss(test_df['winner'],test_df['match_prob_kls'],labels=[0,1])\n",
    "#     scores[2][0][i]=accuracy_score(test_df['winner'],y_preds3)\n",
    "#     scores[2][1][i]=log_loss(test_df['winner'],test_df['match_prob_kls_JS'],labels=[0,1])\n",
    "\n",
    "    \n",
    "#     i+=1\n",
    "# print '% s_elo used in lm fit: ',lm.coef_[0][1]/(lm.coef_[0][0]+lm.coef_[0][1])\n",
    "# print 'accuracy: ', np.mean(scores[0][0])\n",
    "# print 'loss: ', np.mean(scores[0][1])\n",
    "\n",
    "# print 'kls probabilities'\n",
    "# print 'accuracy: ', np.mean(scores[1][0])\n",
    "# print 'loss: ', np.mean(scores[1][1])\n",
    "\n",
    "# print 'kls JS probabilities'\n",
    "# print 'accuracy: ', np.mean(scores[2][0])\n",
    "# print 'loss: ', np.mean(scores[2][1])"
   ]
  },
  {
   "cell_type": "code",
   "execution_count": null,
   "metadata": {
    "collapsed": true
   },
   "outputs": [],
   "source": [
    "# from sklearn import linear_model\n",
    "# from sklearn.model_selection import KFold\n",
    "# from sklearn.metrics import log_loss,accuracy_score\n",
    "\n",
    "# # cols is a list of all column sets to test; compare with kls pre-match forecasts\n",
    "# def validate_results(df,columns,n_splits=5):\n",
    "#     kfold = KFold(n_splits=n_splits,shuffle=True)\n",
    "#     scores = np.zeros([len(columns)+2,2,n_splits]);i=0\n",
    "#     for train_ind,test_ind in kfold.split(df):\n",
    "#         lm = linear_model.LogisticRegression(fit_intercept = True)\n",
    "#         train_df,test_df = df.loc[train_ind],df.loc[test_ind]\n",
    "        \n",
    "#         for k,cols in enumerate(columns):\n",
    "#             lm.fit(train_df[cols].values.reshape([len(train_df),len(cols)]),train_df['winner'])\n",
    "#             y_preds = lm.predict(test_df[cols].values.reshape([len(test_df),len(cols)]))\n",
    "#             y_probs = lm.predict_proba(test_df[cols].values.reshape([len(test_df),len(cols)]))\n",
    "#             scores[k][0][i]=accuracy_score(test_df['winner'],y_preds)\n",
    "#             scores[k][1][i]=log_loss(test_df['winner'],y_probs,labels=[0,1])\n",
    "        \n",
    "#         y_preds2 = test_df['match_prob_kls']>.5\n",
    "#         y_preds3 = test_df['match_prob_kls_JS']>.5\n",
    "#         scores[len(columns)][0][i]=accuracy_score(test_df['winner'],y_preds2)\n",
    "#         scores[len(columns)][1][i]=log_loss(test_df['winner'],test_df['match_prob_kls'],labels=[0,1])\n",
    "#         scores[len(columns)+1][0][i]=accuracy_score(test_df['winner'],y_preds3)\n",
    "#         scores[len(columns)+1][1][i]=log_loss(test_df['winner'],test_df['match_prob_kls_JS'],labels=[0,1])\n",
    "#         i+=1\n",
    "    \n",
    "#     for i,cols in enumerate(columns):\n",
    "#         print 'columns: ',cols\n",
    "#         #print '% s_elo used in lm fit: ',lm.coef_[0][1]/(lm.coef_[0][0]+lm.coef_[0][1])\n",
    "#         print 'accuracy: ', np.mean(scores[i][0])\n",
    "#         print 'loss: ', np.mean(scores[i][1])\n",
    "    \n",
    "#     print 'kls probabilities'\n",
    "#     print 'accuracy: ', np.mean(scores[len(columns)][0])\n",
    "#     print 'loss: ', np.mean(scores[len(columns)][1])\n",
    "\n",
    "#     print 'kls JS probabilities'\n",
    "#     print 'accuracy: ', np.mean(scores[len(columns)+1][0])\n",
    "#     print 'loss: ', np.mean(scores[len(columns)+1][1])"
   ]
  }
 ],
 "metadata": {
  "kernelspec": {
   "display_name": "Python 2",
   "language": "python",
   "name": "python2"
  },
  "language_info": {
   "codemirror_mode": {
    "name": "ipython",
    "version": 2
   },
   "file_extension": ".py",
   "mimetype": "text/x-python",
   "name": "python",
   "nbconvert_exporter": "python",
   "pygments_lexer": "ipython2",
   "version": "2.7.13"
  }
 },
 "nbformat": 4,
 "nbformat_minor": 0
}
