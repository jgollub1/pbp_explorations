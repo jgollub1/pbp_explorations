{
 "cells": [
  {
   "cell_type": "code",
   "execution_count": 1,
   "metadata": {
    "collapsed": true
   },
   "outputs": [],
   "source": [
    "# TO DO: implement beta experiments, on 50-50 probability and Klaassen probabilities\n",
    "# analyze different methods\n",
    "\n",
    "# REWRITE THE PROBABILITY COMPUTATIONS??\n",
    "# test each method on a subset of matches, via tourney_id\n",
    "\n",
    "# prior experiments: test priors with beta experiments"
   ]
  },
  {
   "cell_type": "code",
   "execution_count": 2,
   "metadata": {
    "collapsed": false,
    "scrolled": true
   },
   "outputs": [],
   "source": [
    "import sys\n",
    "sys.path.insert(0,'/Users/jacobgollub/Desktop/college (current)/research/pbp_explorations/scripts/sackmann')\n",
    "import tennisGameProbability,tennisMatchProbability,tennisSetProbability,tennisTiebreakProbability\n",
    "from tennisMatchProbability import matchProb\n",
    "import pandas as pd\n",
    "import numpy as np\n",
    "from sklearn.metrics import log_loss\n",
    "\n",
    "df = pd.read_csv('../my_data/feature_df_pbp3_8_22.csv')\n",
    "del df['Unnamed: 0']\n",
    "\n",
    "# tour-level averages for serve and return points won\n",
    "f_av = 0.646775\n",
    "g_av = 1 - f_av\n",
    "\n",
    "df['tourney_stats'] = [f_av if stat==0 else stat for stat in df['tourney_stats']]\n",
    "df['p0_s_kls'] = df['tourney_stats'] + (df['p0_s_pct']-f_av) - (df['p1_r_pct']-g_av)\n",
    "df['p1_s_kls'] = df['tourney_stats'] + (df['p1_s_pct']-f_av) - (df['p0_r_pct']-g_av)\n",
    "df['p0_s_kls_JS'] = df['tourney_stats'] + (df['p0_s_pct_JS']-f_av) - (df['p1_r_pct_JS']-g_av)\n",
    "df['p1_s_kls_JS'] = df['tourney_stats'] + (df['p1_s_pct_JS']-f_av) - (df['p0_r_pct_JS']-g_av)\n",
    "\n",
    "cols = [u'match_id',u'sets_0',u'sets_1', u'games_0', u'games_1', u'points_0', u'points_1','p0_s_pct','p0_r_pct',\n",
    "        'p1_s_pct','p1_r_pct','p0_s_kls','p1_s_kls','p0_s_kls_JS','p1_s_kls_JS','tourney_stats','best_of',u'winner']\n",
    "df = df[cols]\n",
    "df['winner'] = 1 - df['winner']"
   ]
  },
  {
   "cell_type": "code",
   "execution_count": 35,
   "metadata": {
    "collapsed": false
   },
   "outputs": [
    {
     "data": {
      "text/plain": [
       "(1231122, 16)"
      ]
     },
     "execution_count": 35,
     "metadata": {},
     "output_type": "execute_result"
    }
   ],
   "source": [
    "df.shape"
   ]
  },
  {
   "cell_type": "code",
   "execution_count": 12,
   "metadata": {
    "collapsed": false
   },
   "outputs": [
    {
     "data": {
      "text/plain": [
       "(6439.0, 0.15158511132899999)"
      ]
     },
     "execution_count": 12,
     "metadata": {},
     "output_type": "execute_result"
    }
   ],
   "source": [
    "# when we don't use a prior, or assign weights to evidence, we get serving percentages like this one...\n",
    "# even though Tursunov won the match easily, you want to increase the serving percentage of p0\n",
    "# since Tursunov's 25/32 return percentage was way the hell too high (it's these kinds of things that hurt the\n",
    "# cross entropy score...); match_id: 6439\n",
    "df['match_id'][760117],df['p0_s_kls'][760117]"
   ]
  },
  {
   "cell_type": "code",
   "execution_count": 29,
   "metadata": {
    "collapsed": false
   },
   "outputs": [],
   "source": [
    "# before: 4500 with negative probabilities\n",
    "# df[df['klaassen_prob']<0]"
   ]
  },
  {
   "cell_type": "code",
   "execution_count": 4,
   "metadata": {
    "collapsed": true
   },
   "outputs": [],
   "source": []
  },
  {
   "cell_type": "code",
   "execution_count": 5,
   "metadata": {
    "collapsed": true
   },
   "outputs": [],
   "source": [
    "# TO DO: implement Klaassen's method, based on serve and return stats\n",
    "# then, test a grid search of averaging historical with overall player percentages and see if any split (50-50,70-30,etc)\n",
    "# does best\n",
    "# then, run the beta experiments outlined in pbp paper, also running grid search on alpha parameter\n",
    "\n",
    "# The numbers I used for men are: 63% in Australia, 61% at the French, 66% at Wimbledon, and 64% at the U.S. Open"
   ]
  },
  {
   "cell_type": "code",
   "execution_count": null,
   "metadata": {
    "collapsed": false,
    "scrolled": false
   },
   "outputs": [
    {
     "name": "stdout",
     "output_type": "stream",
     "text": [
      "0\n",
      "300000"
     ]
    }
   ],
   "source": [
    "import time\n",
    "start = time.clock()\n",
    "\n",
    "#df['sackmann_prob'] = np.zeros(len(df))\n",
    "df['klaassen_prob'] = np.zeros(len(df))\n",
    "df['klaassen_prob_JS'] = np.zeros(len(df))\n",
    "for i,row in df.iterrows():\n",
    "#     df['sackmann_prob'][i] = matchProb(f_av,g_av,mv=int(row['sets_0']),mw=int(row['sets_1']),sv=int(row['games_0']), \\\n",
    "#                             sw=int(row['games_1']),gv=int(row['points_0']),gw=int(row['points_1']))\n",
    "    df['klaassen_prob'][i] = matchProb(row['p0_s_kls'],1-row['p1_s_kls'],mv=int(row['sets_0']),mw=int(row['sets_1']), \\\n",
    "                            sv=int(row['games_0']),sw=int(row['games_1']),gv=int(row['points_0']),gw=int(row['points_1']))\n",
    "    df['klaassen_prob_JS'][i] = matchProb(row['p0_s_kls_JS'],1-row['p1_s_kls_JS'],mv=int(row['sets_0']),mw=int(row['sets_1']), \\\n",
    "                            sv=int(row['games_0']),sw=int(row['games_1']),gv=int(row['points_0']),gw=int(row['points_1']))\n",
    "\n",
    "\n",
    "#     print int(row['sets_0']),int(row['sets_1']),int(row['games_0']),int(row['games_1']), \\\n",
    "#                   int(row['points_0']),int(row['points_1'])\n",
    "    if i%300000==0:\n",
    "        print i\n",
    "\n",
    "print time.clock()-start"
   ]
  },
  {
   "cell_type": "code",
   "execution_count": 27,
   "metadata": {
    "collapsed": false
   },
   "outputs": [],
   "source": [
    "#set(df[df['klaassen_prob']!=df['klaassen_prob']]['match_id'])"
   ]
  },
  {
   "cell_type": "code",
   "execution_count": null,
   "metadata": {
    "collapsed": false
   },
   "outputs": [],
   "source": [
    "from sklearn.metrics import log_loss\n",
    "\n",
    "k_df = df[df['klaassen_prob']==df['klaassen_prob']]\n",
    "n = len(k_df)\n",
    "k_score = log_loss(k_df['winner'][:n],k_df['klaassen_prob'][:n],labels=[0,1])\n",
    "print 'klaassen score: ',k_score\n",
    "\n",
    "k_df = df[df['klaassen_prob_JS']==df['klaassen_prob_JS']]\n",
    "n = len(k_df)\n",
    "k_score = log_loss(k_df['winner'][:n],k_df['klaassen_prob_JS'][:n],labels=[0,1])\n",
    "print 'klaassen score JS: ',k_score"
   ]
  },
  {
   "cell_type": "code",
   "execution_count": null,
   "metadata": {
    "collapsed": true
   },
   "outputs": [],
   "source": []
  },
  {
   "cell_type": "code",
   "execution_count": null,
   "metadata": {
    "collapsed": true
   },
   "outputs": [],
   "source": []
  },
  {
   "cell_type": "code",
   "execution_count": 18,
   "metadata": {
    "collapsed": false
   },
   "outputs": [
    {
     "name": "stdout",
     "output_type": "stream",
     "text": [
      "sackmann score:  0.538905529928\n",
      "klaassen score:  0.591980500589\n"
     ]
    }
   ],
   "source": [
    "from sklearn.metrics import log_loss\n",
    "# evaluate log_loss of these probabilities (log_loss(y_true,y_pred))\n",
    "# we get .54 log_loss with no information about the players... (around .48 was best with most recent features)\n",
    "\n",
    "# n=len(df)\n",
    "# score = log_loss(df['winner'][:n],df['sackmann_prob'][:n],labels=[0,1])\n",
    "# print 'sackmann score: ',score\n",
    "\n",
    "k_df = df[df['klaassen_prob']==df['klaassen_prob']]\n",
    "k_score = log_loss(k_df['winner'][:n],k_df['klaassen_prob'][:n],labels=[0,1])\n",
    "print 'klaassen score: ',k_score\n",
    "#df.to_csv('../my_data/feature_df_pbp3_7_30_s_prob.csv')"
   ]
  },
  {
   "cell_type": "code",
   "execution_count": null,
   "metadata": {
    "collapsed": true
   },
   "outputs": [],
   "source": []
  },
  {
   "cell_type": "code",
   "execution_count": 53,
   "metadata": {
    "collapsed": false
   },
   "outputs": [
    {
     "data": {
      "text/plain": [
       "0.24"
      ]
     },
     "execution_count": 53,
     "metadata": {},
     "output_type": "execute_result"
    }
   ],
   "source": [
    ".4*.6"
   ]
  },
  {
   "cell_type": "code",
   "execution_count": 54,
   "metadata": {
    "collapsed": false
   },
   "outputs": [
    {
     "data": {
      "text/plain": [
       "0.24000000000000005"
      ]
     },
     "execution_count": 54,
     "metadata": {},
     "output_type": "execute_result"
    }
   ],
   "source": [
    "arr = [0,0,1,1,1]\n",
    "np.var(arr)"
   ]
  },
  {
   "cell_type": "code",
   "execution_count": null,
   "metadata": {
    "collapsed": true
   },
   "outputs": [],
   "source": [
    "# import pandas as pd\n",
    "# import numpy as np\n",
    "\n",
    "# # storing coefficients for serve and return shrinkage in dicts\n",
    "# df_0 = pd.read_csv('../my_data/elo_pbp_with_surface_8_14.csv')\n",
    "\n",
    "# # calculate B_i coefficients for each player in terms of service points; since serve and return points are approximately\n",
    "# # equal, we use the same coefficient for both\n",
    "# s_history = np.concatenate([df_0['p0_52_swon']/df_0['p0_52_svpt'],df_0['p1_52_swon']/df_0['p1_52_svpt']],axis=0)\n",
    "# p_hat = np.sum([df_0['p0_52_swon'],df_0['p1_52_swon']])/np.sum([df_0['p0_52_svpt'],df_0['p1_52_svpt']])\n",
    "# sigma2_i = np.nan_to_num(p_hat*(1-p_hat)/np.concatenate([df_0['p0_52_svpt'],df_0['p1_52_svpt']]))\n",
    "# tau2_hat = np.nanvar(s_history)\n",
    "# B_i = sigma2_i/(tau2_hat+sigma2_i)\n",
    "# df_0['B_i0_sv'],df_0['B_i1_sv'] = B_i[::2],B_i[1::2]\n",
    "\n",
    "# n = len(s_history)/2\n",
    "# s_history[s_history!=s_history] = p_hat\n",
    "# df_0['p0_s_pct_JS'] = s_history[:n]+df_0['B_i0_sv']*(p_hat-s_history[:n])\n",
    "# df_0['p1_s_pct_JS'] = s_history[n:]+df_0['B_i1_sv']*(p_hat-s_history[n:])\n",
    "\n",
    "# # repeat for return averages (slightly different tau^2 value)\n",
    "# r_history = np.concatenate([df_0['p0_52_rwon']/df_0['p0_52_rpt'],df_0['p1_52_rwon']/df_0['p1_52_rpt']],axis=0)\n",
    "# sigma2_i = np.nan_to_num((1-p_hat)*p_hat/np.concatenate([df_0['p0_52_rpt'],df_0['p1_52_rpt']]))\n",
    "# tau2_hat = np.nanvar(r_history)\n",
    "# B_i = sigma2_i/(tau2_hat+sigma2_i)\n",
    "# df_0['B_i0_r'],df_0['B_i1_r'] = B_i[::2],B_i[1::2]\n",
    "\n",
    "# r_history[r_history!=r_history] = p_hat\n",
    "# df_0['p0_r_pct_JS'] = r_history[:n]+df_0['B_i0_r']*(p_hat-r_history[:n])\n",
    "# df_0['p1_r_pct_JS'] = r_history[n:]+df_0['B_i1_r']*(p_hat-r_history[n:])"
   ]
  }
 ],
 "metadata": {
  "kernelspec": {
   "display_name": "Python 2",
   "language": "python",
   "name": "python2"
  },
  "language_info": {
   "codemirror_mode": {
    "name": "ipython",
    "version": 2
   },
   "file_extension": ".py",
   "mimetype": "text/x-python",
   "name": "python",
   "nbconvert_exporter": "python",
   "pygments_lexer": "ipython2",
   "version": "2.7.13"
  }
 },
 "nbformat": 4,
 "nbformat_minor": 0
}
