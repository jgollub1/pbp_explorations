{
 "cells": [
  {
   "cell_type": "code",
   "execution_count": 53,
   "metadata": {
    "collapsed": true
   },
   "outputs": [],
   "source": [
    "import pandas as pd\n",
    "import numpy as np\n",
    "\n",
    "name = 'elo_pbp_with_surface_9_16'\n",
    "name2 = 'elo_pbp_with_surface_9_17'\n",
    "df = pd.read_csv('../my_data/'+name+'.csv')\n",
    "df2 = pd.read_csv('../my_data/'+name2+'.csv')\n",
    "#df = df[df['pbp']!='None']\n",
    "df = df.reset_index(drop=True)\n",
    "df2 = df2.reset_index(drop=True)"
   ]
  },
  {
   "cell_type": "code",
   "execution_count": 48,
   "metadata": {
    "collapsed": false
   },
   "outputs": [],
   "source": [
    "#df.columns"
   ]
  },
  {
   "cell_type": "code",
   "execution_count": 54,
   "metadata": {
    "collapsed": false
   },
   "outputs": [
    {
     "name": "stdout",
     "output_type": "stream",
     "text": [
      "p0_s_pct 0.0216535433071\n",
      "Int64Index([    0,    48,    74,   111,   147,   159,   215,   223,   297,\n",
      "              337,\n",
      "            ...\n",
      "            10036, 10078, 10096, 10123, 10270, 10454, 10527, 10531, 10596,\n",
      "            10609],\n",
      "           dtype='int64', length=231)\n",
      "p0_r_pct 0.0216535433071\n",
      "Int64Index([    0,    48,    74,   111,   147,   159,   215,   223,   297,\n",
      "              337,\n",
      "            ...\n",
      "            10036, 10078, 10096, 10123, 10270, 10454, 10527, 10531, 10596,\n",
      "            10609],\n",
      "           dtype='int64', length=231)\n",
      "p1_s_pct 0.0176227971504\n",
      "Int64Index([   26,    28,    29,   114,   161,   231,   232,   297,   480,\n",
      "              484,\n",
      "            ...\n",
      "            10030, 10032, 10100, 10117, 10123, 10252, 10304, 10355, 10496,\n",
      "            10502],\n",
      "           dtype='int64', length=188)\n",
      "p1_r_pct 0.0176227971504\n",
      "Int64Index([   26,    28,    29,   114,   161,   231,   232,   297,   480,\n",
      "              484,\n",
      "            ...\n",
      "            10030, 10032, 10100, 10117, 10123, 10252, 10304, 10355, 10496,\n",
      "            10502],\n",
      "           dtype='int64', length=188)\n",
      "p0_s_pct_JS 0.0216535433071\n",
      "Int64Index([    0,    48,    74,   111,   147,   159,   215,   223,   297,\n",
      "              337,\n",
      "            ...\n",
      "            10036, 10078, 10096, 10123, 10270, 10454, 10527, 10531, 10596,\n",
      "            10609],\n",
      "           dtype='int64', length=231)\n",
      "p1_s_pct_JS 0.0176227971504\n",
      "Int64Index([   26,    28,    29,   114,   161,   231,   232,   297,   480,\n",
      "              484,\n",
      "            ...\n",
      "            10030, 10032, 10100, 10117, 10123, 10252, 10304, 10355, 10496,\n",
      "            10502],\n",
      "           dtype='int64', length=188)\n",
      "p0_sf_s_pct 0.0548368953881\n",
      "Int64Index([    0,    34,    48,    55,    74,    94,   111,   132,   147,\n",
      "              159,\n",
      "            ...\n",
      "            10360, 10367, 10454, 10475, 10496, 10501, 10527, 10531, 10596,\n",
      "            10609],\n",
      "           dtype='int64', length=585)\n",
      "p0_sf_r_pct 0.0548368953881\n",
      "Int64Index([    0,    34,    48,    55,    74,    94,   111,   132,   147,\n",
      "              159,\n",
      "            ...\n",
      "            10360, 10367, 10454, 10475, 10496, 10501, 10527, 10531, 10596,\n",
      "            10609],\n",
      "           dtype='int64', length=585)\n",
      "p1_sf_s_pct 0.0555868016498\n",
      "Int64Index([    2,    26,    28,    29,    48,    58,   114,   130,   160,\n",
      "              161,\n",
      "            ...\n",
      "            10252, 10277, 10304, 10330, 10333, 10355, 10496, 10502, 10530,\n",
      "            10575],\n",
      "           dtype='int64', length=593)\n",
      "p1_sf_r_pct 0.0555868016498\n",
      "Int64Index([    2,    26,    28,    29,    48,    58,   114,   130,   160,\n",
      "              161,\n",
      "            ...\n",
      "            10252, 10277, 10304, 10330, 10333, 10355, 10496, 10502, 10530,\n",
      "            10575],\n",
      "           dtype='int64', length=593)\n",
      "p0_sf_s_pct_JS 0.0548368953881\n",
      "Int64Index([    0,    34,    48,    55,    74,    94,   111,   132,   147,\n",
      "              159,\n",
      "            ...\n",
      "            10360, 10367, 10454, 10475, 10496, 10501, 10527, 10531, 10596,\n",
      "            10609],\n",
      "           dtype='int64', length=585)\n",
      "p1_sf_s_pct_JS 0.0555868016498\n",
      "Int64Index([    2,    26,    28,    29,    48,    58,   114,   130,   160,\n",
      "              161,\n",
      "            ...\n",
      "            10252, 10277, 10304, 10330, 10333, 10355, 10496, 10502, 10530,\n",
      "            10575],\n",
      "           dtype='int64', length=593)\n"
     ]
    }
   ],
   "source": [
    "for col in [u'match_month', u'p0_name', u'p1_name', u'p0_elo',\n",
    "       u'p1_elo', u'p0_sf_elo', u'p1_sf_elo', u'p0_elo_538', u'p1_elo_538',\n",
    "       u'p0_sf_elo_538', u'p1_sf_elo_538', u'p0_52_swon', u'p0_52_svpt',\n",
    "       u'p1_52_swon', u'p1_52_svpt', u'p0_52_rwon', u'p0_52_rpt',\n",
    "       u'p1_52_rwon', u'p1_52_rpt', u'elo_diff', u'sf_elo_diff',\n",
    "       u'elo_diff_538', u'sf_elo_diff_538', u'p0_s_pct', u'p0_r_pct',\n",
    "       u'p1_s_pct', u'p1_r_pct', u'p0_s_pct_JS', u'p1_s_pct_JS',\n",
    "       u'p0_r_pct_JS', u'p1_r_pct_JS', u'p0_sf_52_swon', u'p0_sf_52_svpt',\n",
    "       u'p1_sf_52_swon', u'p1_sf_52_svpt', u'p0_sf_52_rwon', u'p0_sf_52_rpt',\n",
    "       u'p1_sf_52_rwon', u'p1_sf_52_rpt', u'p0_sf_s_pct', u'p0_sf_r_pct',\n",
    "       u'p1_sf_s_pct', u'p1_sf_r_pct', u'p0_sf_s_pct_JS', u'p1_sf_s_pct_JS',\n",
    "       u'p0_sf_r_pct_JS', u'p1_sf_r_pct_JS']:\n",
    "    if sum(df[col]!=df2[col])/float(len(df))>0:\n",
    "        print col, sum(df[col]!=df2[col])/float(len(df))\n",
    "        print df[df[col]!=df2[col]].index"
   ]
  },
  {
   "cell_type": "code",
   "execution_count": null,
   "metadata": {
    "collapsed": true
   },
   "outputs": [],
   "source": []
  },
  {
   "cell_type": "code",
   "execution_count": 55,
   "metadata": {
    "collapsed": false,
    "scrolled": true
   },
   "outputs": [
    {
     "data": {
      "text/plain": [
       "0.645888600925"
      ]
     },
     "execution_count": 55,
     "metadata": {},
     "output_type": "execute_result"
    }
   ],
   "source": [
    "df2['p0_s_pct'][147]"
   ]
  },
  {
   "cell_type": "code",
   "execution_count": 56,
   "metadata": {
    "collapsed": false
   },
   "outputs": [
    {
     "data": {
      "text/plain": [
       "0.64589207872599996"
      ]
     },
     "execution_count": 56,
     "metadata": {},
     "output_type": "execute_result"
    }
   ],
   "source": [
    "df['p0_s_pct_JS'][147]"
   ]
  },
  {
   "cell_type": "code",
   "execution_count": null,
   "metadata": {
    "collapsed": true
   },
   "outputs": [],
   "source": []
  }
 ],
 "metadata": {
  "kernelspec": {
   "display_name": "Python 2",
   "language": "python",
   "name": "python2"
  },
  "language_info": {
   "codemirror_mode": {
    "name": "ipython",
    "version": 2
   },
   "file_extension": ".py",
   "mimetype": "text/x-python",
   "name": "python",
   "nbconvert_exporter": "python",
   "pygments_lexer": "ipython2",
   "version": "2.7.13"
  }
 },
 "nbformat": 4,
 "nbformat_minor": 0
}
