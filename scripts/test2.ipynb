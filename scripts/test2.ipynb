{
 "cells": [
  {
   "cell_type": "code",
   "execution_count": 1,
   "metadata": {
    "collapsed": false
   },
   "outputs": [
    {
     "name": "stdout",
     "output_type": "stream",
     "text": [
      "main\n",
      "collision\n",
      "Viktor Troicki Radek Stepanek 2012 2-6 6-4 6-3 5 5\n",
      "collision\n",
      "Fabio Fognini Tommy Haas 2013 6-2 6-4 7 7\n",
      "10670\n"
     ]
    }
   ],
   "source": [
    "SCRIPT_PATH = '/Users/jacobgollub/Desktop/college/research/pbp_explorations/scripts/sackmann'\n",
    "TOUR = 'atp'\n",
    "COUNT = False\n",
    "START_YEAR = 2000\n",
    "ONLY_PBP = 1\n",
    "\n",
    "import sys\n",
    "sys.path.insert(0,SCRIPT_PATH)\n",
    "import tennisGameProbability,tennisMatchProbability,tennisSetProbability,tennisTiebreakProbability\n",
    "from tennisMatchProbability import matchProb\n",
    "from helper_functions import *\n",
    "from data_functions import *\n",
    "import pandas as pd\n",
    "pd.options.mode.chained_assignment = None\n",
    "import numpy as np\n",
    "import re\n",
    "import math\n",
    "import copy\n",
    "\n",
    "print 'main'\n",
    "atp_year_list = []\n",
    "for i in xrange(1968,2018):\n",
    "    atp_year_list.append(pd.read_csv(\"../../tennis_data/\"+TOUR+\"/\"+TOUR+\"_matches_{0}.csv\".format(i)))\n",
    "df = pd.concat(atp_year_list, ignore_index = True)\n",
    "\n",
    "# these may be changes specific to atp dataframe; normalize_name() is specific to atp/wta...\n",
    "df = df.rename(columns={'winner_name':'w_name','loser_name':'l_name','tourney_id':'tny_id',\\\n",
    "                        'tourney_name':'tny_name','tourney_date':'tny_date'})\n",
    "df['w_name'] = [normalize_name(x,tour=TOUR) for x in df['w_name']]\n",
    "df['l_name'] = [normalize_name(x,tour=TOUR) for x in df['l_name']]\n",
    "df['tny_name'] = ['Davis Cup' if 'Davis Cup' in s else s for s in df['tny_name']]\n",
    "df['tny_name'] = [s.replace('Australian Chps.','Australian Open').replace('Australian Open-2',\\\n",
    "            'Australian Open').replace('U.S. National Chps.','US Open') for s in df['tny_name']]\n",
    "\n",
    "ret_strings = ('ABN','DEF','In Progress','RET','W/O',' RET',' W/O','nan','walkover')\n",
    "abd_strings = ('abandoned','ABN','ABD','DEF','def','unfinished','Walkover')\n",
    "atp_all_matches = format_match_df(df,ret_strings=ret_strings,abd_strings=abd_strings)\n",
    "\n",
    "# generate tourney stats from one year behind START_DATE for stats_52\n",
    "# get elo with constant and dynamic K\n",
    "start_ind = atp_all_matches[atp_all_matches['match_year']>=START_YEAR-1].index[0]\n",
    "atp_all_matches = generate_elo(atp_all_matches,0)\n",
    "atp_all_matches = generate_elo(atp_all_matches,1)\n",
    "atp_all_matches = generate_52_stats(atp_all_matches,start_ind)\n",
    "atp_all_matches = generate_52_adj_stats(atp_all_matches,start_ind)\n",
    "atp_all_matches = generate_tny_stats(atp_all_matches,start_ind)\n",
    "#print 'adj stats: ', atp_all_matches[atp_all_matches['match_year']==2014][['w_52_s_adj','w_52_r_adj']]\n",
    "#print 'now: ', atp_all_matches[['match_year','match_month','w_name','l_name','w_52_s_adj','l_52_s_adj','l_52_svpt']].loc[137969]\n",
    "\n",
    "# Combine all the matches that have pbp (point by point) information into one dataframe\n",
    "# and clean up columns in preparation for merging with all_atp_matches\n",
    "pbp_matches_archive = pd.read_csv(\"../../tennis_data/pbp_matches_atp_main_archive.csv\")\n",
    "pbp_matches_archive_old = pd.read_csv(\"../../tennis_data/pbp_matches_atp_main_archive_old.csv\")\n",
    "pbp_matches_current = pd.read_csv(\"../../tennis_data/pbp_matches_atp_main_current.csv\")\n",
    "pbp_matches = pd.concat([pbp_matches_archive_old.loc[:932],pbp_matches_archive,pbp_matches_current])\n",
    "pbp_matches.winner = pbp_matches.winner - 1\n",
    "pbp_matches = pbp_matches.reset_index(); del pbp_matches['index']\n",
    "pbp_matches = format_pbp_df(pbp_matches,tour=TOUR)\n",
    "\n",
    "\n",
    "# dictionary with each key as 'w_name'+'l_name'+'match_year'+'score' to connect pbp \n",
    "# strings to atp_all_matches (I removed parentheses terms from tb scores)\n",
    "duplicates = ['Janko Tipsarevic Kei Nishikori 2011 6-4 6-4','Robin Soderling Michael Berrer 2011 6-3 7-6',\n",
    "        'Juan Martin Kevin Anderson 2011 6-4 6-4','Philipp Kohlschreiber Mikhail Youzhny 2011 6-4 6-2',\n",
    "        'Philipp Kohlschreiber Olivier Rochus 2012 6-1 6-4','Viktor Troicki Radek Stepanek 2012 2-6 6-4 6-3',\n",
    "        'Gilles Simon Grigor Dimitrov 2012 6-3 6-3','Alexandr Dolgopolov Gilles Simon 2012 6-3 6-4',\n",
    "        'Fabio Fognini Tommy Haas 2013 6-2 6-4','Richard Gasquet Florian Mayer 2013 6-3 7-6',\n",
    "        'Novak Djokovic Rafael Nadal 2013 6-3 6-4','Tomas Berdych Gael Monfils 2015 6-1 6-4',\n",
    "        'Novak Djokovic Rafael Nadal 2015 6-3 6-3']\n",
    "collision_d = dict(zip(duplicates,[0]*len(duplicates)))\n",
    "\n",
    "# connects the two dataframes on match keys and reformats columns fro w/l to p0/p1\n",
    "cols = ['_name','_elo','_sf_elo','_elo_538','_sf_elo_538','_52_swon','_52_svpt','_52_rwon',\\\n",
    "    '_52_rpt','_sf_52_swon','_sf_52_svpt','_sf_52_rwon','_sf_52_rpt','_52_s_adj','_52_r_adj']\n",
    "df = connect_df(match_df=atp_all_matches,pbp_df=pbp_matches,col_d=collision_d,player_cols=cols,\\\n",
    "                start_year=START_YEAR)\n",
    "\n",
    "df['elo_diff'] = [df['p0_elo'][i] - df['p1_elo'][i] for i in xrange(len(df))]\n",
    "df['sf_elo_diff'] = [df['p0_sf_elo'][i] - df['p1_sf_elo'][i] for i in xrange(len(df))]\n",
    "df['elo_diff_538'] = [df['p0_elo_538'][i] - df['p1_elo_538'][i] for i in xrange(len(df))]\n",
    "df['sf_elo_diff_538'] = [df['p0_sf_elo_538'][i] - df['p1_sf_elo_538'][i] for i in xrange(len(df))]\n",
    "\n"
   ]
  },
  {
   "cell_type": "code",
   "execution_count": 42,
   "metadata": {
    "collapsed": true
   },
   "outputs": [],
   "source": [
    "from sklearn import linear_model\n",
    "\n",
    "cols = ['elo_diff_538','sf_elo_diff_538']\n",
    "lm = linear_model.LogisticRegression(fit_intercept = True)\n",
    "df_train = df[df['match_year'].isin([2011,2012,2013])]"
   ]
  },
  {
   "cell_type": "code",
   "execution_count": 46,
   "metadata": {
    "collapsed": false
   },
   "outputs": [
    {
     "data": {
      "text/plain": [
       "LogisticRegression(C=1.0, class_weight=None, dual=False, fit_intercept=True,\n",
       "          intercept_scaling=1, max_iter=100, multi_class='ovr', n_jobs=1,\n",
       "          penalty='l2', random_state=None, solver='liblinear', tol=0.0001,\n",
       "          verbose=0, warm_start=False)"
      ]
     },
     "execution_count": 46,
     "metadata": {},
     "output_type": "execute_result"
    }
   ],
   "source": [
    "df_train = df_train[df_train['winner'].isin([0,1])]\n",
    "df_train['winner'] = df_train['winner'].astype(int)\n",
    "lm.fit(df_train[cols].values.reshape([df_train.shape[0],len(cols)]),df_train['winner'].values)\n",
    "#df['logit_elo_538_prob'] = lm.predict_proba(df[cols].values.reshape([df.shape[0],len(cols)]))[:,1]\n",
    "\n"
   ]
  },
  {
   "cell_type": "code",
   "execution_count": null,
   "metadata": {
    "collapsed": true
   },
   "outputs": [],
   "source": [
    "# generate win probabilities from logit of elo/s_elo 538 differences, trained on 2011-2013 data\n",
    "df = generate_logit_probs(df,cols=['elo_diff_538','sf_elo_diff_538'])"
   ]
  },
  {
   "cell_type": "code",
   "execution_count": null,
   "metadata": {
    "collapsed": true
   },
   "outputs": [],
   "source": [
    "\n",
    "\n",
    "#print 'adj stats 2nd time: ', df[df['match_year']==2014][['p0_52_s_adj','p0_52_r_adj']]\n",
    "# dataframe with only matches that have pbp\n",
    "if ONLY_PBP:\n",
    "    df = df[df['pbp']!='None']\n",
    "else:\n",
    "    df = df[df['winner']!='None']\n",
    "df = df.reset_index(drop=True)\n",
    "\n",
    "cols = ['52_s_adj','52_r_adj']\n",
    "test_df = generate_JS_stats(df,cols)\n",
    "\n",
    "# keep relevant columns\n",
    "df = df[['tny_id','tny_name','surface','tny_date','match_year','match_month',\n",
    "         u'p0_name', u'p1_name', u'p0_elo',\n",
    "         u'p1_elo', u'p0_sf_elo', u'p1_sf_elo', u'p0_elo_538', u'p1_elo_538',\n",
    "         u'p0_sf_elo_538', u'p1_sf_elo_538', u'p0_52_swon',u'p0_52_svpt', \n",
    "         u'p1_52_swon', u'p1_52_svpt', u'p0_52_rwon', u'p0_52_rpt',\n",
    "         u'p1_52_rwon', u'p1_52_rpt', \n",
    "         u'elo_diff', u'sf_elo_diff',\n",
    "         u'elo_diff_538', u'sf_elo_diff_538',\n",
    "         u'p0_s_pct', u'p0_r_pct', u'p1_s_pct', u'p1_r_pct', \n",
    "         u'p0_s_pct_JS', u'p1_s_pct_JS', u'p0_r_pct_JS', u'p1_r_pct_JS',\n",
    "         u'p0_sf_52_swon', u'p0_sf_52_svpt',u'p1_sf_52_swon', u'p1_sf_52_svpt', \n",
    "         u'p0_sf_52_rwon', u'p0_sf_52_rpt', u'p1_sf_52_rwon', u'p1_sf_52_rpt',\n",
    "         u'p0_sf_s_pct', u'p0_sf_r_pct', u'p1_sf_s_pct', u'p1_sf_r_pct', \n",
    "         u'p0_sf_s_pct_JS', u'p1_sf_s_pct_JS', u'p0_sf_r_pct_JS', u'p1_sf_r_pct_JS',\n",
    "         u'p0_52_s_adj',u'p0_52_r_adj',u'p1_52_s_adj',u'p1_52_r_adj',\n",
    "         u'p0_52_s_adj_JS',u'p0_52_r_adj_JS',u'p1_52_s_adj_JS',u'p1_52_r_adj_JS',\n",
    "         u'avg_52_s', u'avg_52_r', u'sf_avg_52_s', u'sf_avg_52_r',\n",
    "         'tny_stats','best_of','score','pbp','logit_elo_538_prob','winner']]\n",
    "\n",
    "# binary indicator for whether player 0 won\n",
    "df['winner'] = [1-winner for winner in df['winner']]\n",
    "\n",
    "# generate serving probabilities (w/out JS normalization) for Klaassen-Magnus model\n",
    "df['match_id'] = range(len(df))\n",
    "df['tny_stats'] = [df['avg_52_s'][i] if df['tny_stats'][i]==0 else df['tny_stats'][i] for i in xrange(len(df))]\n",
    "df['p0_s_kls'] = df['tny_stats']+(df['p0_s_pct']-df['avg_52_s']) - (df['p1_r_pct']-df['avg_52_r'])\n",
    "df['p1_s_kls'] = df['tny_stats']+(df['p1_s_pct']-df['avg_52_s']) - (df['p0_r_pct']-df['avg_52_r'])\n",
    "df['p0_s_kls_JS'] = df['tny_stats']+(df['p0_s_pct_JS']-df['avg_52_s']) - (df['p1_r_pct_JS']-df['avg_52_r'])\n",
    "df['p1_s_kls_JS'] = df['tny_stats']+(df['p1_s_pct_JS']-df['avg_52_s']) - (df['p0_r_pct_JS']-df['avg_52_r'])\n",
    "df['p0_sf_s_kls'] = df['tny_stats']+(df['p0_sf_s_pct']-df['sf_avg_52_s']) - (df['p1_sf_r_pct']-df['sf_avg_52_r'])\n",
    "df['p1_sf_s_kls'] = df['tny_stats']+(df['p1_sf_s_pct']-df['sf_avg_52_s']) - (df['p0_sf_r_pct']-df['sf_avg_52_r'])\n",
    "df['p0_sf_s_kls_JS'] = df['tny_stats']+(df['p0_sf_s_pct_JS']-df['sf_avg_52_s']) - (df['p1_sf_r_pct_JS']-df['sf_avg_52_r'])\n",
    "df['p1_sf_s_kls_JS'] = df['tny_stats']+(df['p1_sf_s_pct_JS']-df['sf_avg_52_s']) - (df['p0_sf_r_pct_JS']-df['sf_avg_52_r'])\n",
    "df['p0_s_kls_adj'] = df['tny_stats']+(df['p0_52_s_adj']) - (df['p1_52_r_adj'])\n",
    "df['p1_s_kls_adj'] = df['tny_stats']+(df['p1_52_s_adj']) - (df['p0_52_r_adj'])\n",
    "df['p0_s_kls_adj_JS'] = df['tny_stats']+(df['p0_52_s_adj_JS']) - (df['p1_52_r_adj_JS'])\n",
    "df['p1_s_kls_adj_JS'] = df['tny_stats']+(df['p1_52_s_adj_JS']) - (df['p0_52_r_adj_JS'])\n",
    "\n",
    "\n",
    "\n",
    "# generate match probabilities and z-scores for Klaassen method, with and w/o JS estimators\n",
    "df['match_prob_kls'] = [matchProb(row['p0_s_kls'],1-row['p1_s_kls']) for i,row in df.iterrows()]\n",
    "df['match_prob_kls_JS'] = [matchProb(row['p0_s_kls_JS'],1-row['p1_s_kls_JS']) for i,row in df.iterrows()]\n",
    "df['match_prob_sf_kls'] = [matchProb(row['p0_sf_s_kls'],1-row['p1_sf_s_kls']) for i,row in df.iterrows()]\n",
    "df['match_prob_sf_kls_JS'] = [matchProb(row['p0_sf_s_kls_JS'],1-row['p1_sf_s_kls_JS']) for i,row in df.iterrows()]\n",
    "df['match_prob_adj_kls'] = [matchProb(row['p0_s_kls_adj'],1-row['p1_s_kls_adj']) for i,row in df.iterrows()]\n",
    "df['match_prob_adj_kls_JS'] = [matchProb(row['p0_s_kls_adj_JS'],1-row['p1_s_kls_adj_JS']) for i,row in df.iterrows()]\n",
    "\n",
    "# generate win probabilities from elo differences\n",
    "df['elo_prob'] = [(1+10**(diff/-400.))**-1 for diff in df['elo_diff']]\n",
    "df['elo_prob_538'] = [(1+10**(diff/-400.))**-1 for diff in df['elo_diff_538']]\n",
    "df['sf_elo_prob'] = [(1+10**(diff/-400.))**-1 for diff in df['sf_elo_diff']]\n",
    "df['sf_elo_prob_538'] = [(1+10**(diff/-400.))**-1 for diff in df['sf_elo_diff_538']]\n",
    "\n",
    "# elo-induced serve percentages\n",
    "df = generate_elo_induced_s(df, 'elo',start_ind=0)\n",
    "df = generate_elo_induced_s(df, 'logit_elo_538',start_ind=0)\n",
    "\n",
    "# depending on ONLY_PBP, this will have point-by-point matches, or all\n",
    "# tour-level matches from START_DATE to present\n",
    "name = 'elo_pbp_with_surface_10_15' if ONLY_PBP else 'elo_atp_matches_all_10_15'\n",
    "# 'elo_atp_matches_21st_century_9_17'\n",
    "print name + '.csv saved to my_data'\n",
    "df.to_csv('../../my_data/'+name+'.csv')"
   ]
  }
 ],
 "metadata": {
  "kernelspec": {
   "display_name": "Python 2",
   "language": "python",
   "name": "python2"
  },
  "language_info": {
   "codemirror_mode": {
    "name": "ipython",
    "version": 2
   },
   "file_extension": ".py",
   "mimetype": "text/x-python",
   "name": "python",
   "nbconvert_exporter": "python",
   "pygments_lexer": "ipython2",
   "version": "2.7.9"
  }
 },
 "nbformat": 4,
 "nbformat_minor": 0
}
