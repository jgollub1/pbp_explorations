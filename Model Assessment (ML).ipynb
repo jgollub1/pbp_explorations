{
 "cells": [
  {
   "cell_type": "code",
   "execution_count": 2,
   "metadata": {
    "collapsed": false
   },
   "outputs": [],
   "source": [
    "import pandas as pd\n",
    "\n",
    "match_df = pd.read_csv('../my_data/elo_pbp_with_surface_10_15.csv')\n",
    "train_ids = set(match_df[match_df['match_year']<2014]['match_id'])\n",
    "test_ids = set(match_df[match_df['match_year'].isin([2014])]['match_id'])"
   ]
  },
  {
   "cell_type": "code",
   "execution_count": null,
   "metadata": {
    "collapsed": true
   },
   "outputs": [],
   "source": [
    "# TO DO: 1) combine this with probability models ipynb\n",
    "\n",
    "# 4) try KNN clustering, with distance hierarchy from set,game,point clearly set; this would take\n",
    "# a lot of hyperparameter tuning, otherwise might be a good idea\n",
    "\n",
    "# when testing just score features, it would make sense to use all of the pbp data, from challenger\n",
    "# matches, etc"
   ]
  },
  {
   "cell_type": "code",
   "execution_count": 8,
   "metadata": {
    "collapsed": false
   },
   "outputs": [],
   "source": [
    "## TO DO: try adding interaction terms, for example sets_won/sets_lost and service breaks\n",
    "\n",
    "# set up cross validation loop\n",
    "\n",
    "## set up model assessment loop for just a few models\n",
    "## (to do this, you have to read the docs on NN, etc.)\n",
    "\n",
    "## then, try these out with a neural net etc because there is probably a non-linear relationship\n",
    "## (ie you gain more win-probability from 3 games needed to 1 vs 5 to 3)\n",
    "\n",
    "## From an ML approach, it seems like only Logistic Regression and maybe Neural Net are feasible.\n",
    "## still, the issue lies in these being naive to score (adding a point,game, or set has the same\n",
    "## effect, regardless of where we are in the match)\n",
    "\n",
    "import numpy as np\n",
    "import math\n",
    "import time\n",
    "import pandas as pd\n",
    "from helper_functions import cross_validate\n",
    "from sklearn import linear_model\n",
    "from sklearn import ensemble\n",
    "from sklearn.svm import SVC\n",
    "from sklearn.neural_network import MLPClassifier\n",
    "\n",
    "df_pred = pd.read_csv('../my_data/feature_df_pbp3_9_6_alphas.csv')\n",
    "val_df,test_df = df_pred[df_pred['match_id'].isin(train_ids)],df_pred[df_pred['match_id'].isin(test_ids)]"
   ]
  },
  {
   "cell_type": "code",
   "execution_count": 15,
   "metadata": {
    "collapsed": true
   },
   "outputs": [],
   "source": []
  },
  {
   "cell_type": "code",
   "execution_count": 16,
   "metadata": {
    "collapsed": false
   },
   "outputs": [],
   "source": [
    "#c = int(max(df_pred['match_id'])*.8)"
   ]
  },
  {
   "cell_type": "code",
   "execution_count": 17,
   "metadata": {
    "collapsed": true
   },
   "outputs": [],
   "source": []
  },
  {
   "cell_type": "code",
   "execution_count": 18,
   "metadata": {
    "collapsed": false
   },
   "outputs": [
    {
     "name": "stdout",
     "output_type": "stream",
     "text": [
      "['lead_margin', 'elo_diff', 's_elo_diff']\n",
      "LogisticRegression\n",
      "0.491891056277 0.503387078421\n",
      "0.759882522483 0.753617057595\n",
      "\n",
      "\n",
      "['sets_0', 'sets_1', 'games_0', 'games_1', 'points_0', 'points_1']\n",
      "LogisticRegression\n",
      "0.529695188621 0.539498184303\n",
      "0.724838407608 0.715184777002\n",
      "\n",
      "\n",
      "['lead_margin', 'elo_diff', 's_elo_diff', 'sets_0', 'sets_1', 'games_0', 'games_1', 'points_0', 'points_1']\n",
      "LogisticRegression\n",
      "0.476664055944 0.488136006185\n",
      "0.767241588987 0.762300222274\n",
      "\n",
      "\n",
      "['lead_margin', 'elo_diff', 's_elo_diff', 'sets_0', 'sets_1', 'games_0', 'games_1', 'points_0', 'points_1', u'up_break_point', u'down_break_point', u'break_adv', u'sv_points_pct_0', u'sv_points_pct_1']\n",
      "LogisticRegression\n",
      "0.475064879129 0.486292687994\n",
      "0.768203846598 0.763561878681\n",
      "\n",
      "\n"
     ]
    }
   ],
   "source": [
    "from sklearn.metrics import log_loss, accuracy_score\n",
    "\n",
    "scores = ['sets_0','sets_1','games_0','games_1','points_0','points_1']\n",
    "break_feats = [u'up_break_point', u'down_break_point', u'break_adv']\n",
    "point_rates = [u'sv_points_pct_0', u'sv_points_pct_1']\n",
    "cols = ['lead_margin','elo_diff','s_elo_diff']+scores+break_feats+point_rates\n",
    "\n",
    "# for MLP, I would consider grid search over alpha, batch_size, and hidden_layer_sizes...\n",
    "models = [linear_model.LogisticRegression(fit_intercept = True)]\n",
    "model_hparams = {'LogisticRegression':{'C':[100]}}\n",
    "baseline = ['lead_margin','elo_diff','s_elo_diff']\n",
    "column_lists = [baseline,scores,baseline+scores,cols]\n",
    "\n",
    "for columns in column_lists:\n",
    "    print columns\n",
    "    Xtrain, ytrain = val_df[columns],val_df['winner']\n",
    "    Xtest, ytest = test_df[columns],test_df['winner']\n",
    "    for clf in models:\n",
    "        model_name = clf.__str__().split('(')[0]\n",
    "        print model_name\n",
    "        setattr(clf,'C',100)\n",
    "#         best_hyper_p = cross_validate(val_df,clf,columns,'winner',model_hparams[model_name],n_splits=5)\n",
    "#         for key in best_hyper_p.keys():\n",
    "#             setattr(clf,key,best_hyper_p[key])\n",
    "        clf.fit(Xtrain,ytrain)\n",
    "\n",
    "        probs_train,probs_test = clf.predict_proba(Xtrain),clf.predict_proba(Xtest)\n",
    "        train_loss, test_loss = log_loss(ytrain,probs_train,labels=[0,1]),log_loss(ytest,probs_test,labels=[0,1])\n",
    "        train_accuracy = clf.score(Xtrain, ytrain)\n",
    "        test_accuracy = clf.score(Xtest, ytest)  \n",
    "        print train_loss, test_loss\n",
    "        print train_accuracy, test_accuracy\n",
    "    print '\\n'"
   ]
  },
  {
   "cell_type": "code",
   "execution_count": 56,
   "metadata": {
    "collapsed": false
   },
   "outputs": [
    {
     "data": {
      "image/png": "[encoded data removed]",
      "text/plain": [
       "<matplotlib.figure.Figure at 0x11c1ef790>"
      ]
     },
     "metadata": {},
     "output_type": "display_data"
    }
   ],
   "source": [
    "# graphically, try to compare different probabilities of different models\n",
    "import matplotlib.pyplot as plt\n",
    "%matplotlib inline\n",
    "\n",
    "probs = np.concatenate((probs_train[:,1],probs_test[:,1]))\n",
    "df_pred['prob4'] = probs\n",
    "\n",
    "match1 = df_pred[df_pred['match_id']==1]\n",
    "m1_probs = match1['prob4']\n",
    "set_lengths = [len(a) for a in list(match1['score'])[-1].replace(';','').replace('/','').split('.')]\n",
    "fig = plt.figure(figsize=(8,4))\n",
    "ax = fig.add_subplot(1,1,1)\n",
    "ax.plot(np.arange(len(m1_probs)),m1_probs,'b-',linewidth=2.4)\n",
    "fig.suptitle('Richard Gasquet d. Julian Reister 6-7, 6-3, 6-3')\n",
    "ax.set_ylabel('Reister win probability')\n",
    "ax.set_xlabel('# points played')\n",
    "ax.axvline(set_lengths[0]); ax.axvline(sum(set_lengths[:2]))\n",
    "plt.savefig('gasquet_reister_9_6_all_features')\n",
    "fig.show()"
   ]
  },
  {
   "cell_type": "code",
   "execution_count": 57,
   "metadata": {
    "collapsed": false
   },
   "outputs": [
    {
     "data": {
      "image/png": "[encoded data removed]",
      "text/plain": [
       "<matplotlib.figure.Figure at 0x12fc949d0>"
      ]
     },
     "metadata": {},
     "output_type": "display_data"
    }
   ],
   "source": [
    "probs = np.concatenate((probs_train[:,1],probs_test[:,1]))\n",
    "df_pred['prob4'] = probs\n",
    "\n",
    "match1 = df_pred[df_pred['match_id']==6310]\n",
    "m1_probs = match1['prob4']\n",
    "set_lengths = [len(a) for a in list(match1['score'])[-1].replace(';','').replace('/','').split('.')]\n",
    "fig = plt.figure(figsize=(8,4))\n",
    "ax = fig.add_subplot(1,1,1)\n",
    "ax.plot(np.arange(len(m1_probs)),m1_probs,'b-',linewidth=2.4)\n",
    "fig.suptitle('Teymuraz Gabashvili d. Giles Simon 4-6, 6-4, 6-4')\n",
    "ax.set_ylabel('Simon win probability')\n",
    "ax.set_xlabel('# points played')\n",
    "ax.axvline(set_lengths[0]); ax.axvline(sum(set_lengths[:2]))\n",
    "plt.savefig('simon_gabashvili_9_6_all_features')\n",
    "fig.show()"
   ]
  },
  {
   "cell_type": "code",
   "execution_count": null,
   "metadata": {
    "collapsed": true
   },
   "outputs": [],
   "source": []
  },
  {
   "cell_type": "code",
   "execution_count": null,
   "metadata": {
    "collapsed": true
   },
   "outputs": [],
   "source": [
    "# current feedback is that the drop in probability is probably a little too great from \n",
    "# end of first set to beginning of second\n",
    "# this is something that should eventually be fixed with markov/hierarchical models"
   ]
  },
  {
   "cell_type": "code",
   "execution_count": null,
   "metadata": {
    "collapsed": true
   },
   "outputs": [],
   "source": [
    "cols1 = ['elo_diff']\n",
    "cols2 = ['elo_diff','set_diff']\n",
    "cols3 = ['elo_diff','set_diff','game_diff']\n",
    "cols = ['elo_diff','set_diff','game_diff','point_diff']\n",
    "\n",
    "# either change do-classify to work for all classifiers or use this code\n",
    "# repeat this for random forest, neural net, adaboost, etc\n",
    "print 'features: ', cols\n",
    "clf = ensemble.RandomForestClassifier(n_estimators=10,max_features=None,oob_score=True)\n",
    "clf=clf.fit(Xtrain, ytrain)\n",
    "probs_train,probs_test = clf.predict_proba(Xtrain),clf.predict_proba(Xtest)\n",
    "train_loss, test_loss = log_loss(ytrain,probs_train,labels=[0,1]),log_loss(ytest,probs_test,labels=[0,1])\n",
    "train_accuracy = clf.oob_score_\n",
    "#test_accuracy = clf.oob_score(Xtest, ytest)\n",
    "print \"############# based on standard predict ################\"\n",
    "print \"Accuracy on training data: %0.2f\" % (train_accuracy)\n",
    "print \"Log Loss on training data: %0.2f\" % (train_loss)\n",
    "#print \"Accuracy on test data:     %0.2f\" % (test_accuracy)\n",
    "print \"Log Loss on test data:     %0.2f\" % (test_loss)"
   ]
  },
  {
   "cell_type": "code",
   "execution_count": null,
   "metadata": {
    "collapsed": true
   },
   "outputs": [],
   "source": [
    "# next, 1) compare avg log_loss for prediction with sets, games, and points as features\n",
    "# 2) then try keeping track of service breaks as a feature\n",
    "# 3) the next step: does order matter?\n",
    "# see your notes for next steps\n",
    "\n",
    "probs = clflogELO.predict_proba(Xtest)\n",
    "log_loss(ytest,probs,labels=[0,1])"
   ]
  },
  {
   "cell_type": "code",
   "execution_count": null,
   "metadata": {
    "collapsed": true
   },
   "outputs": [],
   "source": []
  },
  {
   "cell_type": "code",
   "execution_count": null,
   "metadata": {
    "collapsed": true
   },
   "outputs": [],
   "source": []
  },
  {
   "cell_type": "code",
   "execution_count": 7,
   "metadata": {
    "collapsed": true
   },
   "outputs": [],
   "source": [
    "# features for number of sets away from the match\n",
    "# number of games away from the set\n",
    "# number of points away from set\n",
    "# then observe the gasquet match graph and see if this fixes anything\n",
    "# df_pred['p0_sets_away'] = [2-int(a[1]) for a in df_pred['set_score']]\n",
    "# df_pred['p1_sets_away'] = [2-int(a[4]) for a in df_pred['set_score']]\n",
    "# df_pred['p0_games_away'] = [6-int(a[1]) if int(a[4])<5 else 7-int(a[1]) for a in df_pred['game_score']]\n",
    "# df_pred['p1_games_away'] = [6-int(a[4]) if int(a[1])<5 else 7-int(a[4]) for a in df_pred['game_score']]\n",
    "\n",
    "# points away...\n",
    "\n",
    "#####################\n",
    "\n",
    "# form train and test as 80-20 split; keeps matches in their entirety separate from one another\n",
    "# takes about 40 seconds\n",
    "\n",
    "# train_ids = np.random.choice(ids,size=int(.8*len(ids)),replace=False)\n",
    "# train_dict = dict(zip(train_ids,[1]*len(train_ids)))\n",
    "# df_pred['train'] = [1 if df_pred['match_id'][i] in train_dict else 0 for i in xrange(len(df_pred))]\n",
    "# mask = df_pred['train']\n",
    "# mask = mask==1"
   ]
  },
  {
   "cell_type": "code",
   "execution_count": null,
   "metadata": {
    "collapsed": true
   },
   "outputs": [],
   "source": [
    "# from sklearn.model_selection import StratifiedKFold\n",
    "# # feed in validation set, return model with most favorable hyper-parameters\n",
    "# h_param = {'C':[.0001,.001,.01,.1,1,10,100,1000]}\n",
    "# def cross_validate(X,Y,clf,hyper_parameters):\n",
    "#     print 'fitting model...'\n",
    "#     skf = StratifiedKFold(n_splits=5)\n",
    "#     for train_index,test_index in skf.split(X,Y):\n",
    "#         X_train,X_test = X[train_index],X[test_index]\n",
    "#         Y_train,Y_test = Y[train_index],Y[test_index]\n",
    "\n",
    "# to do: set up another notebook with solely cross-validation framework and model testing...\n",
    "# test hyperparameters for these sklearn models\n",
    "\n",
    "#set_features = ['0','1','01','10']\n",
    "cols = []\n",
    "scores = ['sets_0','sets_1','games_0','games_1','points_0','points_1']\n",
    "break_feats = [u'up_break_point', u'down_break_point', u'break_adv']\n",
    "point_rates = [u'sv_points_pct_0', u'sv_points_pct_1',u'tp_0',u'tp_1']\n",
    "\n",
    "#cols.append(['in_lead'])\n",
    "#cols.append(['in_lead','elo_diff'])\n",
    "#cols.append(['elo_diff']+scores+point_rates)\n",
    "cols.append(['elo_diff','sets_0','sets_1','points_0','points_1','break_adv']+point_rates)\n",
    "cols.append(['in_lead','elo_diff']+scores+break_feats+point_rates)\n",
    "\n",
    "#models.append(ensemble.RandomForestClassifier(n_estimators=200,max_features=None,oob_score=True))\n",
    "\n",
    "# models = [linear_model.LogisticRegression(fit_intercept = True)]\n",
    "\n",
    "# for col in cols:\n",
    "#     print 'cols: ',col\n",
    "#     for model in models:\n",
    "#         Xtrain = df_pred[mask][col]; Xtest = df_pred[~mask][col]\n",
    "#         clf = model\n",
    "#         clf.fit(Xtrain,ytrain)\n",
    "        \n",
    "#         # cross-validate the model, fitting hyper-params on training set\n",
    "#         #clf = cross_validate(Xtrain,ytrain,model)\n",
    "\n",
    "#         probs_train,probs_test = clf.predict_proba(Xtrain),clf.predict_proba(Xtest)\n",
    "#         train_loss, test_loss = log_loss(ytrain,probs_train,labels=[0,1]),log_loss(ytest,probs_test,labels=[0,1])\n",
    "#         train_accuracy = clf.score(Xtrain, ytrain)\n",
    "#         test_accuracy = clf.score(Xtest, ytest)  \n",
    "#         print 'classifier: ', str(clf).split(\"(\")[0]\n",
    "#         print train_loss, test_loss\n",
    "#         print train_accuracy, test_accuracy\n",
    "#     print '\\n'"
   ]
  },
  {
   "cell_type": "code",
   "execution_count": null,
   "metadata": {
    "collapsed": true
   },
   "outputs": [],
   "source": [
    "# match_df.loc[7756][['sum','elo_prob']]\n",
    "# match_df.loc[7253][['sum','elo_prob']]\n",
    "# match_df['sum'] = match_df['p0_s_kls_JS'] + match_df['p1_s_kls_JS']\n",
    "# sub1 = match_df[match_df['sum']>1.50]\n",
    "# sub1 = sub1[(sub1['elo_prob']>.47) & (sub1['elo_prob']<.48)]\n",
    "# sub1[['sum','elo_prob','score','p0_name','p1_name','winner']]"
   ]
  }
 ],
 "metadata": {
  "kernelspec": {
   "display_name": "Python 2",
   "language": "python",
   "name": "python2"
  },
  "language_info": {
   "codemirror_mode": {
    "name": "ipython",
    "version": 2
   },
   "file_extension": ".py",
   "mimetype": "text/x-python",
   "name": "python",
   "nbconvert_exporter": "python",
   "pygments_lexer": "ipython2",
   "version": "2.7.9"
  }
 },
 "nbformat": 4,
 "nbformat_minor": 0
}
