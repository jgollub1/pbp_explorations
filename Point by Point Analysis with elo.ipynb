{
 "cells": [
  {
   "cell_type": "markdown",
   "metadata": {},
   "source": [
    "#new features: # total points won differential, \n",
    "last 10,20,30 points won differential\n",
    "percent points won on serve, return so far\n",
    "make number of sets completed as feature\n",
    "export to csv\n",
    "\n",
    "set up random forest testing...\n",
    "figure out why adaboost is so high...\n",
    "\n",
    "there are occasional errors in this dataset, like the last one\n",
    "we'll assume that at least the last points of each game are correct, or nearly always correct\n",
    "\n",
    "NOTE: I disabled sql database inserts in history.py, so it's not storing into history"
   ]
  },
  {
   "cell_type": "code",
   "execution_count": 1,
   "metadata": {
    "collapsed": false,
    "scrolled": true
   },
   "outputs": [
    {
     "data": {
      "text/html": [
       "<div>\n",
       "<table border=\"1\" class=\"dataframe\">\n",
       "  <thead>\n",
       "    <tr style=\"text-align: right;\">\n",
       "      <th></th>\n",
       "      <th>tourney_id</th>\n",
       "      <th>tny_name</th>\n",
       "      <th>tourney_date</th>\n",
       "      <th>p0_name</th>\n",
       "      <th>p1_name</th>\n",
       "      <th>p0_elo</th>\n",
       "      <th>p1_elo</th>\n",
       "      <th>elo_diff</th>\n",
       "      <th>p0_s_elo</th>\n",
       "      <th>p1_s_elo</th>\n",
       "      <th>s_elo_diff</th>\n",
       "      <th>best_of</th>\n",
       "      <th>score</th>\n",
       "      <th>pbp</th>\n",
       "      <th>winner</th>\n",
       "      <th>match_id</th>\n",
       "    </tr>\n",
       "  </thead>\n",
       "  <tbody>\n",
       "    <tr>\n",
       "      <th>0</th>\n",
       "      <td>2010-375</td>\n",
       "      <td>Montpellier</td>\n",
       "      <td>2010-10-25</td>\n",
       "      <td>Romain Jouan</td>\n",
       "      <td>Taylor Dent</td>\n",
       "      <td>1519.122073</td>\n",
       "      <td>1720.716631</td>\n",
       "      <td>-201.594558</td>\n",
       "      <td>1517.554400</td>\n",
       "      <td>1669.629990</td>\n",
       "      <td>-152.075590</td>\n",
       "      <td>3</td>\n",
       "      <td>6-7 6-3 6-4</td>\n",
       "      <td>SSSS;SSSS;SSSS;SSSS;SSSS;SRRSSS;RRSSRSSS;SSSS;...</td>\n",
       "      <td>1</td>\n",
       "      <td>0</td>\n",
       "    </tr>\n",
       "    <tr>\n",
       "      <th>1</th>\n",
       "      <td>2010-375</td>\n",
       "      <td>Montpellier</td>\n",
       "      <td>2010-10-25</td>\n",
       "      <td>Julian Reister</td>\n",
       "      <td>Richard Gasquet</td>\n",
       "      <td>1574.339894</td>\n",
       "      <td>1948.764926</td>\n",
       "      <td>-374.425032</td>\n",
       "      <td>1472.468848</td>\n",
       "      <td>1839.087936</td>\n",
       "      <td>-366.619088</td>\n",
       "      <td>3</td>\n",
       "      <td>6-7 6-3 6-3</td>\n",
       "      <td>SSSS;SSSS;SSSS;SSSS;SSSS;SSSS;SSSS;SSSS;SSRRSR...</td>\n",
       "      <td>1</td>\n",
       "      <td>1</td>\n",
       "    </tr>\n",
       "  </tbody>\n",
       "</table>\n",
       "</div>"
      ],
      "text/plain": [
       "  tourney_id     tny_name tourney_date         p0_name          p1_name  \\\n",
       "0   2010-375  Montpellier   2010-10-25    Romain Jouan      Taylor Dent   \n",
       "1   2010-375  Montpellier   2010-10-25  Julian Reister  Richard Gasquet   \n",
       "\n",
       "        p0_elo       p1_elo    elo_diff     p0_s_elo     p1_s_elo  s_elo_diff  \\\n",
       "0  1519.122073  1720.716631 -201.594558  1517.554400  1669.629990 -152.075590   \n",
       "1  1574.339894  1948.764926 -374.425032  1472.468848  1839.087936 -366.619088   \n",
       "\n",
       "   best_of        score                                                pbp  \\\n",
       "0        3  6-7 6-3 6-4  SSSS;SSSS;SSSS;SSSS;SSSS;SRRSSS;RRSSRSSS;SSSS;...   \n",
       "1        3  6-7 6-3 6-3  SSSS;SSSS;SSSS;SSSS;SSSS;SSSS;SSSS;SSSS;SSRRSR...   \n",
       "\n",
       "   winner  match_id  \n",
       "0       1         0  \n",
       "1       1         1  "
      ]
     },
     "execution_count": 1,
     "metadata": {},
     "output_type": "execute_result"
    }
   ],
   "source": [
    "# TO DO: test all dataframes with logistic regression, random forest, neural net, everything else\n",
    "# in the sklearn toolkit; redo test,train,split by match\n",
    "from ast import literal_eval\n",
    "from collections import Counter\n",
    "import pandas as pd\n",
    "import numpy as np\n",
    "import math\n",
    "from helper_functions import *\n",
    "import time\n",
    "\n",
    "df = pd.read_csv('../my_data/elo_pbp_with_surface.csv')\n",
    "del df['Unnamed: 0']\n",
    "\n",
    "# append . to end of pbp string to signify end of match if not marked '0' means player0 won;\n",
    "# '1' means player1 won (originally player1, player2); small fix for dead rubbers\n",
    "df['pbp'] = [s + '.' if s[-1]!= '.' else s for s in df['pbp']]\n",
    "df.rename(columns={'tourney_name':'tny_name'},inplace=True)\n",
    "df['tny_name'] = [df['tny_name'][i]+' (3)' if df['tny_name'][i]=='Davis Cup' and \\\n",
    "                  df['best_of'][i]==3 else df['tny_name'][i] for i in xrange(len(df))]\n",
    "df['match_id'] = range(len(df))\n",
    "df.head(2)"
   ]
  },
  {
   "cell_type": "code",
   "execution_count": 2,
   "metadata": {
    "collapsed": false
   },
   "outputs": [],
   "source": [
    "# split this df into best-of-three and best-of-five matches\n",
    "gs_tourneys = ['Australian Open', 'Davis Cup', 'Roland Garros', 'US Open', 'Wimbledon']\n",
    "df_pbp3 = df[~df['tny_name'].isin(gs_tourneys)]\n",
    "df_pbp5 = df[df['tny_name'].isin(gs_tourneys)]\n",
    "df_pbp3=df_pbp3.reset_index();df_pbp5=df_pbp5.reset_index()\n",
    "del df_pbp3['index']; del df_pbp5['index']\n",
    "\n",
    "final_set_d = Counter()\n",
    "for gs in gs_tourneys: final_set_d[gs]=1 if gs!='US Open' else 0"
   ]
  },
  {
   "cell_type": "code",
   "execution_count": 3,
   "metadata": {
    "collapsed": false
   },
   "outputs": [
    {
     "name": "stdout",
     "output_type": "stream",
     "text": [
      "player who serves first wins in best-of-three: 52.7%\n",
      "player who serves first wins in best-of-five: 54.5%\n"
     ]
    }
   ],
   "source": [
    "# note also: the player with higher elo serves first 54% of the time\n",
    "# interesting that it's this high for the first server in best-of-five...\n",
    "print 'player who serves first wins in best-of-three: ' + str(100*round(len(df_pbp3[df_pbp3['winner']==0])/float(len(df_pbp3)),3)) + '%'\n",
    "print 'player who serves first wins in best-of-five: ' + str(100*round(len(df_pbp5[df_pbp5['winner']==0])/float(len(df_pbp5)),3)) + '%'"
   ]
  },
  {
   "cell_type": "code",
   "execution_count": 4,
   "metadata": {
    "collapsed": false
   },
   "outputs": [
    {
     "name": "stdout",
     "output_type": "stream",
     "text": [
      "time:  9.363901\n"
     ]
    }
   ],
   "source": [
    "set_order_d = dict(zip(range(len(df)),[get_set_order(df['pbp'][i]) for i in xrange(len(df))]))\n",
    "\n",
    "start = time.clock()\n",
    "cols = ['match_id','elo_diff','s_elo_diff','winner']\n",
    "df_pred = generate_df_2(df_pbp3,cols,0)\n",
    "print 'time: ', time.clock()-start"
   ]
  },
  {
   "cell_type": "code",
   "execution_count": 5,
   "metadata": {
    "collapsed": true
   },
   "outputs": [],
   "source": [
    "def break_point(s):\n",
    "    s=s.replace('A','S');s=s.replace('D','R')\n",
    "    all_sets = s.split('.')\n",
    "    for k in range(len(all_sets)):\n",
    "        # set server to 0 or 1 at beginning of set, keeping track of all transitions\n",
    "        server = 0 if k==0 else next_server \n",
    "        games = all_sets[k].split(';')\n",
    "        length = len(games)\n",
    "        next_server = (server+1)%2 if length>12 else (server + length)%2   \n",
    "        if k==len(all_sets)-1:\n",
    "            last_game = games[-1]\n",
    "            final_server = (server+len(games[:-1]))%2\n",
    "            pt_s,pt_r = last_game.count('S'),last_game.count('R')\n",
    "            b_point = pt_r+1>=4 and pt_r+1>=pt_s\n",
    "            #print b_point\n",
    "            #print pt_s,pt_r\n",
    "            if b_point and final_server:\n",
    "                return (1,0)\n",
    "            elif b_point and not final_server:\n",
    "                return (0,1)\n",
    "            else:\n",
    "                return (0,0)"
   ]
  },
  {
   "cell_type": "code",
   "execution_count": 6,
   "metadata": {
    "collapsed": false
   },
   "outputs": [],
   "source": [
    "breaks = [0]*len(df_pred)\n",
    "for i in xrange(len(df_pred)):\n",
    "    breaks[i] = break_point(df_pred['score'][i])\n",
    "df_pred['up_break_point'] = [a[0] for a in breaks]\n",
    "df_pred['down_break_point'] = [a[1] for a in breaks]\n",
    "df_pred['break_adv'] = [service_breaks(df_pred['score'][i]) for i in xrange(len(df_pred))]"
   ]
  },
  {
   "cell_type": "code",
   "execution_count": 7,
   "metadata": {
    "collapsed": true
   },
   "outputs": [],
   "source": [
    "# exporting to csv rescues the correct data type for each column (which somehow all got\n",
    "# converted to string in my enumerate() function)\n",
    "\n",
    "# YASSSS!!!\n",
    "#df_pred.to_csv('../my_data/feature_df_pbp3_7_30.csv')"
   ]
  },
  {
   "cell_type": "code",
   "execution_count": 8,
   "metadata": {
    "collapsed": false
   },
   "outputs": [
    {
     "name": "stdout",
     "output_type": "stream",
     "text": [
      "0.0987112584082\n",
      "0.101228350854\n"
     ]
    }
   ],
   "source": [
    "# so...20% of all points in tennis are break points? wouldn't seem like that from the first \n",
    "# match (there are hardly any service breaks). Worth a mention/second look...\n",
    "print len(df_pred[df_pred['up_break_point']==1])/float(len(df_pred))\n",
    "print len(df_pred[df_pred['down_break_point']==1])/float(len(df_pred))"
   ]
  },
  {
   "cell_type": "code",
   "execution_count": null,
   "metadata": {
    "collapsed": true
   },
   "outputs": [],
   "source": []
  },
  {
   "cell_type": "code",
   "execution_count": null,
   "metadata": {
    "collapsed": true
   },
   "outputs": [],
   "source": []
  },
  {
   "cell_type": "code",
   "execution_count": null,
   "metadata": {
    "collapsed": true
   },
   "outputs": [],
   "source": []
  },
  {
   "cell_type": "code",
   "execution_count": 136,
   "metadata": {
    "collapsed": false
   },
   "outputs": [
    {
     "ename": "TypeError",
     "evalue": "cannot convert the series to <type 'int'>",
     "output_type": "error",
     "traceback": [
      "\u001b[0;31m---------------------------------------------------------------------------\u001b[0m",
      "\u001b[0;31mTypeError\u001b[0m                                 Traceback (most recent call last)",
      "\u001b[0;32m<ipython-input-136-931acf5462b5>\u001b[0m in \u001b[0;36m<module>\u001b[0;34m()\u001b[0m\n\u001b[0;32m----> 1\u001b[0;31m \u001b[0mdf_pred\u001b[0m\u001b[0;34m[\u001b[0m\u001b[0;34m'0'\u001b[0m\u001b[0;34m]\u001b[0m \u001b[0;34m=\u001b[0m \u001b[0;34m[\u001b[0m\u001b[0mint\u001b[0m\u001b[0;34m(\u001b[0m\u001b[0mdf_pred\u001b[0m\u001b[0;34m[\u001b[0m\u001b[0;34m'set_diff'\u001b[0m\u001b[0;34m]\u001b[0m\u001b[0;34m[\u001b[0m\u001b[0mi\u001b[0m\u001b[0;34m]\u001b[0m\u001b[0;34m==\u001b[0m\u001b[0;36m1\u001b[0m\u001b[0;34m)\u001b[0m\u001b[0;34m]\u001b[0m\u001b[0;34m\u001b[0m\u001b[0m\n\u001b[0m\u001b[1;32m      2\u001b[0m \u001b[0mdf_pred\u001b[0m\u001b[0;34m[\u001b[0m\u001b[0;34m'1'\u001b[0m\u001b[0;34m]\u001b[0m \u001b[0;34m=\u001b[0m \u001b[0;34m[\u001b[0m\u001b[0mint\u001b[0m\u001b[0;34m(\u001b[0m\u001b[0mdf_pred\u001b[0m\u001b[0;34m[\u001b[0m\u001b[0;34m'set_diff'\u001b[0m\u001b[0;34m]\u001b[0m\u001b[0;34m[\u001b[0m\u001b[0mi\u001b[0m\u001b[0;34m]\u001b[0m\u001b[0;34m==\u001b[0m\u001b[0;34m-\u001b[0m\u001b[0;36m1\u001b[0m\u001b[0;34m)\u001b[0m\u001b[0;34m]\u001b[0m\u001b[0;34m\u001b[0m\u001b[0m\n\u001b[1;32m      3\u001b[0m \u001b[0mdf_pred\u001b[0m\u001b[0;34m[\u001b[0m\u001b[0;34m'01'\u001b[0m\u001b[0;34m]\u001b[0m \u001b[0;34m=\u001b[0m \u001b[0;34m[\u001b[0m\u001b[0mint\u001b[0m\u001b[0;34m(\u001b[0m\u001b[0mdf_pred\u001b[0m\u001b[0;34m[\u001b[0m\u001b[0;34m'set_score'\u001b[0m\u001b[0;34m]\u001b[0m\u001b[0;34m[\u001b[0m\u001b[0mi\u001b[0m\u001b[0;34m]\u001b[0m\u001b[0;34m==\u001b[0m\u001b[0;34m[\u001b[0m\u001b[0;36m0\u001b[0m\u001b[0;34m,\u001b[0m\u001b[0;36m1\u001b[0m\u001b[0;34m]\u001b[0m\u001b[0;34m)\u001b[0m\u001b[0;34m]\u001b[0m\u001b[0;34m\u001b[0m\u001b[0m\n\u001b[1;32m      4\u001b[0m \u001b[0mdf_pred\u001b[0m\u001b[0;34m[\u001b[0m\u001b[0;34m'10'\u001b[0m\u001b[0;34m]\u001b[0m \u001b[0;34m=\u001b[0m \u001b[0;34m[\u001b[0m\u001b[0mint\u001b[0m\u001b[0;34m(\u001b[0m\u001b[0mdf_pred\u001b[0m\u001b[0;34m[\u001b[0m\u001b[0;34m'set_score'\u001b[0m\u001b[0;34m]\u001b[0m\u001b[0;34m[\u001b[0m\u001b[0mi\u001b[0m\u001b[0;34m]\u001b[0m\u001b[0;34m==\u001b[0m\u001b[0;34m[\u001b[0m\u001b[0;36m0\u001b[0m\u001b[0;34m,\u001b[0m\u001b[0;36m1\u001b[0m\u001b[0;34m]\u001b[0m\u001b[0;34m)\u001b[0m\u001b[0;34m]\u001b[0m\u001b[0;34m\u001b[0m\u001b[0m\n",
      "\u001b[0;32m/Users/jacobgollub/anaconda/lib/python2.7/site-packages/pandas/core/series.pyc\u001b[0m in \u001b[0;36mwrapper\u001b[0;34m(self)\u001b[0m\n\u001b[1;32m     91\u001b[0m             \u001b[0;32mreturn\u001b[0m \u001b[0mconverter\u001b[0m\u001b[0;34m(\u001b[0m\u001b[0mself\u001b[0m\u001b[0;34m.\u001b[0m\u001b[0miloc\u001b[0m\u001b[0;34m[\u001b[0m\u001b[0;36m0\u001b[0m\u001b[0;34m]\u001b[0m\u001b[0;34m)\u001b[0m\u001b[0;34m\u001b[0m\u001b[0m\n\u001b[1;32m     92\u001b[0m         raise TypeError(\"cannot convert the series to \"\n\u001b[0;32m---> 93\u001b[0;31m                         \"{0}\".format(str(converter)))\n\u001b[0m\u001b[1;32m     94\u001b[0m \u001b[0;34m\u001b[0m\u001b[0m\n\u001b[1;32m     95\u001b[0m     \u001b[0;32mreturn\u001b[0m \u001b[0mwrapper\u001b[0m\u001b[0;34m\u001b[0m\u001b[0m\n",
      "\u001b[0;31mTypeError\u001b[0m: cannot convert the series to <type 'int'>"
     ]
    }
   ],
   "source": [
    "df_pred['0'] = [int(df_pred['set_diff'][i]==1)]\n",
    "df_pred['1'] = [int(df_pred['set_diff'][i]==-1)]\n",
    "df_pred['01'] = [int(df_pred['set_score'][i]==[0,1])]\n",
    "df_pred['10'] = [int(df_pred['set_score'][i]==[0,1])]"
   ]
  },
  {
   "cell_type": "code",
   "execution_count": null,
   "metadata": {
    "collapsed": true
   },
   "outputs": [],
   "source": []
  },
  {
   "cell_type": "code",
   "execution_count": null,
   "metadata": {
    "collapsed": true
   },
   "outputs": [],
   "source": []
  },
  {
   "cell_type": "code",
   "execution_count": null,
   "metadata": {
    "collapsed": true
   },
   "outputs": [],
   "source": []
  },
  {
   "cell_type": "code",
   "execution_count": null,
   "metadata": {
    "collapsed": true
   },
   "outputs": [],
   "source": []
  },
  {
   "cell_type": "code",
   "execution_count": 31,
   "metadata": {
    "collapsed": false
   },
   "outputs": [],
   "source": [
    "# TO DO: for now, just say test is the 20% most recent matches\n",
    "c = int(len(df)*.8)\n",
    "df_pred['train'] = [1 if df_pred['match_id'][i] <= c else 0 for i in xrange(len(df_pred))]\n",
    "mask = df_pred['train']\n",
    "mask = mask==1\n",
    "# can also randomize later if you want...\n",
    "\n",
    "y = df_pred['winner']\n",
    "ytrain=y[mask]\n",
    "ytest=y[~mask]"
   ]
  },
  {
   "cell_type": "code",
   "execution_count": 41,
   "metadata": {
    "collapsed": false,
    "scrolled": true
   },
   "outputs": [
    {
     "name": "stdout",
     "output_type": "stream",
     "text": [
      "cols:  ['elo_diff', 'set_diff', 'game_diff', 'point_diff']\n",
      "0.487115344533 0.501355894087\n",
      "0.761507140592 0.750605088371\n",
      "cols:  ['elo_diff', 'set_diff', 'break_adv', 'point_diff']\n",
      "0.488017981414 0.503220617021\n",
      "0.759540518447 0.749033734849\n",
      "cols:  ['elo_diff', 'set_diff', 'game_diff', 'point_diff', 'break_adv']\n",
      "0.484903036576 0.499306684439\n",
      "0.762518929157 0.751463469549\n"
     ]
    }
   ],
   "source": [
    "# to do: set up another notebook with solely cross-validation framework and model testing...\n",
    "# test hyperparameters for these sklearn models\n",
    "cols = []\n",
    "cols.append(['elo_diff','set_diff','game_diff','point_diff'])\n",
    "cols.append(['elo_diff','set_diff','break_adv','point_diff'])\n",
    "cols.append(['elo_diff','set_diff','game_diff','point_diff','break_adv'])\n",
    "\n",
    "for col in cols:\n",
    "    Xtrain = df_pred[mask][col]; Xtest = df_pred[~mask][col]\n",
    "    clf = linear_model.LogisticRegression(fit_intercept = True)\n",
    "    clf.fit(Xtrain,ytrain)\n",
    "\n",
    "    probs_train,probs_test = clf.predict_proba(Xtrain),clf.predict_proba(Xtest)\n",
    "    train_loss, test_loss = log_loss(ytrain,probs_train,labels=[0,1]),log_loss(ytest,probs_test,labels=[0,1])\n",
    "    train_accuracy = clf.score(Xtrain, ytrain)\n",
    "    test_accuracy = clf.score(Xtest, ytest)\n",
    "    print 'cols: ',col\n",
    "    print 'classifier: ', clf\n",
    "    print train_loss, test_loss\n",
    "    print train_accuracy, test_accuracy"
   ]
  },
  {
   "cell_type": "code",
   "execution_count": 16,
   "metadata": {
    "collapsed": true
   },
   "outputs": [],
   "source": [
    "# Now, we'll visualize the win probability over the course of a given match, such as \n",
    "# the first one between Julian Reister vs Richard Gasquet"
   ]
  },
  {
   "cell_type": "code",
   "execution_count": 42,
   "metadata": {
    "collapsed": false
   },
   "outputs": [
    {
     "name": "stderr",
     "output_type": "stream",
     "text": [
      "/Users/jacobgollub/anaconda/lib/python2.7/site-packages/matplotlib/figure.py:402: UserWarning: matplotlib is currently using a non-GUI backend, so cannot show the figure\n",
      "  \"matplotlib is currently using a non-GUI backend, \"\n"
     ]
    },
    {
     "data": {
      "image/png": "[encoded data removed]",
      "text/plain": [
       "<matplotlib.figure.Figure at 0x120c98750>"
      ]
     },
     "metadata": {},
     "output_type": "display_data"
    }
   ],
   "source": [
    "# graphically, try to compare different probabilities of different models\n",
    "\n",
    "import matplotlib.pyplot as plt\n",
    "%matplotlib inline\n",
    "\n",
    "probs = np.concatenate((probs_train[:,0],probs_test[:,0]))\n",
    "df_pred['prob4'] = probs\n",
    "\n",
    "match1 = df_pred[df_pred['match_id']==0]\n",
    "m1_probs = match1['prob4']\n",
    "set_lengths = [len(a) for a in list(match1['current_score'])[-1].replace(';','').replace('/','').split('.')]\n",
    "fig = plt.figure(figsize=(8,4))\n",
    "ax = fig.add_subplot(1,1,1)\n",
    "ax.plot(np.arange(len(m1_probs)),1-m1_probs,'b-',linewidth=2.4)\n",
    "fig.suptitle('Richard Gasquet d. Julian Reister 6-7, 6-3, 6-3')\n",
    "ax.set_ylabel('Gasquet win probability')\n",
    "ax.set_xlabel('# points played')\n",
    "ax.axvline(set_lengths[0]); ax.axvline(sum(set_lengths[:2]))\n",
    "fig.show()"
   ]
  },
  {
   "cell_type": "markdown",
   "metadata": {},
   "source": [
    "One main problem we can see with this graph is that it seems too sensitive to service holds. The win probability should not shift back and forth 10% after each service hold in the opener. Also, because differentials do not tell us the point in match, or how close we are to conclusion, the win probability never passes 90%, even when Gasquet is at match point. However, I will continue to explore features, next adding service break advantage as a feature. Then, explore features that tell you how close the set is to over (maybe games required to win the set??) and momentum over recent points/games. How often do people win tiebreaks after giving up a break advantage?"
   ]
  },
  {
   "cell_type": "code",
   "execution_count": 1,
   "metadata": {
    "collapsed": false
   },
   "outputs": [],
   "source": [
    "# two indicator variables\n",
    "# (although, ultimately we want a probability of winning the current game from score)\n",
    "# actually, we want to combine everything into one function that will get\n",
    "# set score, game score, service breaks, break point indicator            \n",
    "    \n",
    "\n",
    "def down_break_point(s):\n",
    "    \n",
    "    return"
   ]
  },
  {
   "cell_type": "code",
   "execution_count": null,
   "metadata": {
    "collapsed": true
   },
   "outputs": [],
   "source": [
    "cols1 = ['elo_diff']\n",
    "cols2 = ['elo_diff','set_diff']\n",
    "cols3 = ['elo_diff','set_diff','game_diff']\n",
    "cols = ['elo_diff','set_diff','game_diff','point_diff']"
   ]
  },
  {
   "cell_type": "code",
   "execution_count": 98,
   "metadata": {
    "collapsed": false
   },
   "outputs": [
    {
     "name": "stdout",
     "output_type": "stream",
     "text": [
      "features:  ['elo_diff', 'set_diff', 'game_diff', 'point_diff']\n",
      "############# based on standard predict ################\n",
      "Accuracy on training data: 1.00\n",
      "Log Loss on training data: 0.00\n",
      "Log Loss on test data:     7.44\n"
     ]
    }
   ],
   "source": [
    "# either change do-classify to work for all classifiers or use this code\n",
    "# repeat this for random forest, neural net, adaboost, etc\n",
    "print 'features: ', cols\n",
    "clf = ensemble.RandomForestClassifier(n_estimators=10,max_features=None,oob_score=True)\n",
    "clf=clf.fit(Xtrain, ytrain)\n",
    "probs_train,probs_test = clf.predict_proba(Xtrain),clf.predict_proba(Xtest)\n",
    "train_loss, test_loss = log_loss(ytrain,probs_train,labels=[0,1]),log_loss(ytest,probs_test,labels=[0,1])\n",
    "train_accuracy = clf.oob_score_\n",
    "#test_accuracy = clf.oob_score(Xtest, ytest)\n",
    "print \"############# based on standard predict ################\"\n",
    "print \"Accuracy on training data: %0.2f\" % (train_accuracy)\n",
    "print \"Log Loss on training data: %0.2f\" % (train_loss)\n",
    "#print \"Accuracy on test data:     %0.2f\" % (test_accuracy)\n",
    "print \"Log Loss on test data:     %0.2f\" % (test_loss)"
   ]
  },
  {
   "cell_type": "code",
   "execution_count": 35,
   "metadata": {
    "collapsed": false
   },
   "outputs": [
    {
     "data": {
      "text/plain": [
       "0.5434447917276245"
      ]
     },
     "execution_count": 35,
     "metadata": {},
     "output_type": "execute_result"
    }
   ],
   "source": [
    "# next, 1) compare avg log_loss for prediction with sets, games, and points as features\n",
    "# 2) then try keeping track of service breaks as a feature\n",
    "# 3) the next step: does order matter?\n",
    "# see your notes for next steps\n",
    "\n",
    "probs = clflogELO.predict_proba(Xtest)\n",
    "log_loss(ytest,probs,labels=[0,1])"
   ]
  },
  {
   "cell_type": "code",
   "execution_count": null,
   "metadata": {
    "collapsed": true
   },
   "outputs": [],
   "source": []
  },
  {
   "cell_type": "code",
   "execution_count": null,
   "metadata": {
    "collapsed": true
   },
   "outputs": [],
   "source": []
  }
 ],
 "metadata": {
  "kernelspec": {
   "display_name": "Python 2",
   "language": "python",
   "name": "python2"
  },
  "language_info": {
   "codemirror_mode": {
    "name": "ipython",
    "version": 2
   },
   "file_extension": ".py",
   "mimetype": "text/x-python",
   "name": "python",
   "nbconvert_exporter": "python",
   "pygments_lexer": "ipython2",
   "version": "2.7.13"
  }
 },
 "nbformat": 4,
 "nbformat_minor": 0
}
